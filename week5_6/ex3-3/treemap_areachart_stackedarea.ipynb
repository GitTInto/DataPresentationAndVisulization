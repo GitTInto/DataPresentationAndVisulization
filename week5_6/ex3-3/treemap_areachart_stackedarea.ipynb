{
 "cells": [
  {
   "cell_type": "code",
   "execution_count": 5,
   "id": "e15808b7",
   "metadata": {},
   "outputs": [],
   "source": [
    "import pandas as pd\n",
    "import matplotlib.pyplot as plt\n",
    "import matplotlib\n",
    "from matplotlib import style\n",
    "import numpy as np\n",
    "import seaborn as sns\n",
    "import squarify"
   ]
  },
  {
   "cell_type": "code",
   "execution_count": 6,
   "id": "7cb41328",
   "metadata": {},
   "outputs": [
    {
     "data": {
      "text/html": [
       "<div>\n",
       "<style scoped>\n",
       "    .dataframe tbody tr th:only-of-type {\n",
       "        vertical-align: middle;\n",
       "    }\n",
       "\n",
       "    .dataframe tbody tr th {\n",
       "        vertical-align: top;\n",
       "    }\n",
       "\n",
       "    .dataframe thead th {\n",
       "        text-align: right;\n",
       "    }\n",
       "</style>\n",
       "<table border=\"1\" class=\"dataframe\">\n",
       "  <thead>\n",
       "    <tr style=\"text-align: right;\">\n",
       "      <th></th>\n",
       "      <th>year</th>\n",
       "      <th>category</th>\n",
       "      <th>expenditure</th>\n",
       "      <th>sex</th>\n",
       "    </tr>\n",
       "  </thead>\n",
       "  <tbody>\n",
       "    <tr>\n",
       "      <th>0</th>\n",
       "      <td>2008</td>\n",
       "      <td>Food</td>\n",
       "      <td>6443</td>\n",
       "      <td>1</td>\n",
       "    </tr>\n",
       "    <tr>\n",
       "      <th>1</th>\n",
       "      <td>2008</td>\n",
       "      <td>Alcoholic Beverages</td>\n",
       "      <td>444</td>\n",
       "      <td>1</td>\n",
       "    </tr>\n",
       "    <tr>\n",
       "      <th>2</th>\n",
       "      <td>2008</td>\n",
       "      <td>Housing</td>\n",
       "      <td>17109</td>\n",
       "      <td>1</td>\n",
       "    </tr>\n",
       "    <tr>\n",
       "      <th>3</th>\n",
       "      <td>2008</td>\n",
       "      <td>Apparel</td>\n",
       "      <td>1801</td>\n",
       "      <td>1</td>\n",
       "    </tr>\n",
       "    <tr>\n",
       "      <th>4</th>\n",
       "      <td>2008</td>\n",
       "      <td>Transportation</td>\n",
       "      <td>8604</td>\n",
       "      <td>1</td>\n",
       "    </tr>\n",
       "  </tbody>\n",
       "</table>\n",
       "</div>"
      ],
      "text/plain": [
       "   year             category  expenditure  sex\n",
       "0  2008                 Food         6443    1\n",
       "1  2008  Alcoholic Beverages          444    1\n",
       "2  2008              Housing        17109    1\n",
       "3  2008              Apparel         1801    1\n",
       "4  2008       Transportation         8604    1"
      ]
     },
     "execution_count": 6,
     "metadata": {},
     "output_type": "execute_result"
    }
   ],
   "source": [
    "addr = './expenditures.txt'\n",
    "df_exp = pd.read_table(addr)\n",
    "df_exp.head()"
   ]
  },
  {
   "cell_type": "code",
   "execution_count": 7,
   "id": "09f9b202",
   "metadata": {},
   "outputs": [
    {
     "data": {
      "text/html": [
       "<div>\n",
       "<style scoped>\n",
       "    .dataframe tbody tr th:only-of-type {\n",
       "        vertical-align: middle;\n",
       "    }\n",
       "\n",
       "    .dataframe tbody tr th {\n",
       "        vertical-align: top;\n",
       "    }\n",
       "\n",
       "    .dataframe thead th {\n",
       "        text-align: right;\n",
       "    }\n",
       "</style>\n",
       "<table border=\"1\" class=\"dataframe\">\n",
       "  <thead>\n",
       "    <tr style=\"text-align: right;\">\n",
       "      <th></th>\n",
       "      <th>Series id</th>\n",
       "      <th>Year</th>\n",
       "      <th>Period</th>\n",
       "      <th>Value</th>\n",
       "    </tr>\n",
       "  </thead>\n",
       "  <tbody>\n",
       "    <tr>\n",
       "      <th>0</th>\n",
       "      <td>LNS14000000</td>\n",
       "      <td>1948</td>\n",
       "      <td>M01</td>\n",
       "      <td>3.4</td>\n",
       "    </tr>\n",
       "    <tr>\n",
       "      <th>1</th>\n",
       "      <td>LNS14000000</td>\n",
       "      <td>1948</td>\n",
       "      <td>M02</td>\n",
       "      <td>3.8</td>\n",
       "    </tr>\n",
       "    <tr>\n",
       "      <th>2</th>\n",
       "      <td>LNS14000000</td>\n",
       "      <td>1948</td>\n",
       "      <td>M03</td>\n",
       "      <td>4.0</td>\n",
       "    </tr>\n",
       "    <tr>\n",
       "      <th>3</th>\n",
       "      <td>LNS14000000</td>\n",
       "      <td>1948</td>\n",
       "      <td>M04</td>\n",
       "      <td>3.9</td>\n",
       "    </tr>\n",
       "    <tr>\n",
       "      <th>4</th>\n",
       "      <td>LNS14000000</td>\n",
       "      <td>1948</td>\n",
       "      <td>M05</td>\n",
       "      <td>3.5</td>\n",
       "    </tr>\n",
       "  </tbody>\n",
       "</table>\n",
       "</div>"
      ],
      "text/plain": [
       "     Series id  Year Period  Value\n",
       "0  LNS14000000  1948    M01    3.4\n",
       "1  LNS14000000  1948    M02    3.8\n",
       "2  LNS14000000  1948    M03    4.0\n",
       "3  LNS14000000  1948    M04    3.9\n",
       "4  LNS14000000  1948    M05    3.5"
      ]
     },
     "execution_count": 7,
     "metadata": {},
     "output_type": "execute_result"
    }
   ],
   "source": [
    "addr1 = \"./unemployement-rate-1948-2010.csv\"\n",
    "df_unemp = pd.read_csv(addr1 )\n",
    "df_unemp.head()"
   ]
  },
  {
   "cell_type": "markdown",
   "id": "6f987b98",
   "metadata": {},
   "source": [
    "## Area Chart"
   ]
  },
  {
   "cell_type": "code",
   "execution_count": 8,
   "id": "4a0cdc50",
   "metadata": {},
   "outputs": [
    {
     "data": {
      "image/png": "[encoded data removed]",
      "text/plain": [
       "<Figure size 864x3456 with 62 Axes>"
      ]
     },
     "metadata": {
      "needs_background": "light"
     },
     "output_type": "display_data"
    }
   ],
   "source": [
    "g = sns.FacetGrid(df_unemp, col='Year', hue='Year', col_wrap=4, )\n",
    "g = g.map(plt.plot, 'Period', 'Value')\n",
    "g = g.map(plt.fill_between, 'Period', 'Value', alpha=0.6).set_titles(\"{col_name} Year\")\n",
    "g = g.set_titles(\"{col_name}\")\n",
    "plt.subplots_adjust(top=0.92)\n",
    "g = g.fig.suptitle('Area chart of unemployement-rate-1948-2010 per month')\n",
    "plt.show()"
   ]
  },
  {
   "cell_type": "markdown",
   "id": "e5a3e52e",
   "metadata": {},
   "source": [
    "## Stacked Area Chart"
   ]
  },
  {
   "cell_type": "code",
   "execution_count": 27,
   "id": "8bae55fd",
   "metadata": {},
   "outputs": [
    {
     "data": {
      "application/vnd.plotly.v1+json": {
       "config": {
        "plotlyServerURL": "https://plot.ly"
       },
       "data": [
        {
         "hovertemplate": "Year=1948<br>Period=%{x}<br>Value=%{y}<extra></extra>",
         "legendgroup": "1948",
         "line": {
          "color": "#636efa"
         },
         "mode": "lines",
         "name": "1948",
         "orientation": "v",
         "showlegend": true,
         "stackgroup": "1",
         "type": "scatter",
         "x": [
          "M01",
          "M02",
          "M03",
          "M04",
          "M05",
          "M06",
          "M07",
          "M08",
          "M09",
          "M10",
          "M11",
          "M12"
         ],
         "xaxis": "x",
         "y": [
          3.4,
          3.8,
          4,
          3.9,
          3.5,
          3.6,
          3.6,
          3.9,
          3.8,
          3.7,
          3.8,
          4
         ],
         "yaxis": "y"
        },
        {
         "hovertemplate": "Year=1949<br>Period=%{x}<br>Value=%{y}<extra></extra>",
         "legendgroup": "1949",
         "line": {
          "color": "#EF553B"
         },
         "mode": "lines",
         "name": "1949",
         "orientation": "v",
         "showlegend": true,
         "stackgroup": "1",
         "type": "scatter",
         "x": [
          "M01",
          "M02",
          "M03",
          "M04",
          "M05",
          "M06",
          "M07",
          "M08",
          "M09",
          "M10",
          "M11",
          "M12"
         ],
         "xaxis": "x",
         "y": [
          4.3,
          4.7,
          5,
          5.3,
          6.1,
          6.2,
          6.7,
          6.8,
          6.6,
          7.9,
          6.4,
          6.6
         ],
         "yaxis": "y"
        },
        {
         "hovertemplate": "Year=1950<br>Period=%{x}<br>Value=%{y}<extra></extra>",
         "legendgroup": "1950",
         "line": {
          "color": "#00cc96"
         },
         "mode": "lines",
         "name": "1950",
         "orientation": "v",
         "showlegend": true,
         "stackgroup": "1",
         "type": "scatter",
         "x": [
          "M01",
          "M02",
          "M03",
          "M04",
          "M05",
          "M06",
          "M07",
          "M08",
          "M09",
          "M10",
          "M11",
          "M12"
         ],
         "xaxis": "x",
         "y": [
          6.5,
          6.4,
          6.3,
          5.8,
          5.5,
          5.4,
          5,
          4.5,
          4.4,
          4.2,
          4.2,
          4.3
         ],
         "yaxis": "y"
        },
        {
         "hovertemplate": "Year=1951<br>Period=%{x}<br>Value=%{y}<extra></extra>",
         "legendgroup": "1951",
         "line": {
          "color": "#ab63fa"
         },
         "mode": "lines",
         "name": "1951",
         "orientation": "v",
         "showlegend": true,
         "stackgroup": "1",
         "type": "scatter",
         "x": [
          "M01",
          "M02",
          "M03",
          "M04",
          "M05",
          "M06",
          "M07",
          "M08",
          "M09",
          "M10",
          "M11",
          "M12"
         ],
         "xaxis": "x",
         "y": [
          3.7,
          3.4,
          3.4,
          3.1,
          3,
          3.2,
          3.1,
          3.1,
          3.3,
          3.5,
          3.5,
          3.1
         ],
         "yaxis": "y"
        },
        {
         "hovertemplate": "Year=1952<br>Period=%{x}<br>Value=%{y}<extra></extra>",
         "legendgroup": "1952",
         "line": {
          "color": "#FFA15A"
         },
         "mode": "lines",
         "name": "1952",
         "orientation": "v",
         "showlegend": true,
         "stackgroup": "1",
         "type": "scatter",
         "x": [
          "M01",
          "M02",
          "M03",
          "M04",
          "M05",
          "M06",
          "M07",
          "M08",
          "M09",
          "M10",
          "M11",
          "M12"
         ],
         "xaxis": "x",
         "y": [
          3.2,
          3.1,
          2.9,
          2.9,
          3,
          3,
          3.2,
          3.4,
          3.1,
          3,
          2.8,
          2.7
         ],
         "yaxis": "y"
        },
        {
         "hovertemplate": "Year=1953<br>Period=%{x}<br>Value=%{y}<extra></extra>",
         "legendgroup": "1953",
         "line": {
          "color": "#19d3f3"
         },
         "mode": "lines",
         "name": "1953",
         "orientation": "v",
         "showlegend": true,
         "stackgroup": "1",
         "type": "scatter",
         "x": [
          "M01",
          "M02",
          "M03",
          "M04",
          "M05",
          "M06",
          "M07",
          "M08",
          "M09",
          "M10",
          "M11",
          "M12"
         ],
         "xaxis": "x",
         "y": [
          2.9,
          2.6,
          2.6,
          2.7,
          2.5,
          2.5,
          2.6,
          2.7,
          2.9,
          3.1,
          3.5,
          4.5
         ],
         "yaxis": "y"
        },
        {
         "hovertemplate": "Year=1954<br>Period=%{x}<br>Value=%{y}<extra></extra>",
         "legendgroup": "1954",
         "line": {
          "color": "#FF6692"
         },
         "mode": "lines",
         "name": "1954",
         "orientation": "v",
         "showlegend": true,
         "stackgroup": "1",
         "type": "scatter",
         "x": [
          "M01",
          "M02",
          "M03",
          "M04",
          "M05",
          "M06",
          "M07",
          "M08",
          "M09",
          "M10",
          "M11",
          "M12"
         ],
         "xaxis": "x",
         "y": [
          4.9,
          5.2,
          5.7,
          5.9,
          5.9,
          5.6,
          5.8,
          6,
          6.1,
          5.7,
          5.3,
          5
         ],
         "yaxis": "y"
        },
        {
         "hovertemplate": "Year=1955<br>Period=%{x}<br>Value=%{y}<extra></extra>",
         "legendgroup": "1955",
         "line": {
          "color": "#B6E880"
         },
         "mode": "lines",
         "name": "1955",
         "orientation": "v",
         "showlegend": true,
         "stackgroup": "1",
         "type": "scatter",
         "x": [
          "M01",
          "M02",
          "M03",
          "M04",
          "M05",
          "M06",
          "M07",
          "M08",
          "M09",
          "M10",
          "M11",
          "M12"
         ],
         "xaxis": "x",
         "y": [
          4.9,
          4.7,
          4.6,
          4.7,
          4.3,
          4.2,
          4,
          4.2,
          4.1,
          4.3,
          4.2,
          4.2
         ],
         "yaxis": "y"
        },
        {
         "hovertemplate": "Year=1956<br>Period=%{x}<br>Value=%{y}<extra></extra>",
         "legendgroup": "1956",
         "line": {
          "color": "#FF97FF"
         },
         "mode": "lines",
         "name": "1956",
         "orientation": "v",
         "showlegend": true,
         "stackgroup": "1",
         "type": "scatter",
         "x": [
          "M01",
          "M02",
          "M03",
          "M04",
          "M05",
          "M06",
          "M07",
          "M08",
          "M09",
          "M10",
          "M11",
          "M12"
         ],
         "xaxis": "x",
         "y": [
          4,
          3.9,
          4.2,
          4,
          4.3,
          4.3,
          4.4,
          4.1,
          3.9,
          3.9,
          4.3,
          4.2
         ],
         "yaxis": "y"
        },
        {
         "hovertemplate": "Year=1957<br>Period=%{x}<br>Value=%{y}<extra></extra>",
         "legendgroup": "1957",
         "line": {
          "color": "#FECB52"
         },
         "mode": "lines",
         "name": "1957",
         "orientation": "v",
         "showlegend": true,
         "stackgroup": "1",
         "type": "scatter",
         "x": [
          "M01",
          "M02",
          "M03",
          "M04",
          "M05",
          "M06",
          "M07",
          "M08",
          "M09",
          "M10",
          "M11",
          "M12"
         ],
         "xaxis": "x",
         "y": [
          4.2,
          3.9,
          3.7,
          3.9,
          4.1,
          4.3,
          4.2,
          4.1,
          4.4,
          4.5,
          5.1,
          5.2
         ],
         "yaxis": "y"
        },
        {
         "hovertemplate": "Year=1958<br>Period=%{x}<br>Value=%{y}<extra></extra>",
         "legendgroup": "1958",
         "line": {
          "color": "#636efa"
         },
         "mode": "lines",
         "name": "1958",
         "orientation": "v",
         "showlegend": true,
         "stackgroup": "1",
         "type": "scatter",
         "x": [
          "M01",
          "M02",
          "M03",
          "M04",
          "M05",
          "M06",
          "M07",
          "M08",
          "M09",
          "M10",
          "M11",
          "M12"
         ],
         "xaxis": "x",
         "y": [
          5.8,
          6.4,
          6.7,
          7.4,
          7.4,
          7.3,
          7.5,
          7.4,
          7.1,
          6.7,
          6.2,
          6.2
         ],
         "yaxis": "y"
        },
        {
         "hovertemplate": "Year=1959<br>Period=%{x}<br>Value=%{y}<extra></extra>",
         "legendgroup": "1959",
         "line": {
          "color": "#EF553B"
         },
         "mode": "lines",
         "name": "1959",
         "orientation": "v",
         "showlegend": true,
         "stackgroup": "1",
         "type": "scatter",
         "x": [
          "M01",
          "M02",
          "M03",
          "M04",
          "M05",
          "M06",
          "M07",
          "M08",
          "M09",
          "M10",
          "M11",
          "M12"
         ],
         "xaxis": "x",
         "y": [
          6,
          5.9,
          5.6,
          5.2,
          5.1,
          5,
          5.1,
          5.2,
          5.5,
          5.7,
          5.8,
          5.3
         ],
         "yaxis": "y"
        },
        {
         "hovertemplate": "Year=1960<br>Period=%{x}<br>Value=%{y}<extra></extra>",
         "legendgroup": "1960",
         "line": {
          "color": "#00cc96"
         },
         "mode": "lines",
         "name": "1960",
         "orientation": "v",
         "showlegend": true,
         "stackgroup": "1",
         "type": "scatter",
         "x": [
          "M01",
          "M02",
          "M03",
          "M04",
          "M05",
          "M06",
          "M07",
          "M08",
          "M09",
          "M10",
          "M11",
          "M12"
         ],
         "xaxis": "x",
         "y": [
          5.2,
          4.8,
          5.4,
          5.2,
          5.1,
          5.4,
          5.5,
          5.6,
          5.5,
          6.1,
          6.1,
          6.6
         ],
         "yaxis": "y"
        },
        {
         "hovertemplate": "Year=1961<br>Period=%{x}<br>Value=%{y}<extra></extra>",
         "legendgroup": "1961",
         "line": {
          "color": "#ab63fa"
         },
         "mode": "lines",
         "name": "1961",
         "orientation": "v",
         "showlegend": true,
         "stackgroup": "1",
         "type": "scatter",
         "x": [
          "M01",
          "M02",
          "M03",
          "M04",
          "M05",
          "M06",
          "M07",
          "M08",
          "M09",
          "M10",
          "M11",
          "M12"
         ],
         "xaxis": "x",
         "y": [
          6.6,
          6.9,
          6.9,
          7,
          7.1,
          6.9,
          7,
          6.6,
          6.7,
          6.5,
          6.1,
          6
         ],
         "yaxis": "y"
        },
        {
         "hovertemplate": "Year=1962<br>Period=%{x}<br>Value=%{y}<extra></extra>",
         "legendgroup": "1962",
         "line": {
          "color": "#FFA15A"
         },
         "mode": "lines",
         "name": "1962",
         "orientation": "v",
         "showlegend": true,
         "stackgroup": "1",
         "type": "scatter",
         "x": [
          "M01",
          "M02",
          "M03",
          "M04",
          "M05",
          "M06",
          "M07",
          "M08",
          "M09",
          "M10",
          "M11",
          "M12"
         ],
         "xaxis": "x",
         "y": [
          5.8,
          5.5,
          5.6,
          5.6,
          5.5,
          5.5,
          5.4,
          5.7,
          5.6,
          5.4,
          5.7,
          5.5
         ],
         "yaxis": "y"
        },
        {
         "hovertemplate": "Year=1963<br>Period=%{x}<br>Value=%{y}<extra></extra>",
         "legendgroup": "1963",
         "line": {
          "color": "#19d3f3"
         },
         "mode": "lines",
         "name": "1963",
         "orientation": "v",
         "showlegend": true,
         "stackgroup": "1",
         "type": "scatter",
         "x": [
          "M01",
          "M02",
          "M03",
          "M04",
          "M05",
          "M06",
          "M07",
          "M08",
          "M09",
          "M10",
          "M11",
          "M12"
         ],
         "xaxis": "x",
         "y": [
          5.7,
          5.9,
          5.7,
          5.7,
          5.9,
          5.6,
          5.6,
          5.4,
          5.5,
          5.5,
          5.7,
          5.5
         ],
         "yaxis": "y"
        },
        {
         "hovertemplate": "Year=1964<br>Period=%{x}<br>Value=%{y}<extra></extra>",
         "legendgroup": "1964",
         "line": {
          "color": "#FF6692"
         },
         "mode": "lines",
         "name": "1964",
         "orientation": "v",
         "showlegend": true,
         "stackgroup": "1",
         "type": "scatter",
         "x": [
          "M01",
          "M02",
          "M03",
          "M04",
          "M05",
          "M06",
          "M07",
          "M08",
          "M09",
          "M10",
          "M11",
          "M12"
         ],
         "xaxis": "x",
         "y": [
          5.6,
          5.4,
          5.4,
          5.3,
          5.1,
          5.2,
          4.9,
          5,
          5.1,
          5.1,
          4.8,
          5
         ],
         "yaxis": "y"
        },
        {
         "hovertemplate": "Year=1965<br>Period=%{x}<br>Value=%{y}<extra></extra>",
         "legendgroup": "1965",
         "line": {
          "color": "#B6E880"
         },
         "mode": "lines",
         "name": "1965",
         "orientation": "v",
         "showlegend": true,
         "stackgroup": "1",
         "type": "scatter",
         "x": [
          "M01",
          "M02",
          "M03",
          "M04",
          "M05",
          "M06",
          "M07",
          "M08",
          "M09",
          "M10",
          "M11",
          "M12"
         ],
         "xaxis": "x",
         "y": [
          4.9,
          5.1,
          4.7,
          4.8,
          4.6,
          4.6,
          4.4,
          4.4,
          4.3,
          4.2,
          4.1,
          4
         ],
         "yaxis": "y"
        },
        {
         "hovertemplate": "Year=1966<br>Period=%{x}<br>Value=%{y}<extra></extra>",
         "legendgroup": "1966",
         "line": {
          "color": "#FF97FF"
         },
         "mode": "lines",
         "name": "1966",
         "orientation": "v",
         "showlegend": true,
         "stackgroup": "1",
         "type": "scatter",
         "x": [
          "M01",
          "M02",
          "M03",
          "M04",
          "M05",
          "M06",
          "M07",
          "M08",
          "M09",
          "M10",
          "M11",
          "M12"
         ],
         "xaxis": "x",
         "y": [
          4,
          3.8,
          3.8,
          3.8,
          3.9,
          3.8,
          3.8,
          3.8,
          3.7,
          3.7,
          3.6,
          3.8
         ],
         "yaxis": "y"
        },
        {
         "hovertemplate": "Year=1967<br>Period=%{x}<br>Value=%{y}<extra></extra>",
         "legendgroup": "1967",
         "line": {
          "color": "#FECB52"
         },
         "mode": "lines",
         "name": "1967",
         "orientation": "v",
         "showlegend": true,
         "stackgroup": "1",
         "type": "scatter",
         "x": [
          "M01",
          "M02",
          "M03",
          "M04",
          "M05",
          "M06",
          "M07",
          "M08",
          "M09",
          "M10",
          "M11",
          "M12"
         ],
         "xaxis": "x",
         "y": [
          3.9,
          3.8,
          3.8,
          3.8,
          3.8,
          3.9,
          3.8,
          3.8,
          3.8,
          4,
          3.9,
          3.8
         ],
         "yaxis": "y"
        },
        {
         "hovertemplate": "Year=1968<br>Period=%{x}<br>Value=%{y}<extra></extra>",
         "legendgroup": "1968",
         "line": {
          "color": "#636efa"
         },
         "mode": "lines",
         "name": "1968",
         "orientation": "v",
         "showlegend": true,
         "stackgroup": "1",
         "type": "scatter",
         "x": [
          "M01",
          "M02",
          "M03",
          "M04",
          "M05",
          "M06",
          "M07",
          "M08",
          "M09",
          "M10",
          "M11",
          "M12"
         ],
         "xaxis": "x",
         "y": [
          3.7,
          3.8,
          3.7,
          3.5,
          3.5,
          3.7,
          3.7,
          3.5,
          3.4,
          3.4,
          3.4,
          3.4
         ],
         "yaxis": "y"
        },
        {
         "hovertemplate": "Year=1969<br>Period=%{x}<br>Value=%{y}<extra></extra>",
         "legendgroup": "1969",
         "line": {
          "color": "#EF553B"
         },
         "mode": "lines",
         "name": "1969",
         "orientation": "v",
         "showlegend": true,
         "stackgroup": "1",
         "type": "scatter",
         "x": [
          "M01",
          "M02",
          "M03",
          "M04",
          "M05",
          "M06",
          "M07",
          "M08",
          "M09",
          "M10",
          "M11",
          "M12"
         ],
         "xaxis": "x",
         "y": [
          3.4,
          3.4,
          3.4,
          3.4,
          3.4,
          3.5,
          3.5,
          3.5,
          3.7,
          3.7,
          3.5,
          3.5
         ],
         "yaxis": "y"
        },
        {
         "hovertemplate": "Year=1970<br>Period=%{x}<br>Value=%{y}<extra></extra>",
         "legendgroup": "1970",
         "line": {
          "color": "#00cc96"
         },
         "mode": "lines",
         "name": "1970",
         "orientation": "v",
         "showlegend": true,
         "stackgroup": "1",
         "type": "scatter",
         "x": [
          "M01",
          "M02",
          "M03",
          "M04",
          "M05",
          "M06",
          "M07",
          "M08",
          "M09",
          "M10",
          "M11",
          "M12"
         ],
         "xaxis": "x",
         "y": [
          3.9,
          4.2,
          4.4,
          4.6,
          4.8,
          4.9,
          5,
          5.1,
          5.4,
          5.5,
          5.9,
          6.1
         ],
         "yaxis": "y"
        },
        {
         "hovertemplate": "Year=1971<br>Period=%{x}<br>Value=%{y}<extra></extra>",
         "legendgroup": "1971",
         "line": {
          "color": "#ab63fa"
         },
         "mode": "lines",
         "name": "1971",
         "orientation": "v",
         "showlegend": true,
         "stackgroup": "1",
         "type": "scatter",
         "x": [
          "M01",
          "M02",
          "M03",
          "M04",
          "M05",
          "M06",
          "M07",
          "M08",
          "M09",
          "M10",
          "M11",
          "M12"
         ],
         "xaxis": "x",
         "y": [
          5.9,
          5.9,
          6,
          5.9,
          5.9,
          5.9,
          6,
          6.1,
          6,
          5.8,
          6,
          6
         ],
         "yaxis": "y"
        },
        {
         "hovertemplate": "Year=1972<br>Period=%{x}<br>Value=%{y}<extra></extra>",
         "legendgroup": "1972",
         "line": {
          "color": "#FFA15A"
         },
         "mode": "lines",
         "name": "1972",
         "orientation": "v",
         "showlegend": true,
         "stackgroup": "1",
         "type": "scatter",
         "x": [
          "M01",
          "M02",
          "M03",
          "M04",
          "M05",
          "M06",
          "M07",
          "M08",
          "M09",
          "M10",
          "M11",
          "M12"
         ],
         "xaxis": "x",
         "y": [
          5.8,
          5.7,
          5.8,
          5.7,
          5.7,
          5.7,
          5.6,
          5.6,
          5.5,
          5.6,
          5.3,
          5.2
         ],
         "yaxis": "y"
        },
        {
         "hovertemplate": "Year=1973<br>Period=%{x}<br>Value=%{y}<extra></extra>",
         "legendgroup": "1973",
         "line": {
          "color": "#19d3f3"
         },
         "mode": "lines",
         "name": "1973",
         "orientation": "v",
         "showlegend": true,
         "stackgroup": "1",
         "type": "scatter",
         "x": [
          "M01",
          "M02",
          "M03",
          "M04",
          "M05",
          "M06",
          "M07",
          "M08",
          "M09",
          "M10",
          "M11",
          "M12"
         ],
         "xaxis": "x",
         "y": [
          4.9,
          5,
          4.9,
          5,
          4.9,
          4.9,
          4.8,
          4.8,
          4.8,
          4.6,
          4.8,
          4.9
         ],
         "yaxis": "y"
        },
        {
         "hovertemplate": "Year=1974<br>Period=%{x}<br>Value=%{y}<extra></extra>",
         "legendgroup": "1974",
         "line": {
          "color": "#FF6692"
         },
         "mode": "lines",
         "name": "1974",
         "orientation": "v",
         "showlegend": true,
         "stackgroup": "1",
         "type": "scatter",
         "x": [
          "M01",
          "M02",
          "M03",
          "M04",
          "M05",
          "M06",
          "M07",
          "M08",
          "M09",
          "M10",
          "M11",
          "M12"
         ],
         "xaxis": "x",
         "y": [
          5.1,
          5.2,
          5.1,
          5.1,
          5.1,
          5.4,
          5.5,
          5.5,
          5.9,
          6,
          6.6,
          7.2
         ],
         "yaxis": "y"
        },
        {
         "hovertemplate": "Year=1975<br>Period=%{x}<br>Value=%{y}<extra></extra>",
         "legendgroup": "1975",
         "line": {
          "color": "#B6E880"
         },
         "mode": "lines",
         "name": "1975",
         "orientation": "v",
         "showlegend": true,
         "stackgroup": "1",
         "type": "scatter",
         "x": [
          "M01",
          "M02",
          "M03",
          "M04",
          "M05",
          "M06",
          "M07",
          "M08",
          "M09",
          "M10",
          "M11",
          "M12"
         ],
         "xaxis": "x",
         "y": [
          8.1,
          8.1,
          8.6,
          8.8,
          9,
          8.8,
          8.6,
          8.4,
          8.4,
          8.4,
          8.3,
          8.2
         ],
         "yaxis": "y"
        },
        {
         "hovertemplate": "Year=1976<br>Period=%{x}<br>Value=%{y}<extra></extra>",
         "legendgroup": "1976",
         "line": {
          "color": "#FF97FF"
         },
         "mode": "lines",
         "name": "1976",
         "orientation": "v",
         "showlegend": true,
         "stackgroup": "1",
         "type": "scatter",
         "x": [
          "M01",
          "M02",
          "M03",
          "M04",
          "M05",
          "M06",
          "M07",
          "M08",
          "M09",
          "M10",
          "M11",
          "M12"
         ],
         "xaxis": "x",
         "y": [
          7.9,
          7.7,
          7.6,
          7.7,
          7.4,
          7.6,
          7.8,
          7.8,
          7.6,
          7.7,
          7.8,
          7.8
         ],
         "yaxis": "y"
        },
        {
         "hovertemplate": "Year=1977<br>Period=%{x}<br>Value=%{y}<extra></extra>",
         "legendgroup": "1977",
         "line": {
          "color": "#FECB52"
         },
         "mode": "lines",
         "name": "1977",
         "orientation": "v",
         "showlegend": true,
         "stackgroup": "1",
         "type": "scatter",
         "x": [
          "M01",
          "M02",
          "M03",
          "M04",
          "M05",
          "M06",
          "M07",
          "M08",
          "M09",
          "M10",
          "M11",
          "M12"
         ],
         "xaxis": "x",
         "y": [
          7.5,
          7.6,
          7.4,
          7.2,
          7,
          7.2,
          6.9,
          7,
          6.8,
          6.8,
          6.8,
          6.4
         ],
         "yaxis": "y"
        },
        {
         "hovertemplate": "Year=1978<br>Period=%{x}<br>Value=%{y}<extra></extra>",
         "legendgroup": "1978",
         "line": {
          "color": "#636efa"
         },
         "mode": "lines",
         "name": "1978",
         "orientation": "v",
         "showlegend": true,
         "stackgroup": "1",
         "type": "scatter",
         "x": [
          "M01",
          "M02",
          "M03",
          "M04",
          "M05",
          "M06",
          "M07",
          "M08",
          "M09",
          "M10",
          "M11",
          "M12"
         ],
         "xaxis": "x",
         "y": [
          6.4,
          6.3,
          6.3,
          6.1,
          6,
          5.9,
          6.2,
          5.9,
          6,
          5.8,
          5.9,
          6
         ],
         "yaxis": "y"
        },
        {
         "hovertemplate": "Year=1979<br>Period=%{x}<br>Value=%{y}<extra></extra>",
         "legendgroup": "1979",
         "line": {
          "color": "#EF553B"
         },
         "mode": "lines",
         "name": "1979",
         "orientation": "v",
         "showlegend": true,
         "stackgroup": "1",
         "type": "scatter",
         "x": [
          "M01",
          "M02",
          "M03",
          "M04",
          "M05",
          "M06",
          "M07",
          "M08",
          "M09",
          "M10",
          "M11",
          "M12"
         ],
         "xaxis": "x",
         "y": [
          5.9,
          5.9,
          5.8,
          5.8,
          5.6,
          5.7,
          5.7,
          6,
          5.9,
          6,
          5.9,
          6
         ],
         "yaxis": "y"
        },
        {
         "hovertemplate": "Year=1980<br>Period=%{x}<br>Value=%{y}<extra></extra>",
         "legendgroup": "1980",
         "line": {
          "color": "#00cc96"
         },
         "mode": "lines",
         "name": "1980",
         "orientation": "v",
         "showlegend": true,
         "stackgroup": "1",
         "type": "scatter",
         "x": [
          "M01",
          "M02",
          "M03",
          "M04",
          "M05",
          "M06",
          "M07",
          "M08",
          "M09",
          "M10",
          "M11",
          "M12"
         ],
         "xaxis": "x",
         "y": [
          6.3,
          6.3,
          6.3,
          6.9,
          7.5,
          7.6,
          7.8,
          7.7,
          7.5,
          7.5,
          7.5,
          7.2
         ],
         "yaxis": "y"
        },
        {
         "hovertemplate": "Year=1981<br>Period=%{x}<br>Value=%{y}<extra></extra>",
         "legendgroup": "1981",
         "line": {
          "color": "#ab63fa"
         },
         "mode": "lines",
         "name": "1981",
         "orientation": "v",
         "showlegend": true,
         "stackgroup": "1",
         "type": "scatter",
         "x": [
          "M01",
          "M02",
          "M03",
          "M04",
          "M05",
          "M06",
          "M07",
          "M08",
          "M09",
          "M10",
          "M11",
          "M12"
         ],
         "xaxis": "x",
         "y": [
          7.5,
          7.4,
          7.4,
          7.2,
          7.5,
          7.5,
          7.2,
          7.4,
          7.6,
          7.9,
          8.3,
          8.5
         ],
         "yaxis": "y"
        },
        {
         "hovertemplate": "Year=1982<br>Period=%{x}<br>Value=%{y}<extra></extra>",
         "legendgroup": "1982",
         "line": {
          "color": "#FFA15A"
         },
         "mode": "lines",
         "name": "1982",
         "orientation": "v",
         "showlegend": true,
         "stackgroup": "1",
         "type": "scatter",
         "x": [
          "M01",
          "M02",
          "M03",
          "M04",
          "M05",
          "M06",
          "M07",
          "M08",
          "M09",
          "M10",
          "M11",
          "M12"
         ],
         "xaxis": "x",
         "y": [
          8.6,
          8.9,
          9,
          9.3,
          9.4,
          9.6,
          9.8,
          9.8,
          10.1,
          10.4,
          10.8,
          10.8
         ],
         "yaxis": "y"
        },
        {
         "hovertemplate": "Year=1983<br>Period=%{x}<br>Value=%{y}<extra></extra>",
         "legendgroup": "1983",
         "line": {
          "color": "#19d3f3"
         },
         "mode": "lines",
         "name": "1983",
         "orientation": "v",
         "showlegend": true,
         "stackgroup": "1",
         "type": "scatter",
         "x": [
          "M01",
          "M02",
          "M03",
          "M04",
          "M05",
          "M06",
          "M07",
          "M08",
          "M09",
          "M10",
          "M11",
          "M12"
         ],
         "xaxis": "x",
         "y": [
          10.4,
          10.4,
          10.3,
          10.2,
          10.1,
          10.1,
          9.4,
          9.5,
          9.2,
          8.8,
          8.5,
          8.3
         ],
         "yaxis": "y"
        },
        {
         "hovertemplate": "Year=1984<br>Period=%{x}<br>Value=%{y}<extra></extra>",
         "legendgroup": "1984",
         "line": {
          "color": "#FF6692"
         },
         "mode": "lines",
         "name": "1984",
         "orientation": "v",
         "showlegend": true,
         "stackgroup": "1",
         "type": "scatter",
         "x": [
          "M01",
          "M02",
          "M03",
          "M04",
          "M05",
          "M06",
          "M07",
          "M08",
          "M09",
          "M10",
          "M11",
          "M12"
         ],
         "xaxis": "x",
         "y": [
          8,
          7.8,
          7.8,
          7.7,
          7.4,
          7.2,
          7.5,
          7.5,
          7.3,
          7.4,
          7.2,
          7.3
         ],
         "yaxis": "y"
        },
        {
         "hovertemplate": "Year=1985<br>Period=%{x}<br>Value=%{y}<extra></extra>",
         "legendgroup": "1985",
         "line": {
          "color": "#B6E880"
         },
         "mode": "lines",
         "name": "1985",
         "orientation": "v",
         "showlegend": true,
         "stackgroup": "1",
         "type": "scatter",
         "x": [
          "M01",
          "M02",
          "M03",
          "M04",
          "M05",
          "M06",
          "M07",
          "M08",
          "M09",
          "M10",
          "M11",
          "M12"
         ],
         "xaxis": "x",
         "y": [
          7.3,
          7.2,
          7.2,
          7.3,
          7.2,
          7.4,
          7.4,
          7.1,
          7.1,
          7.1,
          7,
          7
         ],
         "yaxis": "y"
        },
        {
         "hovertemplate": "Year=1986<br>Period=%{x}<br>Value=%{y}<extra></extra>",
         "legendgroup": "1986",
         "line": {
          "color": "#FF97FF"
         },
         "mode": "lines",
         "name": "1986",
         "orientation": "v",
         "showlegend": true,
         "stackgroup": "1",
         "type": "scatter",
         "x": [
          "M01",
          "M02",
          "M03",
          "M04",
          "M05",
          "M06",
          "M07",
          "M08",
          "M09",
          "M10",
          "M11",
          "M12"
         ],
         "xaxis": "x",
         "y": [
          6.7,
          7.2,
          7.2,
          7.1,
          7.2,
          7.2,
          7,
          6.9,
          7,
          7,
          6.9,
          6.6
         ],
         "yaxis": "y"
        },
        {
         "hovertemplate": "Year=1987<br>Period=%{x}<br>Value=%{y}<extra></extra>",
         "legendgroup": "1987",
         "line": {
          "color": "#FECB52"
         },
         "mode": "lines",
         "name": "1987",
         "orientation": "v",
         "showlegend": true,
         "stackgroup": "1",
         "type": "scatter",
         "x": [
          "M01",
          "M02",
          "M03",
          "M04",
          "M05",
          "M06",
          "M07",
          "M08",
          "M09",
          "M10",
          "M11",
          "M12"
         ],
         "xaxis": "x",
         "y": [
          6.6,
          6.6,
          6.6,
          6.3,
          6.3,
          6.2,
          6.1,
          6,
          5.9,
          6,
          5.8,
          5.7
         ],
         "yaxis": "y"
        },
        {
         "hovertemplate": "Year=1988<br>Period=%{x}<br>Value=%{y}<extra></extra>",
         "legendgroup": "1988",
         "line": {
          "color": "#636efa"
         },
         "mode": "lines",
         "name": "1988",
         "orientation": "v",
         "showlegend": true,
         "stackgroup": "1",
         "type": "scatter",
         "x": [
          "M01",
          "M02",
          "M03",
          "M04",
          "M05",
          "M06",
          "M07",
          "M08",
          "M09",
          "M10",
          "M11",
          "M12"
         ],
         "xaxis": "x",
         "y": [
          5.7,
          5.7,
          5.7,
          5.4,
          5.6,
          5.4,
          5.4,
          5.6,
          5.4,
          5.4,
          5.3,
          5.3
         ],
         "yaxis": "y"
        },
        {
         "hovertemplate": "Year=1989<br>Period=%{x}<br>Value=%{y}<extra></extra>",
         "legendgroup": "1989",
         "line": {
          "color": "#EF553B"
         },
         "mode": "lines",
         "name": "1989",
         "orientation": "v",
         "showlegend": true,
         "stackgroup": "1",
         "type": "scatter",
         "x": [
          "M01",
          "M02",
          "M03",
          "M04",
          "M05",
          "M06",
          "M07",
          "M08",
          "M09",
          "M10",
          "M11",
          "M12"
         ],
         "xaxis": "x",
         "y": [
          5.4,
          5.2,
          5,
          5.2,
          5.2,
          5.3,
          5.2,
          5.2,
          5.3,
          5.3,
          5.4,
          5.4
         ],
         "yaxis": "y"
        },
        {
         "hovertemplate": "Year=1990<br>Period=%{x}<br>Value=%{y}<extra></extra>",
         "legendgroup": "1990",
         "line": {
          "color": "#00cc96"
         },
         "mode": "lines",
         "name": "1990",
         "orientation": "v",
         "showlegend": true,
         "stackgroup": "1",
         "type": "scatter",
         "x": [
          "M01",
          "M02",
          "M03",
          "M04",
          "M05",
          "M06",
          "M07",
          "M08",
          "M09",
          "M10",
          "M11",
          "M12"
         ],
         "xaxis": "x",
         "y": [
          5.4,
          5.3,
          5.2,
          5.4,
          5.4,
          5.2,
          5.5,
          5.7,
          5.9,
          5.9,
          6.2,
          6.3
         ],
         "yaxis": "y"
        },
        {
         "hovertemplate": "Year=1991<br>Period=%{x}<br>Value=%{y}<extra></extra>",
         "legendgroup": "1991",
         "line": {
          "color": "#ab63fa"
         },
         "mode": "lines",
         "name": "1991",
         "orientation": "v",
         "showlegend": true,
         "stackgroup": "1",
         "type": "scatter",
         "x": [
          "M01",
          "M02",
          "M03",
          "M04",
          "M05",
          "M06",
          "M07",
          "M08",
          "M09",
          "M10",
          "M11",
          "M12"
         ],
         "xaxis": "x",
         "y": [
          6.4,
          6.6,
          6.8,
          6.7,
          6.9,
          6.9,
          6.8,
          6.9,
          6.9,
          7,
          7,
          7.3
         ],
         "yaxis": "y"
        },
        {
         "hovertemplate": "Year=1992<br>Period=%{x}<br>Value=%{y}<extra></extra>",
         "legendgroup": "1992",
         "line": {
          "color": "#FFA15A"
         },
         "mode": "lines",
         "name": "1992",
         "orientation": "v",
         "showlegend": true,
         "stackgroup": "1",
         "type": "scatter",
         "x": [
          "M01",
          "M02",
          "M03",
          "M04",
          "M05",
          "M06",
          "M07",
          "M08",
          "M09",
          "M10",
          "M11",
          "M12"
         ],
         "xaxis": "x",
         "y": [
          7.3,
          7.4,
          7.4,
          7.4,
          7.6,
          7.8,
          7.7,
          7.6,
          7.6,
          7.3,
          7.4,
          7.4
         ],
         "yaxis": "y"
        },
        {
         "hovertemplate": "Year=1993<br>Period=%{x}<br>Value=%{y}<extra></extra>",
         "legendgroup": "1993",
         "line": {
          "color": "#19d3f3"
         },
         "mode": "lines",
         "name": "1993",
         "orientation": "v",
         "showlegend": true,
         "stackgroup": "1",
         "type": "scatter",
         "x": [
          "M01",
          "M02",
          "M03",
          "M04",
          "M05",
          "M06",
          "M07",
          "M08",
          "M09",
          "M10",
          "M11",
          "M12"
         ],
         "xaxis": "x",
         "y": [
          7.3,
          7.1,
          7,
          7.1,
          7.1,
          7,
          6.9,
          6.8,
          6.7,
          6.8,
          6.6,
          6.5
         ],
         "yaxis": "y"
        },
        {
         "hovertemplate": "Year=1994<br>Period=%{x}<br>Value=%{y}<extra></extra>",
         "legendgroup": "1994",
         "line": {
          "color": "#FF6692"
         },
         "mode": "lines",
         "name": "1994",
         "orientation": "v",
         "showlegend": true,
         "stackgroup": "1",
         "type": "scatter",
         "x": [
          "M01",
          "M02",
          "M03",
          "M04",
          "M05",
          "M06",
          "M07",
          "M08",
          "M09",
          "M10",
          "M11",
          "M12"
         ],
         "xaxis": "x",
         "y": [
          6.6,
          6.6,
          6.5,
          6.4,
          6.1,
          6.1,
          6.1,
          6,
          5.9,
          5.8,
          5.6,
          5.5
         ],
         "yaxis": "y"
        },
        {
         "hovertemplate": "Year=1995<br>Period=%{x}<br>Value=%{y}<extra></extra>",
         "legendgroup": "1995",
         "line": {
          "color": "#B6E880"
         },
         "mode": "lines",
         "name": "1995",
         "orientation": "v",
         "showlegend": true,
         "stackgroup": "1",
         "type": "scatter",
         "x": [
          "M01",
          "M02",
          "M03",
          "M04",
          "M05",
          "M06",
          "M07",
          "M08",
          "M09",
          "M10",
          "M11",
          "M12"
         ],
         "xaxis": "x",
         "y": [
          5.6,
          5.4,
          5.4,
          5.8,
          5.6,
          5.6,
          5.7,
          5.7,
          5.6,
          5.5,
          5.6,
          5.6
         ],
         "yaxis": "y"
        },
        {
         "hovertemplate": "Year=1996<br>Period=%{x}<br>Value=%{y}<extra></extra>",
         "legendgroup": "1996",
         "line": {
          "color": "#FF97FF"
         },
         "mode": "lines",
         "name": "1996",
         "orientation": "v",
         "showlegend": true,
         "stackgroup": "1",
         "type": "scatter",
         "x": [
          "M01",
          "M02",
          "M03",
          "M04",
          "M05",
          "M06",
          "M07",
          "M08",
          "M09",
          "M10",
          "M11",
          "M12"
         ],
         "xaxis": "x",
         "y": [
          5.6,
          5.5,
          5.5,
          5.6,
          5.6,
          5.3,
          5.5,
          5.1,
          5.2,
          5.2,
          5.4,
          5.4
         ],
         "yaxis": "y"
        },
        {
         "hovertemplate": "Year=1997<br>Period=%{x}<br>Value=%{y}<extra></extra>",
         "legendgroup": "1997",
         "line": {
          "color": "#FECB52"
         },
         "mode": "lines",
         "name": "1997",
         "orientation": "v",
         "showlegend": true,
         "stackgroup": "1",
         "type": "scatter",
         "x": [
          "M01",
          "M02",
          "M03",
          "M04",
          "M05",
          "M06",
          "M07",
          "M08",
          "M09",
          "M10",
          "M11",
          "M12"
         ],
         "xaxis": "x",
         "y": [
          5.3,
          5.2,
          5.2,
          5.1,
          4.9,
          5,
          4.9,
          4.8,
          4.9,
          4.7,
          4.6,
          4.7
         ],
         "yaxis": "y"
        },
        {
         "hovertemplate": "Year=1998<br>Period=%{x}<br>Value=%{y}<extra></extra>",
         "legendgroup": "1998",
         "line": {
          "color": "#636efa"
         },
         "mode": "lines",
         "name": "1998",
         "orientation": "v",
         "showlegend": true,
         "stackgroup": "1",
         "type": "scatter",
         "x": [
          "M01",
          "M02",
          "M03",
          "M04",
          "M05",
          "M06",
          "M07",
          "M08",
          "M09",
          "M10",
          "M11",
          "M12"
         ],
         "xaxis": "x",
         "y": [
          4.6,
          4.6,
          4.7,
          4.3,
          4.4,
          4.5,
          4.5,
          4.5,
          4.6,
          4.5,
          4.4,
          4.4
         ],
         "yaxis": "y"
        },
        {
         "hovertemplate": "Year=1999<br>Period=%{x}<br>Value=%{y}<extra></extra>",
         "legendgroup": "1999",
         "line": {
          "color": "#EF553B"
         },
         "mode": "lines",
         "name": "1999",
         "orientation": "v",
         "showlegend": true,
         "stackgroup": "1",
         "type": "scatter",
         "x": [
          "M01",
          "M02",
          "M03",
          "M04",
          "M05",
          "M06",
          "M07",
          "M08",
          "M09",
          "M10",
          "M11",
          "M12"
         ],
         "xaxis": "x",
         "y": [
          4.3,
          4.4,
          4.2,
          4.3,
          4.2,
          4.3,
          4.3,
          4.2,
          4.2,
          4.1,
          4.1,
          4
         ],
         "yaxis": "y"
        },
        {
         "hovertemplate": "Year=2000<br>Period=%{x}<br>Value=%{y}<extra></extra>",
         "legendgroup": "2000",
         "line": {
          "color": "#00cc96"
         },
         "mode": "lines",
         "name": "2000",
         "orientation": "v",
         "showlegend": true,
         "stackgroup": "1",
         "type": "scatter",
         "x": [
          "M01",
          "M02",
          "M03",
          "M04",
          "M05",
          "M06",
          "M07",
          "M08",
          "M09",
          "M10",
          "M11",
          "M12"
         ],
         "xaxis": "x",
         "y": [
          4,
          4.1,
          4,
          3.8,
          4,
          4,
          4,
          4.1,
          3.9,
          3.9,
          3.9,
          3.9
         ],
         "yaxis": "y"
        },
        {
         "hovertemplate": "Year=2001<br>Period=%{x}<br>Value=%{y}<extra></extra>",
         "legendgroup": "2001",
         "line": {
          "color": "#ab63fa"
         },
         "mode": "lines",
         "name": "2001",
         "orientation": "v",
         "showlegend": true,
         "stackgroup": "1",
         "type": "scatter",
         "x": [
          "M01",
          "M02",
          "M03",
          "M04",
          "M05",
          "M06",
          "M07",
          "M08",
          "M09",
          "M10",
          "M11",
          "M12"
         ],
         "xaxis": "x",
         "y": [
          4.2,
          4.2,
          4.3,
          4.4,
          4.3,
          4.5,
          4.6,
          4.9,
          5,
          5.3,
          5.5,
          5.7
         ],
         "yaxis": "y"
        },
        {
         "hovertemplate": "Year=2002<br>Period=%{x}<br>Value=%{y}<extra></extra>",
         "legendgroup": "2002",
         "line": {
          "color": "#FFA15A"
         },
         "mode": "lines",
         "name": "2002",
         "orientation": "v",
         "showlegend": true,
         "stackgroup": "1",
         "type": "scatter",
         "x": [
          "M01",
          "M02",
          "M03",
          "M04",
          "M05",
          "M06",
          "M07",
          "M08",
          "M09",
          "M10",
          "M11",
          "M12"
         ],
         "xaxis": "x",
         "y": [
          5.7,
          5.7,
          5.7,
          5.9,
          5.8,
          5.8,
          5.8,
          5.7,
          5.7,
          5.7,
          5.9,
          6
         ],
         "yaxis": "y"
        },
        {
         "hovertemplate": "Year=2003<br>Period=%{x}<br>Value=%{y}<extra></extra>",
         "legendgroup": "2003",
         "line": {
          "color": "#19d3f3"
         },
         "mode": "lines",
         "name": "2003",
         "orientation": "v",
         "showlegend": true,
         "stackgroup": "1",
         "type": "scatter",
         "x": [
          "M01",
          "M02",
          "M03",
          "M04",
          "M05",
          "M06",
          "M07",
          "M08",
          "M09",
          "M10",
          "M11",
          "M12"
         ],
         "xaxis": "x",
         "y": [
          5.8,
          5.9,
          5.9,
          6,
          6.1,
          6.3,
          6.2,
          6.1,
          6.1,
          6,
          5.8,
          5.7
         ],
         "yaxis": "y"
        },
        {
         "hovertemplate": "Year=2004<br>Period=%{x}<br>Value=%{y}<extra></extra>",
         "legendgroup": "2004",
         "line": {
          "color": "#FF6692"
         },
         "mode": "lines",
         "name": "2004",
         "orientation": "v",
         "showlegend": true,
         "stackgroup": "1",
         "type": "scatter",
         "x": [
          "M01",
          "M02",
          "M03",
          "M04",
          "M05",
          "M06",
          "M07",
          "M08",
          "M09",
          "M10",
          "M11",
          "M12"
         ],
         "xaxis": "x",
         "y": [
          5.7,
          5.6,
          5.8,
          5.6,
          5.6,
          5.6,
          5.5,
          5.4,
          5.4,
          5.5,
          5.4,
          5.4
         ],
         "yaxis": "y"
        },
        {
         "hovertemplate": "Year=2005<br>Period=%{x}<br>Value=%{y}<extra></extra>",
         "legendgroup": "2005",
         "line": {
          "color": "#B6E880"
         },
         "mode": "lines",
         "name": "2005",
         "orientation": "v",
         "showlegend": true,
         "stackgroup": "1",
         "type": "scatter",
         "x": [
          "M01",
          "M02",
          "M03",
          "M04",
          "M05",
          "M06",
          "M07",
          "M08",
          "M09",
          "M10",
          "M11",
          "M12"
         ],
         "xaxis": "x",
         "y": [
          5.3,
          5.4,
          5.2,
          5.2,
          5.1,
          5,
          5,
          4.9,
          5,
          5,
          5,
          4.9
         ],
         "yaxis": "y"
        },
        {
         "hovertemplate": "Year=2006<br>Period=%{x}<br>Value=%{y}<extra></extra>",
         "legendgroup": "2006",
         "line": {
          "color": "#FF97FF"
         },
         "mode": "lines",
         "name": "2006",
         "orientation": "v",
         "showlegend": true,
         "stackgroup": "1",
         "type": "scatter",
         "x": [
          "M01",
          "M02",
          "M03",
          "M04",
          "M05",
          "M06",
          "M07",
          "M08",
          "M09",
          "M10",
          "M11",
          "M12"
         ],
         "xaxis": "x",
         "y": [
          4.7,
          4.8,
          4.7,
          4.7,
          4.6,
          4.6,
          4.7,
          4.7,
          4.5,
          4.4,
          4.5,
          4.4
         ],
         "yaxis": "y"
        },
        {
         "hovertemplate": "Year=2007<br>Period=%{x}<br>Value=%{y}<extra></extra>",
         "legendgroup": "2007",
         "line": {
          "color": "#FECB52"
         },
         "mode": "lines",
         "name": "2007",
         "orientation": "v",
         "showlegend": true,
         "stackgroup": "1",
         "type": "scatter",
         "x": [
          "M01",
          "M02",
          "M03",
          "M04",
          "M05",
          "M06",
          "M07",
          "M08",
          "M09",
          "M10",
          "M11",
          "M12"
         ],
         "xaxis": "x",
         "y": [
          4.6,
          4.5,
          4.4,
          4.5,
          4.4,
          4.6,
          4.6,
          4.6,
          4.7,
          4.7,
          4.7,
          5
         ],
         "yaxis": "y"
        },
        {
         "hovertemplate": "Year=2008<br>Period=%{x}<br>Value=%{y}<extra></extra>",
         "legendgroup": "2008",
         "line": {
          "color": "#636efa"
         },
         "mode": "lines",
         "name": "2008",
         "orientation": "v",
         "showlegend": true,
         "stackgroup": "1",
         "type": "scatter",
         "x": [
          "M01",
          "M02",
          "M03",
          "M04",
          "M05",
          "M06",
          "M07",
          "M08",
          "M09",
          "M10",
          "M11",
          "M12"
         ],
         "xaxis": "x",
         "y": [
          5,
          4.8,
          5.1,
          5,
          5.4,
          5.5,
          5.8,
          6.1,
          6.2,
          6.6,
          6.9,
          7.4
         ],
         "yaxis": "y"
        },
        {
         "hovertemplate": "Year=2009<br>Period=%{x}<br>Value=%{y}<extra></extra>",
         "legendgroup": "2009",
         "line": {
          "color": "#EF553B"
         },
         "mode": "lines",
         "name": "2009",
         "orientation": "v",
         "showlegend": true,
         "stackgroup": "1",
         "type": "scatter",
         "x": [
          "M01",
          "M02",
          "M03",
          "M04",
          "M05",
          "M06",
          "M07",
          "M08",
          "M09",
          "M10",
          "M11",
          "M12"
         ],
         "xaxis": "x",
         "y": [
          7.7,
          8.2,
          8.6,
          8.9,
          9.4,
          9.5,
          9.4,
          9.7,
          9.8,
          10.1,
          10,
          10
         ],
         "yaxis": "y"
        }
       ],
       "layout": {
        "legend": {
         "title": {
          "text": "Year"
         },
         "tracegroupgap": 0
        },
        "margin": {
         "t": 60
        },
        "template": {
         "data": {
          "bar": [
           {
            "error_x": {
             "color": "#2a3f5f"
            },
            "error_y": {
             "color": "#2a3f5f"
            },
            "marker": {
             "line": {
              "color": "#E5ECF6",
              "width": 0.5
             }
            },
            "type": "bar"
           }
          ],
          "barpolar": [
           {
            "marker": {
             "line": {
              "color": "#E5ECF6",
              "width": 0.5
             }
            },
            "type": "barpolar"
           }
          ],
          "carpet": [
           {
            "aaxis": {
             "endlinecolor": "#2a3f5f",
             "gridcolor": "white",
             "linecolor": "white",
             "minorgridcolor": "white",
             "startlinecolor": "#2a3f5f"
            },
            "baxis": {
             "endlinecolor": "#2a3f5f",
             "gridcolor": "white",
             "linecolor": "white",
             "minorgridcolor": "white",
             "startlinecolor": "#2a3f5f"
            },
            "type": "carpet"
           }
          ],
          "choropleth": [
           {
            "colorbar": {
             "outlinewidth": 0,
             "ticks": ""
            },
            "type": "choropleth"
           }
          ],
          "contour": [
           {
            "colorbar": {
             "outlinewidth": 0,
             "ticks": ""
            },
            "colorscale": [
             [
              0,
              "#0d0887"
             ],
             [
              0.1111111111111111,
              "#46039f"
             ],
             [
              0.2222222222222222,
              "#7201a8"
             ],
             [
              0.3333333333333333,
              "#9c179e"
             ],
             [
              0.4444444444444444,
              "#bd3786"
             ],
             [
              0.5555555555555556,
              "#d8576b"
             ],
             [
              0.6666666666666666,
              "#ed7953"
             ],
             [
              0.7777777777777778,
              "#fb9f3a"
             ],
             [
              0.8888888888888888,
              "#fdca26"
             ],
             [
              1,
              "#f0f921"
             ]
            ],
            "type": "contour"
           }
          ],
          "contourcarpet": [
           {
            "colorbar": {
             "outlinewidth": 0,
             "ticks": ""
            },
            "type": "contourcarpet"
           }
          ],
          "heatmap": [
           {
            "colorbar": {
             "outlinewidth": 0,
             "ticks": ""
            },
            "colorscale": [
             [
              0,
              "#0d0887"
             ],
             [
              0.1111111111111111,
              "#46039f"
             ],
             [
              0.2222222222222222,
              "#7201a8"
             ],
             [
              0.3333333333333333,
              "#9c179e"
             ],
             [
              0.4444444444444444,
              "#bd3786"
             ],
             [
              0.5555555555555556,
              "#d8576b"
             ],
             [
              0.6666666666666666,
              "#ed7953"
             ],
             [
              0.7777777777777778,
              "#fb9f3a"
             ],
             [
              0.8888888888888888,
              "#fdca26"
             ],
             [
              1,
              "#f0f921"
             ]
            ],
            "type": "heatmap"
           }
          ],
          "heatmapgl": [
           {
            "colorbar": {
             "outlinewidth": 0,
             "ticks": ""
            },
            "colorscale": [
             [
              0,
              "#0d0887"
             ],
             [
              0.1111111111111111,
              "#46039f"
             ],
             [
              0.2222222222222222,
              "#7201a8"
             ],
             [
              0.3333333333333333,
              "#9c179e"
             ],
             [
              0.4444444444444444,
              "#bd3786"
             ],
             [
              0.5555555555555556,
              "#d8576b"
             ],
             [
              0.6666666666666666,
              "#ed7953"
             ],
             [
              0.7777777777777778,
              "#fb9f3a"
             ],
             [
              0.8888888888888888,
              "#fdca26"
             ],
             [
              1,
              "#f0f921"
             ]
            ],
            "type": "heatmapgl"
           }
          ],
          "histogram": [
           {
            "marker": {
             "colorbar": {
              "outlinewidth": 0,
              "ticks": ""
             }
            },
            "type": "histogram"
           }
          ],
          "histogram2d": [
           {
            "colorbar": {
             "outlinewidth": 0,
             "ticks": ""
            },
            "colorscale": [
             [
              0,
              "#0d0887"
             ],
             [
              0.1111111111111111,
              "#46039f"
             ],
             [
              0.2222222222222222,
              "#7201a8"
             ],
             [
              0.3333333333333333,
              "#9c179e"
             ],
             [
              0.4444444444444444,
              "#bd3786"
             ],
             [
              0.5555555555555556,
              "#d8576b"
             ],
             [
              0.6666666666666666,
              "#ed7953"
             ],
             [
              0.7777777777777778,
              "#fb9f3a"
             ],
             [
              0.8888888888888888,
              "#fdca26"
             ],
             [
              1,
              "#f0f921"
             ]
            ],
            "type": "histogram2d"
           }
          ],
          "histogram2dcontour": [
           {
            "colorbar": {
             "outlinewidth": 0,
             "ticks": ""
            },
            "colorscale": [
             [
              0,
              "#0d0887"
             ],
             [
              0.1111111111111111,
              "#46039f"
             ],
             [
              0.2222222222222222,
              "#7201a8"
             ],
             [
              0.3333333333333333,
              "#9c179e"
             ],
             [
              0.4444444444444444,
              "#bd3786"
             ],
             [
              0.5555555555555556,
              "#d8576b"
             ],
             [
              0.6666666666666666,
              "#ed7953"
             ],
             [
              0.7777777777777778,
              "#fb9f3a"
             ],
             [
              0.8888888888888888,
              "#fdca26"
             ],
             [
              1,
              "#f0f921"
             ]
            ],
            "type": "histogram2dcontour"
           }
          ],
          "mesh3d": [
           {
            "colorbar": {
             "outlinewidth": 0,
             "ticks": ""
            },
            "type": "mesh3d"
           }
          ],
          "parcoords": [
           {
            "line": {
             "colorbar": {
              "outlinewidth": 0,
              "ticks": ""
             }
            },
            "type": "parcoords"
           }
          ],
          "pie": [
           {
            "automargin": true,
            "type": "pie"
           }
          ],
          "scatter": [
           {
            "marker": {
             "colorbar": {
              "outlinewidth": 0,
              "ticks": ""
             }
            },
            "type": "scatter"
           }
          ],
          "scatter3d": [
           {
            "line": {
             "colorbar": {
              "outlinewidth": 0,
              "ticks": ""
             }
            },
            "marker": {
             "colorbar": {
              "outlinewidth": 0,
              "ticks": ""
             }
            },
            "type": "scatter3d"
           }
          ],
          "scattercarpet": [
           {
            "marker": {
             "colorbar": {
              "outlinewidth": 0,
              "ticks": ""
             }
            },
            "type": "scattercarpet"
           }
          ],
          "scattergeo": [
           {
            "marker": {
             "colorbar": {
              "outlinewidth": 0,
              "ticks": ""
             }
            },
            "type": "scattergeo"
           }
          ],
          "scattergl": [
           {
            "marker": {
             "colorbar": {
              "outlinewidth": 0,
              "ticks": ""
             }
            },
            "type": "scattergl"
           }
          ],
          "scattermapbox": [
           {
            "marker": {
             "colorbar": {
              "outlinewidth": 0,
              "ticks": ""
             }
            },
            "type": "scattermapbox"
           }
          ],
          "scatterpolar": [
           {
            "marker": {
             "colorbar": {
              "outlinewidth": 0,
              "ticks": ""
             }
            },
            "type": "scatterpolar"
           }
          ],
          "scatterpolargl": [
           {
            "marker": {
             "colorbar": {
              "outlinewidth": 0,
              "ticks": ""
             }
            },
            "type": "scatterpolargl"
           }
          ],
          "scatterternary": [
           {
            "marker": {
             "colorbar": {
              "outlinewidth": 0,
              "ticks": ""
             }
            },
            "type": "scatterternary"
           }
          ],
          "surface": [
           {
            "colorbar": {
             "outlinewidth": 0,
             "ticks": ""
            },
            "colorscale": [
             [
              0,
              "#0d0887"
             ],
             [
              0.1111111111111111,
              "#46039f"
             ],
             [
              0.2222222222222222,
              "#7201a8"
             ],
             [
              0.3333333333333333,
              "#9c179e"
             ],
             [
              0.4444444444444444,
              "#bd3786"
             ],
             [
              0.5555555555555556,
              "#d8576b"
             ],
             [
              0.6666666666666666,
              "#ed7953"
             ],
             [
              0.7777777777777778,
              "#fb9f3a"
             ],
             [
              0.8888888888888888,
              "#fdca26"
             ],
             [
              1,
              "#f0f921"
             ]
            ],
            "type": "surface"
           }
          ],
          "table": [
           {
            "cells": {
             "fill": {
              "color": "#EBF0F8"
             },
             "line": {
              "color": "white"
             }
            },
            "header": {
             "fill": {
              "color": "#C8D4E3"
             },
             "line": {
              "color": "white"
             }
            },
            "type": "table"
           }
          ]
         },
         "layout": {
          "annotationdefaults": {
           "arrowcolor": "#2a3f5f",
           "arrowhead": 0,
           "arrowwidth": 1
          },
          "autotypenumbers": "strict",
          "coloraxis": {
           "colorbar": {
            "outlinewidth": 0,
            "ticks": ""
           }
          },
          "colorscale": {
           "diverging": [
            [
             0,
             "#8e0152"
            ],
            [
             0.1,
             "#c51b7d"
            ],
            [
             0.2,
             "#de77ae"
            ],
            [
             0.3,
             "#f1b6da"
            ],
            [
             0.4,
             "#fde0ef"
            ],
            [
             0.5,
             "#f7f7f7"
            ],
            [
             0.6,
             "#e6f5d0"
            ],
            [
             0.7,
             "#b8e186"
            ],
            [
             0.8,
             "#7fbc41"
            ],
            [
             0.9,
             "#4d9221"
            ],
            [
             1,
             "#276419"
            ]
           ],
           "sequential": [
            [
             0,
             "#0d0887"
            ],
            [
             0.1111111111111111,
             "#46039f"
            ],
            [
             0.2222222222222222,
             "#7201a8"
            ],
            [
             0.3333333333333333,
             "#9c179e"
            ],
            [
             0.4444444444444444,
             "#bd3786"
            ],
            [
             0.5555555555555556,
             "#d8576b"
            ],
            [
             0.6666666666666666,
             "#ed7953"
            ],
            [
             0.7777777777777778,
             "#fb9f3a"
            ],
            [
             0.8888888888888888,
             "#fdca26"
            ],
            [
             1,
             "#f0f921"
            ]
           ],
           "sequentialminus": [
            [
             0,
             "#0d0887"
            ],
            [
             0.1111111111111111,
             "#46039f"
            ],
            [
             0.2222222222222222,
             "#7201a8"
            ],
            [
             0.3333333333333333,
             "#9c179e"
            ],
            [
             0.4444444444444444,
             "#bd3786"
            ],
            [
             0.5555555555555556,
             "#d8576b"
            ],
            [
             0.6666666666666666,
             "#ed7953"
            ],
            [
             0.7777777777777778,
             "#fb9f3a"
            ],
            [
             0.8888888888888888,
             "#fdca26"
            ],
            [
             1,
             "#f0f921"
            ]
           ]
          },
          "colorway": [
           "#636efa",
           "#EF553B",
           "#00cc96",
           "#ab63fa",
           "#FFA15A",
           "#19d3f3",
           "#FF6692",
           "#B6E880",
           "#FF97FF",
           "#FECB52"
          ],
          "font": {
           "color": "#2a3f5f"
          },
          "geo": {
           "bgcolor": "white",
           "lakecolor": "white",
           "landcolor": "#E5ECF6",
           "showlakes": true,
           "showland": true,
           "subunitcolor": "white"
          },
          "hoverlabel": {
           "align": "left"
          },
          "hovermode": "closest",
          "mapbox": {
           "style": "light"
          },
          "paper_bgcolor": "white",
          "plot_bgcolor": "#E5ECF6",
          "polar": {
           "angularaxis": {
            "gridcolor": "white",
            "linecolor": "white",
            "ticks": ""
           },
           "bgcolor": "#E5ECF6",
           "radialaxis": {
            "gridcolor": "white",
            "linecolor": "white",
            "ticks": ""
           }
          },
          "scene": {
           "xaxis": {
            "backgroundcolor": "#E5ECF6",
            "gridcolor": "white",
            "gridwidth": 2,
            "linecolor": "white",
            "showbackground": true,
            "ticks": "",
            "zerolinecolor": "white"
           },
           "yaxis": {
            "backgroundcolor": "#E5ECF6",
            "gridcolor": "white",
            "gridwidth": 2,
            "linecolor": "white",
            "showbackground": true,
            "ticks": "",
            "zerolinecolor": "white"
           },
           "zaxis": {
            "backgroundcolor": "#E5ECF6",
            "gridcolor": "white",
            "gridwidth": 2,
            "linecolor": "white",
            "showbackground": true,
            "ticks": "",
            "zerolinecolor": "white"
           }
          },
          "shapedefaults": {
           "line": {
            "color": "#2a3f5f"
           }
          },
          "ternary": {
           "aaxis": {
            "gridcolor": "white",
            "linecolor": "white",
            "ticks": ""
           },
           "baxis": {
            "gridcolor": "white",
            "linecolor": "white",
            "ticks": ""
           },
           "bgcolor": "#E5ECF6",
           "caxis": {
            "gridcolor": "white",
            "linecolor": "white",
            "ticks": ""
           }
          },
          "title": {
           "x": 0.05
          },
          "xaxis": {
           "automargin": true,
           "gridcolor": "white",
           "linecolor": "white",
           "ticks": "",
           "title": {
            "standoff": 15
           },
           "zerolinecolor": "white",
           "zerolinewidth": 2
          },
          "yaxis": {
           "automargin": true,
           "gridcolor": "white",
           "linecolor": "white",
           "ticks": "",
           "title": {
            "standoff": 15
           },
           "zerolinecolor": "white",
           "zerolinewidth": 2
          }
         }
        },
        "xaxis": {
         "anchor": "y",
         "domain": [
          0,
          1
         ],
         "title": {
          "text": "Period"
         }
        },
        "yaxis": {
         "anchor": "x",
         "domain": [
          0,
          1
         ],
         "title": {
          "text": "Value"
         }
        }
       }
      },
      "text/html": [
       "<div>                            <div id=\"546d5271-4586-4de3-9269-c1afdf4784b6\" class=\"plotly-graph-div\" style=\"height:525px; width:100%;\"></div>            <script type=\"text/javascript\">                require([\"plotly\"], function(Plotly) {                    window.PLOTLYENV=window.PLOTLYENV || {};                                    if (document.getElementById(\"546d5271-4586-4de3-9269-c1afdf4784b6\")) {                    Plotly.newPlot(                        \"546d5271-4586-4de3-9269-c1afdf4784b6\",                        [{\"hovertemplate\": \"Year=1948<br>Period=%{x}<br>Value=%{y}<extra></extra>\", \"legendgroup\": \"1948\", \"line\": {\"color\": \"#636efa\"}, \"mode\": \"lines\", \"name\": \"1948\", \"orientation\": \"v\", \"showlegend\": true, \"stackgroup\": \"1\", \"type\": \"scatter\", \"x\": [\"M01\", \"M02\", \"M03\", \"M04\", \"M05\", \"M06\", \"M07\", \"M08\", \"M09\", \"M10\", \"M11\", \"M12\"], \"xaxis\": \"x\", \"y\": [3.4, 3.8, 4.0, 3.9, 3.5, 3.6, 3.6, 3.9, 3.8, 3.7, 3.8, 4.0], \"yaxis\": \"y\"}, {\"hovertemplate\": \"Year=1949<br>Period=%{x}<br>Value=%{y}<extra></extra>\", \"legendgroup\": \"1949\", \"line\": {\"color\": \"#EF553B\"}, \"mode\": \"lines\", \"name\": \"1949\", \"orientation\": \"v\", \"showlegend\": true, \"stackgroup\": \"1\", \"type\": \"scatter\", \"x\": [\"M01\", \"M02\", \"M03\", \"M04\", \"M05\", \"M06\", \"M07\", \"M08\", \"M09\", \"M10\", \"M11\", \"M12\"], \"xaxis\": \"x\", \"y\": [4.3, 4.7, 5.0, 5.3, 6.1, 6.2, 6.7, 6.8, 6.6, 7.9, 6.4, 6.6], \"yaxis\": \"y\"}, {\"hovertemplate\": \"Year=1950<br>Period=%{x}<br>Value=%{y}<extra></extra>\", \"legendgroup\": \"1950\", \"line\": {\"color\": \"#00cc96\"}, \"mode\": \"lines\", \"name\": \"1950\", \"orientation\": \"v\", \"showlegend\": true, \"stackgroup\": \"1\", \"type\": \"scatter\", \"x\": [\"M01\", \"M02\", \"M03\", \"M04\", \"M05\", \"M06\", \"M07\", \"M08\", \"M09\", \"M10\", \"M11\", \"M12\"], \"xaxis\": \"x\", \"y\": [6.5, 6.4, 6.3, 5.8, 5.5, 5.4, 5.0, 4.5, 4.4, 4.2, 4.2, 4.3], \"yaxis\": \"y\"}, {\"hovertemplate\": \"Year=1951<br>Period=%{x}<br>Value=%{y}<extra></extra>\", \"legendgroup\": \"1951\", \"line\": {\"color\": \"#ab63fa\"}, \"mode\": \"lines\", \"name\": \"1951\", \"orientation\": \"v\", \"showlegend\": true, \"stackgroup\": \"1\", \"type\": \"scatter\", \"x\": [\"M01\", \"M02\", \"M03\", \"M04\", \"M05\", \"M06\", \"M07\", \"M08\", \"M09\", \"M10\", \"M11\", \"M12\"], \"xaxis\": \"x\", \"y\": [3.7, 3.4, 3.4, 3.1, 3.0, 3.2, 3.1, 3.1, 3.3, 3.5, 3.5, 3.1], \"yaxis\": \"y\"}, {\"hovertemplate\": \"Year=1952<br>Period=%{x}<br>Value=%{y}<extra></extra>\", \"legendgroup\": \"1952\", \"line\": {\"color\": \"#FFA15A\"}, \"mode\": \"lines\", \"name\": \"1952\", \"orientation\": \"v\", \"showlegend\": true, \"stackgroup\": \"1\", \"type\": \"scatter\", \"x\": [\"M01\", \"M02\", \"M03\", \"M04\", \"M05\", \"M06\", \"M07\", \"M08\", \"M09\", \"M10\", \"M11\", \"M12\"], \"xaxis\": \"x\", \"y\": [3.2, 3.1, 2.9, 2.9, 3.0, 3.0, 3.2, 3.4, 3.1, 3.0, 2.8, 2.7], \"yaxis\": \"y\"}, {\"hovertemplate\": \"Year=1953<br>Period=%{x}<br>Value=%{y}<extra></extra>\", \"legendgroup\": \"1953\", \"line\": {\"color\": \"#19d3f3\"}, \"mode\": \"lines\", \"name\": \"1953\", \"orientation\": \"v\", \"showlegend\": true, \"stackgroup\": \"1\", \"type\": \"scatter\", \"x\": [\"M01\", \"M02\", \"M03\", \"M04\", \"M05\", \"M06\", \"M07\", \"M08\", \"M09\", \"M10\", \"M11\", \"M12\"], \"xaxis\": \"x\", \"y\": [2.9, 2.6, 2.6, 2.7, 2.5, 2.5, 2.6, 2.7, 2.9, 3.1, 3.5, 4.5], \"yaxis\": \"y\"}, {\"hovertemplate\": \"Year=1954<br>Period=%{x}<br>Value=%{y}<extra></extra>\", \"legendgroup\": \"1954\", \"line\": {\"color\": \"#FF6692\"}, \"mode\": \"lines\", \"name\": \"1954\", \"orientation\": \"v\", \"showlegend\": true, \"stackgroup\": \"1\", \"type\": \"scatter\", \"x\": [\"M01\", \"M02\", \"M03\", \"M04\", \"M05\", \"M06\", \"M07\", \"M08\", \"M09\", \"M10\", \"M11\", \"M12\"], \"xaxis\": \"x\", \"y\": [4.9, 5.2, 5.7, 5.9, 5.9, 5.6, 5.8, 6.0, 6.1, 5.7, 5.3, 5.0], \"yaxis\": \"y\"}, {\"hovertemplate\": \"Year=1955<br>Period=%{x}<br>Value=%{y}<extra></extra>\", \"legendgroup\": \"1955\", \"line\": {\"color\": \"#B6E880\"}, \"mode\": \"lines\", \"name\": \"1955\", \"orientation\": \"v\", \"showlegend\": true, \"stackgroup\": \"1\", \"type\": \"scatter\", \"x\": [\"M01\", \"M02\", \"M03\", \"M04\", \"M05\", \"M06\", \"M07\", \"M08\", \"M09\", \"M10\", \"M11\", \"M12\"], \"xaxis\": \"x\", \"y\": [4.9, 4.7, 4.6, 4.7, 4.3, 4.2, 4.0, 4.2, 4.1, 4.3, 4.2, 4.2], \"yaxis\": \"y\"}, {\"hovertemplate\": \"Year=1956<br>Period=%{x}<br>Value=%{y}<extra></extra>\", \"legendgroup\": \"1956\", \"line\": {\"color\": \"#FF97FF\"}, \"mode\": \"lines\", \"name\": \"1956\", \"orientation\": \"v\", \"showlegend\": true, \"stackgroup\": \"1\", \"type\": \"scatter\", \"x\": [\"M01\", \"M02\", \"M03\", \"M04\", \"M05\", \"M06\", \"M07\", \"M08\", \"M09\", \"M10\", \"M11\", \"M12\"], \"xaxis\": \"x\", \"y\": [4.0, 3.9, 4.2, 4.0, 4.3, 4.3, 4.4, 4.1, 3.9, 3.9, 4.3, 4.2], \"yaxis\": \"y\"}, {\"hovertemplate\": \"Year=1957<br>Period=%{x}<br>Value=%{y}<extra></extra>\", \"legendgroup\": \"1957\", \"line\": {\"color\": \"#FECB52\"}, \"mode\": \"lines\", \"name\": \"1957\", \"orientation\": \"v\", \"showlegend\": true, \"stackgroup\": \"1\", \"type\": \"scatter\", \"x\": [\"M01\", \"M02\", \"M03\", \"M04\", \"M05\", \"M06\", \"M07\", \"M08\", \"M09\", \"M10\", \"M11\", \"M12\"], \"xaxis\": \"x\", \"y\": [4.2, 3.9, 3.7, 3.9, 4.1, 4.3, 4.2, 4.1, 4.4, 4.5, 5.1, 5.2], \"yaxis\": \"y\"}, {\"hovertemplate\": \"Year=1958<br>Period=%{x}<br>Value=%{y}<extra></extra>\", \"legendgroup\": \"1958\", \"line\": {\"color\": \"#636efa\"}, \"mode\": \"lines\", \"name\": \"1958\", \"orientation\": \"v\", \"showlegend\": true, \"stackgroup\": \"1\", \"type\": \"scatter\", \"x\": [\"M01\", \"M02\", \"M03\", \"M04\", \"M05\", \"M06\", \"M07\", \"M08\", \"M09\", \"M10\", \"M11\", \"M12\"], \"xaxis\": \"x\", \"y\": [5.8, 6.4, 6.7, 7.4, 7.4, 7.3, 7.5, 7.4, 7.1, 6.7, 6.2, 6.2], \"yaxis\": \"y\"}, {\"hovertemplate\": \"Year=1959<br>Period=%{x}<br>Value=%{y}<extra></extra>\", \"legendgroup\": \"1959\", \"line\": {\"color\": \"#EF553B\"}, \"mode\": \"lines\", \"name\": \"1959\", \"orientation\": \"v\", \"showlegend\": true, \"stackgroup\": \"1\", \"type\": \"scatter\", \"x\": [\"M01\", \"M02\", \"M03\", \"M04\", \"M05\", \"M06\", \"M07\", \"M08\", \"M09\", \"M10\", \"M11\", \"M12\"], \"xaxis\": \"x\", \"y\": [6.0, 5.9, 5.6, 5.2, 5.1, 5.0, 5.1, 5.2, 5.5, 5.7, 5.8, 5.3], \"yaxis\": \"y\"}, {\"hovertemplate\": \"Year=1960<br>Period=%{x}<br>Value=%{y}<extra></extra>\", \"legendgroup\": \"1960\", \"line\": {\"color\": \"#00cc96\"}, \"mode\": \"lines\", \"name\": \"1960\", \"orientation\": \"v\", \"showlegend\": true, \"stackgroup\": \"1\", \"type\": \"scatter\", \"x\": [\"M01\", \"M02\", \"M03\", \"M04\", \"M05\", \"M06\", \"M07\", \"M08\", \"M09\", \"M10\", \"M11\", \"M12\"], \"xaxis\": \"x\", \"y\": [5.2, 4.8, 5.4, 5.2, 5.1, 5.4, 5.5, 5.6, 5.5, 6.1, 6.1, 6.6], \"yaxis\": \"y\"}, {\"hovertemplate\": \"Year=1961<br>Period=%{x}<br>Value=%{y}<extra></extra>\", \"legendgroup\": \"1961\", \"line\": {\"color\": \"#ab63fa\"}, \"mode\": \"lines\", \"name\": \"1961\", \"orientation\": \"v\", \"showlegend\": true, \"stackgroup\": \"1\", \"type\": \"scatter\", \"x\": [\"M01\", \"M02\", \"M03\", \"M04\", \"M05\", \"M06\", \"M07\", \"M08\", \"M09\", \"M10\", \"M11\", \"M12\"], \"xaxis\": \"x\", \"y\": [6.6, 6.9, 6.9, 7.0, 7.1, 6.9, 7.0, 6.6, 6.7, 6.5, 6.1, 6.0], \"yaxis\": \"y\"}, {\"hovertemplate\": \"Year=1962<br>Period=%{x}<br>Value=%{y}<extra></extra>\", \"legendgroup\": \"1962\", \"line\": {\"color\": \"#FFA15A\"}, \"mode\": \"lines\", \"name\": \"1962\", \"orientation\": \"v\", \"showlegend\": true, \"stackgroup\": \"1\", \"type\": \"scatter\", \"x\": [\"M01\", \"M02\", \"M03\", \"M04\", \"M05\", \"M06\", \"M07\", \"M08\", \"M09\", \"M10\", \"M11\", \"M12\"], \"xaxis\": \"x\", \"y\": [5.8, 5.5, 5.6, 5.6, 5.5, 5.5, 5.4, 5.7, 5.6, 5.4, 5.7, 5.5], \"yaxis\": \"y\"}, {\"hovertemplate\": \"Year=1963<br>Period=%{x}<br>Value=%{y}<extra></extra>\", \"legendgroup\": \"1963\", \"line\": {\"color\": \"#19d3f3\"}, \"mode\": \"lines\", \"name\": \"1963\", \"orientation\": \"v\", \"showlegend\": true, \"stackgroup\": \"1\", \"type\": \"scatter\", \"x\": [\"M01\", \"M02\", \"M03\", \"M04\", \"M05\", \"M06\", \"M07\", \"M08\", \"M09\", \"M10\", \"M11\", \"M12\"], \"xaxis\": \"x\", \"y\": [5.7, 5.9, 5.7, 5.7, 5.9, 5.6, 5.6, 5.4, 5.5, 5.5, 5.7, 5.5], \"yaxis\": \"y\"}, {\"hovertemplate\": \"Year=1964<br>Period=%{x}<br>Value=%{y}<extra></extra>\", \"legendgroup\": \"1964\", \"line\": {\"color\": \"#FF6692\"}, \"mode\": \"lines\", \"name\": \"1964\", \"orientation\": \"v\", \"showlegend\": true, \"stackgroup\": \"1\", \"type\": \"scatter\", \"x\": [\"M01\", \"M02\", \"M03\", \"M04\", \"M05\", \"M06\", \"M07\", \"M08\", \"M09\", \"M10\", \"M11\", \"M12\"], \"xaxis\": \"x\", \"y\": [5.6, 5.4, 5.4, 5.3, 5.1, 5.2, 4.9, 5.0, 5.1, 5.1, 4.8, 5.0], \"yaxis\": \"y\"}, {\"hovertemplate\": \"Year=1965<br>Period=%{x}<br>Value=%{y}<extra></extra>\", \"legendgroup\": \"1965\", \"line\": {\"color\": \"#B6E880\"}, \"mode\": \"lines\", \"name\": \"1965\", \"orientation\": \"v\", \"showlegend\": true, \"stackgroup\": \"1\", \"type\": \"scatter\", \"x\": [\"M01\", \"M02\", \"M03\", \"M04\", \"M05\", \"M06\", \"M07\", \"M08\", \"M09\", \"M10\", \"M11\", \"M12\"], \"xaxis\": \"x\", \"y\": [4.9, 5.1, 4.7, 4.8, 4.6, 4.6, 4.4, 4.4, 4.3, 4.2, 4.1, 4.0], \"yaxis\": \"y\"}, {\"hovertemplate\": \"Year=1966<br>Period=%{x}<br>Value=%{y}<extra></extra>\", \"legendgroup\": \"1966\", \"line\": {\"color\": \"#FF97FF\"}, \"mode\": \"lines\", \"name\": \"1966\", \"orientation\": \"v\", \"showlegend\": true, \"stackgroup\": \"1\", \"type\": \"scatter\", \"x\": [\"M01\", \"M02\", \"M03\", \"M04\", \"M05\", \"M06\", \"M07\", \"M08\", \"M09\", \"M10\", \"M11\", \"M12\"], \"xaxis\": \"x\", \"y\": [4.0, 3.8, 3.8, 3.8, 3.9, 3.8, 3.8, 3.8, 3.7, 3.7, 3.6, 3.8], \"yaxis\": \"y\"}, {\"hovertemplate\": \"Year=1967<br>Period=%{x}<br>Value=%{y}<extra></extra>\", \"legendgroup\": \"1967\", \"line\": {\"color\": \"#FECB52\"}, \"mode\": \"lines\", \"name\": \"1967\", \"orientation\": \"v\", \"showlegend\": true, \"stackgroup\": \"1\", \"type\": \"scatter\", \"x\": [\"M01\", \"M02\", \"M03\", \"M04\", \"M05\", \"M06\", \"M07\", \"M08\", \"M09\", \"M10\", \"M11\", \"M12\"], \"xaxis\": \"x\", \"y\": [3.9, 3.8, 3.8, 3.8, 3.8, 3.9, 3.8, 3.8, 3.8, 4.0, 3.9, 3.8], \"yaxis\": \"y\"}, {\"hovertemplate\": \"Year=1968<br>Period=%{x}<br>Value=%{y}<extra></extra>\", \"legendgroup\": \"1968\", \"line\": {\"color\": \"#636efa\"}, \"mode\": \"lines\", \"name\": \"1968\", \"orientation\": \"v\", \"showlegend\": true, \"stackgroup\": \"1\", \"type\": \"scatter\", \"x\": [\"M01\", \"M02\", \"M03\", \"M04\", \"M05\", \"M06\", \"M07\", \"M08\", \"M09\", \"M10\", \"M11\", \"M12\"], \"xaxis\": \"x\", \"y\": [3.7, 3.8, 3.7, 3.5, 3.5, 3.7, 3.7, 3.5, 3.4, 3.4, 3.4, 3.4], \"yaxis\": \"y\"}, {\"hovertemplate\": \"Year=1969<br>Period=%{x}<br>Value=%{y}<extra></extra>\", \"legendgroup\": \"1969\", \"line\": {\"color\": \"#EF553B\"}, \"mode\": \"lines\", \"name\": \"1969\", \"orientation\": \"v\", \"showlegend\": true, \"stackgroup\": \"1\", \"type\": \"scatter\", \"x\": [\"M01\", \"M02\", \"M03\", \"M04\", \"M05\", \"M06\", \"M07\", \"M08\", \"M09\", \"M10\", \"M11\", \"M12\"], \"xaxis\": \"x\", \"y\": [3.4, 3.4, 3.4, 3.4, 3.4, 3.5, 3.5, 3.5, 3.7, 3.7, 3.5, 3.5], \"yaxis\": \"y\"}, {\"hovertemplate\": \"Year=1970<br>Period=%{x}<br>Value=%{y}<extra></extra>\", \"legendgroup\": \"1970\", \"line\": {\"color\": \"#00cc96\"}, \"mode\": \"lines\", \"name\": \"1970\", \"orientation\": \"v\", \"showlegend\": true, \"stackgroup\": \"1\", \"type\": \"scatter\", \"x\": [\"M01\", \"M02\", \"M03\", \"M04\", \"M05\", \"M06\", \"M07\", \"M08\", \"M09\", \"M10\", \"M11\", \"M12\"], \"xaxis\": \"x\", \"y\": [3.9, 4.2, 4.4, 4.6, 4.8, 4.9, 5.0, 5.1, 5.4, 5.5, 5.9, 6.1], \"yaxis\": \"y\"}, {\"hovertemplate\": \"Year=1971<br>Period=%{x}<br>Value=%{y}<extra></extra>\", \"legendgroup\": \"1971\", \"line\": {\"color\": \"#ab63fa\"}, \"mode\": \"lines\", \"name\": \"1971\", \"orientation\": \"v\", \"showlegend\": true, \"stackgroup\": \"1\", \"type\": \"scatter\", \"x\": [\"M01\", \"M02\", \"M03\", \"M04\", \"M05\", \"M06\", \"M07\", \"M08\", \"M09\", \"M10\", \"M11\", \"M12\"], \"xaxis\": \"x\", \"y\": [5.9, 5.9, 6.0, 5.9, 5.9, 5.9, 6.0, 6.1, 6.0, 5.8, 6.0, 6.0], \"yaxis\": \"y\"}, {\"hovertemplate\": \"Year=1972<br>Period=%{x}<br>Value=%{y}<extra></extra>\", \"legendgroup\": \"1972\", \"line\": {\"color\": \"#FFA15A\"}, \"mode\": \"lines\", \"name\": \"1972\", \"orientation\": \"v\", \"showlegend\": true, \"stackgroup\": \"1\", \"type\": \"scatter\", \"x\": [\"M01\", \"M02\", \"M03\", \"M04\", \"M05\", \"M06\", \"M07\", \"M08\", \"M09\", \"M10\", \"M11\", \"M12\"], \"xaxis\": \"x\", \"y\": [5.8, 5.7, 5.8, 5.7, 5.7, 5.7, 5.6, 5.6, 5.5, 5.6, 5.3, 5.2], \"yaxis\": \"y\"}, {\"hovertemplate\": \"Year=1973<br>Period=%{x}<br>Value=%{y}<extra></extra>\", \"legendgroup\": \"1973\", \"line\": {\"color\": \"#19d3f3\"}, \"mode\": \"lines\", \"name\": \"1973\", \"orientation\": \"v\", \"showlegend\": true, \"stackgroup\": \"1\", \"type\": \"scatter\", \"x\": [\"M01\", \"M02\", \"M03\", \"M04\", \"M05\", \"M06\", \"M07\", \"M08\", \"M09\", \"M10\", \"M11\", \"M12\"], \"xaxis\": \"x\", \"y\": [4.9, 5.0, 4.9, 5.0, 4.9, 4.9, 4.8, 4.8, 4.8, 4.6, 4.8, 4.9], \"yaxis\": \"y\"}, {\"hovertemplate\": \"Year=1974<br>Period=%{x}<br>Value=%{y}<extra></extra>\", \"legendgroup\": \"1974\", \"line\": {\"color\": \"#FF6692\"}, \"mode\": \"lines\", \"name\": \"1974\", \"orientation\": \"v\", \"showlegend\": true, \"stackgroup\": \"1\", \"type\": \"scatter\", \"x\": [\"M01\", \"M02\", \"M03\", \"M04\", \"M05\", \"M06\", \"M07\", \"M08\", \"M09\", \"M10\", \"M11\", \"M12\"], \"xaxis\": \"x\", \"y\": [5.1, 5.2, 5.1, 5.1, 5.1, 5.4, 5.5, 5.5, 5.9, 6.0, 6.6, 7.2], \"yaxis\": \"y\"}, {\"hovertemplate\": \"Year=1975<br>Period=%{x}<br>Value=%{y}<extra></extra>\", \"legendgroup\": \"1975\", \"line\": {\"color\": \"#B6E880\"}, \"mode\": \"lines\", \"name\": \"1975\", \"orientation\": \"v\", \"showlegend\": true, \"stackgroup\": \"1\", \"type\": \"scatter\", \"x\": [\"M01\", \"M02\", \"M03\", \"M04\", \"M05\", \"M06\", \"M07\", \"M08\", \"M09\", \"M10\", \"M11\", \"M12\"], \"xaxis\": \"x\", \"y\": [8.1, 8.1, 8.6, 8.8, 9.0, 8.8, 8.6, 8.4, 8.4, 8.4, 8.3, 8.2], \"yaxis\": \"y\"}, {\"hovertemplate\": \"Year=1976<br>Period=%{x}<br>Value=%{y}<extra></extra>\", \"legendgroup\": \"1976\", \"line\": {\"color\": \"#FF97FF\"}, \"mode\": \"lines\", \"name\": \"1976\", \"orientation\": \"v\", \"showlegend\": true, \"stackgroup\": \"1\", \"type\": \"scatter\", \"x\": [\"M01\", \"M02\", \"M03\", \"M04\", \"M05\", \"M06\", \"M07\", \"M08\", \"M09\", \"M10\", \"M11\", \"M12\"], \"xaxis\": \"x\", \"y\": [7.9, 7.7, 7.6, 7.7, 7.4, 7.6, 7.8, 7.8, 7.6, 7.7, 7.8, 7.8], \"yaxis\": \"y\"}, {\"hovertemplate\": \"Year=1977<br>Period=%{x}<br>Value=%{y}<extra></extra>\", \"legendgroup\": \"1977\", \"line\": {\"color\": \"#FECB52\"}, \"mode\": \"lines\", \"name\": \"1977\", \"orientation\": \"v\", \"showlegend\": true, \"stackgroup\": \"1\", \"type\": \"scatter\", \"x\": [\"M01\", \"M02\", \"M03\", \"M04\", \"M05\", \"M06\", \"M07\", \"M08\", \"M09\", \"M10\", \"M11\", \"M12\"], \"xaxis\": \"x\", \"y\": [7.5, 7.6, 7.4, 7.2, 7.0, 7.2, 6.9, 7.0, 6.8, 6.8, 6.8, 6.4], \"yaxis\": \"y\"}, {\"hovertemplate\": \"Year=1978<br>Period=%{x}<br>Value=%{y}<extra></extra>\", \"legendgroup\": \"1978\", \"line\": {\"color\": \"#636efa\"}, \"mode\": \"lines\", \"name\": \"1978\", \"orientation\": \"v\", \"showlegend\": true, \"stackgroup\": \"1\", \"type\": \"scatter\", \"x\": [\"M01\", \"M02\", \"M03\", \"M04\", \"M05\", \"M06\", \"M07\", \"M08\", \"M09\", \"M10\", \"M11\", \"M12\"], \"xaxis\": \"x\", \"y\": [6.4, 6.3, 6.3, 6.1, 6.0, 5.9, 6.2, 5.9, 6.0, 5.8, 5.9, 6.0], \"yaxis\": \"y\"}, {\"hovertemplate\": \"Year=1979<br>Period=%{x}<br>Value=%{y}<extra></extra>\", \"legendgroup\": \"1979\", \"line\": {\"color\": \"#EF553B\"}, \"mode\": \"lines\", \"name\": \"1979\", \"orientation\": \"v\", \"showlegend\": true, \"stackgroup\": \"1\", \"type\": \"scatter\", \"x\": [\"M01\", \"M02\", \"M03\", \"M04\", \"M05\", \"M06\", \"M07\", \"M08\", \"M09\", \"M10\", \"M11\", \"M12\"], \"xaxis\": \"x\", \"y\": [5.9, 5.9, 5.8, 5.8, 5.6, 5.7, 5.7, 6.0, 5.9, 6.0, 5.9, 6.0], \"yaxis\": \"y\"}, {\"hovertemplate\": \"Year=1980<br>Period=%{x}<br>Value=%{y}<extra></extra>\", \"legendgroup\": \"1980\", \"line\": {\"color\": \"#00cc96\"}, \"mode\": \"lines\", \"name\": \"1980\", \"orientation\": \"v\", \"showlegend\": true, \"stackgroup\": \"1\", \"type\": \"scatter\", \"x\": [\"M01\", \"M02\", \"M03\", \"M04\", \"M05\", \"M06\", \"M07\", \"M08\", \"M09\", \"M10\", \"M11\", \"M12\"], \"xaxis\": \"x\", \"y\": [6.3, 6.3, 6.3, 6.9, 7.5, 7.6, 7.8, 7.7, 7.5, 7.5, 7.5, 7.2], \"yaxis\": \"y\"}, {\"hovertemplate\": \"Year=1981<br>Period=%{x}<br>Value=%{y}<extra></extra>\", \"legendgroup\": \"1981\", \"line\": {\"color\": \"#ab63fa\"}, \"mode\": \"lines\", \"name\": \"1981\", \"orientation\": \"v\", \"showlegend\": true, \"stackgroup\": \"1\", \"type\": \"scatter\", \"x\": [\"M01\", \"M02\", \"M03\", \"M04\", \"M05\", \"M06\", \"M07\", \"M08\", \"M09\", \"M10\", \"M11\", \"M12\"], \"xaxis\": \"x\", \"y\": [7.5, 7.4, 7.4, 7.2, 7.5, 7.5, 7.2, 7.4, 7.6, 7.9, 8.3, 8.5], \"yaxis\": \"y\"}, {\"hovertemplate\": \"Year=1982<br>Period=%{x}<br>Value=%{y}<extra></extra>\", \"legendgroup\": \"1982\", \"line\": {\"color\": \"#FFA15A\"}, \"mode\": \"lines\", \"name\": \"1982\", \"orientation\": \"v\", \"showlegend\": true, \"stackgroup\": \"1\", \"type\": \"scatter\", \"x\": [\"M01\", \"M02\", \"M03\", \"M04\", \"M05\", \"M06\", \"M07\", \"M08\", \"M09\", \"M10\", \"M11\", \"M12\"], \"xaxis\": \"x\", \"y\": [8.6, 8.9, 9.0, 9.3, 9.4, 9.6, 9.8, 9.8, 10.1, 10.4, 10.8, 10.8], \"yaxis\": \"y\"}, {\"hovertemplate\": \"Year=1983<br>Period=%{x}<br>Value=%{y}<extra></extra>\", \"legendgroup\": \"1983\", \"line\": {\"color\": \"#19d3f3\"}, \"mode\": \"lines\", \"name\": \"1983\", \"orientation\": \"v\", \"showlegend\": true, \"stackgroup\": \"1\", \"type\": \"scatter\", \"x\": [\"M01\", \"M02\", \"M03\", \"M04\", \"M05\", \"M06\", \"M07\", \"M08\", \"M09\", \"M10\", \"M11\", \"M12\"], \"xaxis\": \"x\", \"y\": [10.4, 10.4, 10.3, 10.2, 10.1, 10.1, 9.4, 9.5, 9.2, 8.8, 8.5, 8.3], \"yaxis\": \"y\"}, {\"hovertemplate\": \"Year=1984<br>Period=%{x}<br>Value=%{y}<extra></extra>\", \"legendgroup\": \"1984\", \"line\": {\"color\": \"#FF6692\"}, \"mode\": \"lines\", \"name\": \"1984\", \"orientation\": \"v\", \"showlegend\": true, \"stackgroup\": \"1\", \"type\": \"scatter\", \"x\": [\"M01\", \"M02\", \"M03\", \"M04\", \"M05\", \"M06\", \"M07\", \"M08\", \"M09\", \"M10\", \"M11\", \"M12\"], \"xaxis\": \"x\", \"y\": [8.0, 7.8, 7.8, 7.7, 7.4, 7.2, 7.5, 7.5, 7.3, 7.4, 7.2, 7.3], \"yaxis\": \"y\"}, {\"hovertemplate\": \"Year=1985<br>Period=%{x}<br>Value=%{y}<extra></extra>\", \"legendgroup\": \"1985\", \"line\": {\"color\": \"#B6E880\"}, \"mode\": \"lines\", \"name\": \"1985\", \"orientation\": \"v\", \"showlegend\": true, \"stackgroup\": \"1\", \"type\": \"scatter\", \"x\": [\"M01\", \"M02\", \"M03\", \"M04\", \"M05\", \"M06\", \"M07\", \"M08\", \"M09\", \"M10\", \"M11\", \"M12\"], \"xaxis\": \"x\", \"y\": [7.3, 7.2, 7.2, 7.3, 7.2, 7.4, 7.4, 7.1, 7.1, 7.1, 7.0, 7.0], \"yaxis\": \"y\"}, {\"hovertemplate\": \"Year=1986<br>Period=%{x}<br>Value=%{y}<extra></extra>\", \"legendgroup\": \"1986\", \"line\": {\"color\": \"#FF97FF\"}, \"mode\": \"lines\", \"name\": \"1986\", \"orientation\": \"v\", \"showlegend\": true, \"stackgroup\": \"1\", \"type\": \"scatter\", \"x\": [\"M01\", \"M02\", \"M03\", \"M04\", \"M05\", \"M06\", \"M07\", \"M08\", \"M09\", \"M10\", \"M11\", \"M12\"], \"xaxis\": \"x\", \"y\": [6.7, 7.2, 7.2, 7.1, 7.2, 7.2, 7.0, 6.9, 7.0, 7.0, 6.9, 6.6], \"yaxis\": \"y\"}, {\"hovertemplate\": \"Year=1987<br>Period=%{x}<br>Value=%{y}<extra></extra>\", \"legendgroup\": \"1987\", \"line\": {\"color\": \"#FECB52\"}, \"mode\": \"lines\", \"name\": \"1987\", \"orientation\": \"v\", \"showlegend\": true, \"stackgroup\": \"1\", \"type\": \"scatter\", \"x\": [\"M01\", \"M02\", \"M03\", \"M04\", \"M05\", \"M06\", \"M07\", \"M08\", \"M09\", \"M10\", \"M11\", \"M12\"], \"xaxis\": \"x\", \"y\": [6.6, 6.6, 6.6, 6.3, 6.3, 6.2, 6.1, 6.0, 5.9, 6.0, 5.8, 5.7], \"yaxis\": \"y\"}, {\"hovertemplate\": \"Year=1988<br>Period=%{x}<br>Value=%{y}<extra></extra>\", \"legendgroup\": \"1988\", \"line\": {\"color\": \"#636efa\"}, \"mode\": \"lines\", \"name\": \"1988\", \"orientation\": \"v\", \"showlegend\": true, \"stackgroup\": \"1\", \"type\": \"scatter\", \"x\": [\"M01\", \"M02\", \"M03\", \"M04\", \"M05\", \"M06\", \"M07\", \"M08\", \"M09\", \"M10\", \"M11\", \"M12\"], \"xaxis\": \"x\", \"y\": [5.7, 5.7, 5.7, 5.4, 5.6, 5.4, 5.4, 5.6, 5.4, 5.4, 5.3, 5.3], \"yaxis\": \"y\"}, {\"hovertemplate\": \"Year=1989<br>Period=%{x}<br>Value=%{y}<extra></extra>\", \"legendgroup\": \"1989\", \"line\": {\"color\": \"#EF553B\"}, \"mode\": \"lines\", \"name\": \"1989\", \"orientation\": \"v\", \"showlegend\": true, \"stackgroup\": \"1\", \"type\": \"scatter\", \"x\": [\"M01\", \"M02\", \"M03\", \"M04\", \"M05\", \"M06\", \"M07\", \"M08\", \"M09\", \"M10\", \"M11\", \"M12\"], \"xaxis\": \"x\", \"y\": [5.4, 5.2, 5.0, 5.2, 5.2, 5.3, 5.2, 5.2, 5.3, 5.3, 5.4, 5.4], \"yaxis\": \"y\"}, {\"hovertemplate\": \"Year=1990<br>Period=%{x}<br>Value=%{y}<extra></extra>\", \"legendgroup\": \"1990\", \"line\": {\"color\": \"#00cc96\"}, \"mode\": \"lines\", \"name\": \"1990\", \"orientation\": \"v\", \"showlegend\": true, \"stackgroup\": \"1\", \"type\": \"scatter\", \"x\": [\"M01\", \"M02\", \"M03\", \"M04\", \"M05\", \"M06\", \"M07\", \"M08\", \"M09\", \"M10\", \"M11\", \"M12\"], \"xaxis\": \"x\", \"y\": [5.4, 5.3, 5.2, 5.4, 5.4, 5.2, 5.5, 5.7, 5.9, 5.9, 6.2, 6.3], \"yaxis\": \"y\"}, {\"hovertemplate\": \"Year=1991<br>Period=%{x}<br>Value=%{y}<extra></extra>\", \"legendgroup\": \"1991\", \"line\": {\"color\": \"#ab63fa\"}, \"mode\": \"lines\", \"name\": \"1991\", \"orientation\": \"v\", \"showlegend\": true, \"stackgroup\": \"1\", \"type\": \"scatter\", \"x\": [\"M01\", \"M02\", \"M03\", \"M04\", \"M05\", \"M06\", \"M07\", \"M08\", \"M09\", \"M10\", \"M11\", \"M12\"], \"xaxis\": \"x\", \"y\": [6.4, 6.6, 6.8, 6.7, 6.9, 6.9, 6.8, 6.9, 6.9, 7.0, 7.0, 7.3], \"yaxis\": \"y\"}, {\"hovertemplate\": \"Year=1992<br>Period=%{x}<br>Value=%{y}<extra></extra>\", \"legendgroup\": \"1992\", \"line\": {\"color\": \"#FFA15A\"}, \"mode\": \"lines\", \"name\": \"1992\", \"orientation\": \"v\", \"showlegend\": true, \"stackgroup\": \"1\", \"type\": \"scatter\", \"x\": [\"M01\", \"M02\", \"M03\", \"M04\", \"M05\", \"M06\", \"M07\", \"M08\", \"M09\", \"M10\", \"M11\", \"M12\"], \"xaxis\": \"x\", \"y\": [7.3, 7.4, 7.4, 7.4, 7.6, 7.8, 7.7, 7.6, 7.6, 7.3, 7.4, 7.4], \"yaxis\": \"y\"}, {\"hovertemplate\": \"Year=1993<br>Period=%{x}<br>Value=%{y}<extra></extra>\", \"legendgroup\": \"1993\", \"line\": {\"color\": \"#19d3f3\"}, \"mode\": \"lines\", \"name\": \"1993\", \"orientation\": \"v\", \"showlegend\": true, \"stackgroup\": \"1\", \"type\": \"scatter\", \"x\": [\"M01\", \"M02\", \"M03\", \"M04\", \"M05\", \"M06\", \"M07\", \"M08\", \"M09\", \"M10\", \"M11\", \"M12\"], \"xaxis\": \"x\", \"y\": [7.3, 7.1, 7.0, 7.1, 7.1, 7.0, 6.9, 6.8, 6.7, 6.8, 6.6, 6.5], \"yaxis\": \"y\"}, {\"hovertemplate\": \"Year=1994<br>Period=%{x}<br>Value=%{y}<extra></extra>\", \"legendgroup\": \"1994\", \"line\": {\"color\": \"#FF6692\"}, \"mode\": \"lines\", \"name\": \"1994\", \"orientation\": \"v\", \"showlegend\": true, \"stackgroup\": \"1\", \"type\": \"scatter\", \"x\": [\"M01\", \"M02\", \"M03\", \"M04\", \"M05\", \"M06\", \"M07\", \"M08\", \"M09\", \"M10\", \"M11\", \"M12\"], \"xaxis\": \"x\", \"y\": [6.6, 6.6, 6.5, 6.4, 6.1, 6.1, 6.1, 6.0, 5.9, 5.8, 5.6, 5.5], \"yaxis\": \"y\"}, {\"hovertemplate\": \"Year=1995<br>Period=%{x}<br>Value=%{y}<extra></extra>\", \"legendgroup\": \"1995\", \"line\": {\"color\": \"#B6E880\"}, \"mode\": \"lines\", \"name\": \"1995\", \"orientation\": \"v\", \"showlegend\": true, \"stackgroup\": \"1\", \"type\": \"scatter\", \"x\": [\"M01\", \"M02\", \"M03\", \"M04\", \"M05\", \"M06\", \"M07\", \"M08\", \"M09\", \"M10\", \"M11\", \"M12\"], \"xaxis\": \"x\", \"y\": [5.6, 5.4, 5.4, 5.8, 5.6, 5.6, 5.7, 5.7, 5.6, 5.5, 5.6, 5.6], \"yaxis\": \"y\"}, {\"hovertemplate\": \"Year=1996<br>Period=%{x}<br>Value=%{y}<extra></extra>\", \"legendgroup\": \"1996\", \"line\": {\"color\": \"#FF97FF\"}, \"mode\": \"lines\", \"name\": \"1996\", \"orientation\": \"v\", \"showlegend\": true, \"stackgroup\": \"1\", \"type\": \"scatter\", \"x\": [\"M01\", \"M02\", \"M03\", \"M04\", \"M05\", \"M06\", \"M07\", \"M08\", \"M09\", \"M10\", \"M11\", \"M12\"], \"xaxis\": \"x\", \"y\": [5.6, 5.5, 5.5, 5.6, 5.6, 5.3, 5.5, 5.1, 5.2, 5.2, 5.4, 5.4], \"yaxis\": \"y\"}, {\"hovertemplate\": \"Year=1997<br>Period=%{x}<br>Value=%{y}<extra></extra>\", \"legendgroup\": \"1997\", \"line\": {\"color\": \"#FECB52\"}, \"mode\": \"lines\", \"name\": \"1997\", \"orientation\": \"v\", \"showlegend\": true, \"stackgroup\": \"1\", \"type\": \"scatter\", \"x\": [\"M01\", \"M02\", \"M03\", \"M04\", \"M05\", \"M06\", \"M07\", \"M08\", \"M09\", \"M10\", \"M11\", \"M12\"], \"xaxis\": \"x\", \"y\": [5.3, 5.2, 5.2, 5.1, 4.9, 5.0, 4.9, 4.8, 4.9, 4.7, 4.6, 4.7], \"yaxis\": \"y\"}, {\"hovertemplate\": \"Year=1998<br>Period=%{x}<br>Value=%{y}<extra></extra>\", \"legendgroup\": \"1998\", \"line\": {\"color\": \"#636efa\"}, \"mode\": \"lines\", \"name\": \"1998\", \"orientation\": \"v\", \"showlegend\": true, \"stackgroup\": \"1\", \"type\": \"scatter\", \"x\": [\"M01\", \"M02\", \"M03\", \"M04\", \"M05\", \"M06\", \"M07\", \"M08\", \"M09\", \"M10\", \"M11\", \"M12\"], \"xaxis\": \"x\", \"y\": [4.6, 4.6, 4.7, 4.3, 4.4, 4.5, 4.5, 4.5, 4.6, 4.5, 4.4, 4.4], \"yaxis\": \"y\"}, {\"hovertemplate\": \"Year=1999<br>Period=%{x}<br>Value=%{y}<extra></extra>\", \"legendgroup\": \"1999\", \"line\": {\"color\": \"#EF553B\"}, \"mode\": \"lines\", \"name\": \"1999\", \"orientation\": \"v\", \"showlegend\": true, \"stackgroup\": \"1\", \"type\": \"scatter\", \"x\": [\"M01\", \"M02\", \"M03\", \"M04\", \"M05\", \"M06\", \"M07\", \"M08\", \"M09\", \"M10\", \"M11\", \"M12\"], \"xaxis\": \"x\", \"y\": [4.3, 4.4, 4.2, 4.3, 4.2, 4.3, 4.3, 4.2, 4.2, 4.1, 4.1, 4.0], \"yaxis\": \"y\"}, {\"hovertemplate\": \"Year=2000<br>Period=%{x}<br>Value=%{y}<extra></extra>\", \"legendgroup\": \"2000\", \"line\": {\"color\": \"#00cc96\"}, \"mode\": \"lines\", \"name\": \"2000\", \"orientation\": \"v\", \"showlegend\": true, \"stackgroup\": \"1\", \"type\": \"scatter\", \"x\": [\"M01\", \"M02\", \"M03\", \"M04\", \"M05\", \"M06\", \"M07\", \"M08\", \"M09\", \"M10\", \"M11\", \"M12\"], \"xaxis\": \"x\", \"y\": [4.0, 4.1, 4.0, 3.8, 4.0, 4.0, 4.0, 4.1, 3.9, 3.9, 3.9, 3.9], \"yaxis\": \"y\"}, {\"hovertemplate\": \"Year=2001<br>Period=%{x}<br>Value=%{y}<extra></extra>\", \"legendgroup\": \"2001\", \"line\": {\"color\": \"#ab63fa\"}, \"mode\": \"lines\", \"name\": \"2001\", \"orientation\": \"v\", \"showlegend\": true, \"stackgroup\": \"1\", \"type\": \"scatter\", \"x\": [\"M01\", \"M02\", \"M03\", \"M04\", \"M05\", \"M06\", \"M07\", \"M08\", \"M09\", \"M10\", \"M11\", \"M12\"], \"xaxis\": \"x\", \"y\": [4.2, 4.2, 4.3, 4.4, 4.3, 4.5, 4.6, 4.9, 5.0, 5.3, 5.5, 5.7], \"yaxis\": \"y\"}, {\"hovertemplate\": \"Year=2002<br>Period=%{x}<br>Value=%{y}<extra></extra>\", \"legendgroup\": \"2002\", \"line\": {\"color\": \"#FFA15A\"}, \"mode\": \"lines\", \"name\": \"2002\", \"orientation\": \"v\", \"showlegend\": true, \"stackgroup\": \"1\", \"type\": \"scatter\", \"x\": [\"M01\", \"M02\", \"M03\", \"M04\", \"M05\", \"M06\", \"M07\", \"M08\", \"M09\", \"M10\", \"M11\", \"M12\"], \"xaxis\": \"x\", \"y\": [5.7, 5.7, 5.7, 5.9, 5.8, 5.8, 5.8, 5.7, 5.7, 5.7, 5.9, 6.0], \"yaxis\": \"y\"}, {\"hovertemplate\": \"Year=2003<br>Period=%{x}<br>Value=%{y}<extra></extra>\", \"legendgroup\": \"2003\", \"line\": {\"color\": \"#19d3f3\"}, \"mode\": \"lines\", \"name\": \"2003\", \"orientation\": \"v\", \"showlegend\": true, \"stackgroup\": \"1\", \"type\": \"scatter\", \"x\": [\"M01\", \"M02\", \"M03\", \"M04\", \"M05\", \"M06\", \"M07\", \"M08\", \"M09\", \"M10\", \"M11\", \"M12\"], \"xaxis\": \"x\", \"y\": [5.8, 5.9, 5.9, 6.0, 6.1, 6.3, 6.2, 6.1, 6.1, 6.0, 5.8, 5.7], \"yaxis\": \"y\"}, {\"hovertemplate\": \"Year=2004<br>Period=%{x}<br>Value=%{y}<extra></extra>\", \"legendgroup\": \"2004\", \"line\": {\"color\": \"#FF6692\"}, \"mode\": \"lines\", \"name\": \"2004\", \"orientation\": \"v\", \"showlegend\": true, \"stackgroup\": \"1\", \"type\": \"scatter\", \"x\": [\"M01\", \"M02\", \"M03\", \"M04\", \"M05\", \"M06\", \"M07\", \"M08\", \"M09\", \"M10\", \"M11\", \"M12\"], \"xaxis\": \"x\", \"y\": [5.7, 5.6, 5.8, 5.6, 5.6, 5.6, 5.5, 5.4, 5.4, 5.5, 5.4, 5.4], \"yaxis\": \"y\"}, {\"hovertemplate\": \"Year=2005<br>Period=%{x}<br>Value=%{y}<extra></extra>\", \"legendgroup\": \"2005\", \"line\": {\"color\": \"#B6E880\"}, \"mode\": \"lines\", \"name\": \"2005\", \"orientation\": \"v\", \"showlegend\": true, \"stackgroup\": \"1\", \"type\": \"scatter\", \"x\": [\"M01\", \"M02\", \"M03\", \"M04\", \"M05\", \"M06\", \"M07\", \"M08\", \"M09\", \"M10\", \"M11\", \"M12\"], \"xaxis\": \"x\", \"y\": [5.3, 5.4, 5.2, 5.2, 5.1, 5.0, 5.0, 4.9, 5.0, 5.0, 5.0, 4.9], \"yaxis\": \"y\"}, {\"hovertemplate\": \"Year=2006<br>Period=%{x}<br>Value=%{y}<extra></extra>\", \"legendgroup\": \"2006\", \"line\": {\"color\": \"#FF97FF\"}, \"mode\": \"lines\", \"name\": \"2006\", \"orientation\": \"v\", \"showlegend\": true, \"stackgroup\": \"1\", \"type\": \"scatter\", \"x\": [\"M01\", \"M02\", \"M03\", \"M04\", \"M05\", \"M06\", \"M07\", \"M08\", \"M09\", \"M10\", \"M11\", \"M12\"], \"xaxis\": \"x\", \"y\": [4.7, 4.8, 4.7, 4.7, 4.6, 4.6, 4.7, 4.7, 4.5, 4.4, 4.5, 4.4], \"yaxis\": \"y\"}, {\"hovertemplate\": \"Year=2007<br>Period=%{x}<br>Value=%{y}<extra></extra>\", \"legendgroup\": \"2007\", \"line\": {\"color\": \"#FECB52\"}, \"mode\": \"lines\", \"name\": \"2007\", \"orientation\": \"v\", \"showlegend\": true, \"stackgroup\": \"1\", \"type\": \"scatter\", \"x\": [\"M01\", \"M02\", \"M03\", \"M04\", \"M05\", \"M06\", \"M07\", \"M08\", \"M09\", \"M10\", \"M11\", \"M12\"], \"xaxis\": \"x\", \"y\": [4.6, 4.5, 4.4, 4.5, 4.4, 4.6, 4.6, 4.6, 4.7, 4.7, 4.7, 5.0], \"yaxis\": \"y\"}, {\"hovertemplate\": \"Year=2008<br>Period=%{x}<br>Value=%{y}<extra></extra>\", \"legendgroup\": \"2008\", \"line\": {\"color\": \"#636efa\"}, \"mode\": \"lines\", \"name\": \"2008\", \"orientation\": \"v\", \"showlegend\": true, \"stackgroup\": \"1\", \"type\": \"scatter\", \"x\": [\"M01\", \"M02\", \"M03\", \"M04\", \"M05\", \"M06\", \"M07\", \"M08\", \"M09\", \"M10\", \"M11\", \"M12\"], \"xaxis\": \"x\", \"y\": [5.0, 4.8, 5.1, 5.0, 5.4, 5.5, 5.8, 6.1, 6.2, 6.6, 6.9, 7.4], \"yaxis\": \"y\"}, {\"hovertemplate\": \"Year=2009<br>Period=%{x}<br>Value=%{y}<extra></extra>\", \"legendgroup\": \"2009\", \"line\": {\"color\": \"#EF553B\"}, \"mode\": \"lines\", \"name\": \"2009\", \"orientation\": \"v\", \"showlegend\": true, \"stackgroup\": \"1\", \"type\": \"scatter\", \"x\": [\"M01\", \"M02\", \"M03\", \"M04\", \"M05\", \"M06\", \"M07\", \"M08\", \"M09\", \"M10\", \"M11\", \"M12\"], \"xaxis\": \"x\", \"y\": [7.7, 8.2, 8.6, 8.9, 9.4, 9.5, 9.4, 9.7, 9.8, 10.1, 10.0, 10.0], \"yaxis\": \"y\"}],                        {\"legend\": {\"title\": {\"text\": \"Year\"}, \"tracegroupgap\": 0}, \"margin\": {\"t\": 60}, \"template\": {\"data\": {\"bar\": [{\"error_x\": {\"color\": \"#2a3f5f\"}, \"error_y\": {\"color\": \"#2a3f5f\"}, \"marker\": {\"line\": {\"color\": \"#E5ECF6\", \"width\": 0.5}}, \"type\": \"bar\"}], \"barpolar\": [{\"marker\": {\"line\": {\"color\": \"#E5ECF6\", \"width\": 0.5}}, \"type\": \"barpolar\"}], \"carpet\": [{\"aaxis\": {\"endlinecolor\": \"#2a3f5f\", \"gridcolor\": \"white\", \"linecolor\": \"white\", \"minorgridcolor\": \"white\", \"startlinecolor\": \"#2a3f5f\"}, \"baxis\": {\"endlinecolor\": \"#2a3f5f\", \"gridcolor\": \"white\", \"linecolor\": \"white\", \"minorgridcolor\": \"white\", \"startlinecolor\": \"#2a3f5f\"}, \"type\": \"carpet\"}], \"choropleth\": [{\"colorbar\": {\"outlinewidth\": 0, \"ticks\": \"\"}, \"type\": \"choropleth\"}], \"contour\": [{\"colorbar\": {\"outlinewidth\": 0, \"ticks\": \"\"}, \"colorscale\": [[0.0, \"#0d0887\"], [0.1111111111111111, \"#46039f\"], [0.2222222222222222, \"#7201a8\"], [0.3333333333333333, \"#9c179e\"], [0.4444444444444444, \"#bd3786\"], [0.5555555555555556, \"#d8576b\"], [0.6666666666666666, \"#ed7953\"], [0.7777777777777778, \"#fb9f3a\"], [0.8888888888888888, \"#fdca26\"], [1.0, \"#f0f921\"]], \"type\": \"contour\"}], \"contourcarpet\": [{\"colorbar\": {\"outlinewidth\": 0, \"ticks\": \"\"}, \"type\": \"contourcarpet\"}], \"heatmap\": [{\"colorbar\": {\"outlinewidth\": 0, \"ticks\": \"\"}, \"colorscale\": [[0.0, \"#0d0887\"], [0.1111111111111111, \"#46039f\"], [0.2222222222222222, \"#7201a8\"], [0.3333333333333333, \"#9c179e\"], [0.4444444444444444, \"#bd3786\"], [0.5555555555555556, \"#d8576b\"], [0.6666666666666666, \"#ed7953\"], [0.7777777777777778, \"#fb9f3a\"], [0.8888888888888888, \"#fdca26\"], [1.0, \"#f0f921\"]], \"type\": \"heatmap\"}], \"heatmapgl\": [{\"colorbar\": {\"outlinewidth\": 0, \"ticks\": \"\"}, \"colorscale\": [[0.0, \"#0d0887\"], [0.1111111111111111, \"#46039f\"], [0.2222222222222222, \"#7201a8\"], [0.3333333333333333, \"#9c179e\"], [0.4444444444444444, \"#bd3786\"], [0.5555555555555556, \"#d8576b\"], [0.6666666666666666, \"#ed7953\"], [0.7777777777777778, \"#fb9f3a\"], [0.8888888888888888, \"#fdca26\"], [1.0, \"#f0f921\"]], \"type\": \"heatmapgl\"}], \"histogram\": [{\"marker\": {\"colorbar\": {\"outlinewidth\": 0, \"ticks\": \"\"}}, \"type\": \"histogram\"}], \"histogram2d\": [{\"colorbar\": {\"outlinewidth\": 0, \"ticks\": \"\"}, \"colorscale\": [[0.0, \"#0d0887\"], [0.1111111111111111, \"#46039f\"], [0.2222222222222222, \"#7201a8\"], [0.3333333333333333, \"#9c179e\"], [0.4444444444444444, \"#bd3786\"], [0.5555555555555556, \"#d8576b\"], [0.6666666666666666, \"#ed7953\"], [0.7777777777777778, \"#fb9f3a\"], [0.8888888888888888, \"#fdca26\"], [1.0, \"#f0f921\"]], \"type\": \"histogram2d\"}], \"histogram2dcontour\": [{\"colorbar\": {\"outlinewidth\": 0, \"ticks\": \"\"}, \"colorscale\": [[0.0, \"#0d0887\"], [0.1111111111111111, \"#46039f\"], [0.2222222222222222, \"#7201a8\"], [0.3333333333333333, \"#9c179e\"], [0.4444444444444444, \"#bd3786\"], [0.5555555555555556, \"#d8576b\"], [0.6666666666666666, \"#ed7953\"], [0.7777777777777778, \"#fb9f3a\"], [0.8888888888888888, \"#fdca26\"], [1.0, \"#f0f921\"]], \"type\": \"histogram2dcontour\"}], \"mesh3d\": [{\"colorbar\": {\"outlinewidth\": 0, \"ticks\": \"\"}, \"type\": \"mesh3d\"}], \"parcoords\": [{\"line\": {\"colorbar\": {\"outlinewidth\": 0, \"ticks\": \"\"}}, \"type\": \"parcoords\"}], \"pie\": [{\"automargin\": true, \"type\": \"pie\"}], \"scatter\": [{\"marker\": {\"colorbar\": {\"outlinewidth\": 0, \"ticks\": \"\"}}, \"type\": \"scatter\"}], \"scatter3d\": [{\"line\": {\"colorbar\": {\"outlinewidth\": 0, \"ticks\": \"\"}}, \"marker\": {\"colorbar\": {\"outlinewidth\": 0, \"ticks\": \"\"}}, \"type\": \"scatter3d\"}], \"scattercarpet\": [{\"marker\": {\"colorbar\": {\"outlinewidth\": 0, \"ticks\": \"\"}}, \"type\": \"scattercarpet\"}], \"scattergeo\": [{\"marker\": {\"colorbar\": {\"outlinewidth\": 0, \"ticks\": \"\"}}, \"type\": \"scattergeo\"}], \"scattergl\": [{\"marker\": {\"colorbar\": {\"outlinewidth\": 0, \"ticks\": \"\"}}, \"type\": \"scattergl\"}], \"scattermapbox\": [{\"marker\": {\"colorbar\": {\"outlinewidth\": 0, \"ticks\": \"\"}}, \"type\": \"scattermapbox\"}], \"scatterpolar\": [{\"marker\": {\"colorbar\": {\"outlinewidth\": 0, \"ticks\": \"\"}}, \"type\": \"scatterpolar\"}], \"scatterpolargl\": [{\"marker\": {\"colorbar\": {\"outlinewidth\": 0, \"ticks\": \"\"}}, \"type\": \"scatterpolargl\"}], \"scatterternary\": [{\"marker\": {\"colorbar\": {\"outlinewidth\": 0, \"ticks\": \"\"}}, \"type\": \"scatterternary\"}], \"surface\": [{\"colorbar\": {\"outlinewidth\": 0, \"ticks\": \"\"}, \"colorscale\": [[0.0, \"#0d0887\"], [0.1111111111111111, \"#46039f\"], [0.2222222222222222, \"#7201a8\"], [0.3333333333333333, \"#9c179e\"], [0.4444444444444444, \"#bd3786\"], [0.5555555555555556, \"#d8576b\"], [0.6666666666666666, \"#ed7953\"], [0.7777777777777778, \"#fb9f3a\"], [0.8888888888888888, \"#fdca26\"], [1.0, \"#f0f921\"]], \"type\": \"surface\"}], \"table\": [{\"cells\": {\"fill\": {\"color\": \"#EBF0F8\"}, \"line\": {\"color\": \"white\"}}, \"header\": {\"fill\": {\"color\": \"#C8D4E3\"}, \"line\": {\"color\": \"white\"}}, \"type\": \"table\"}]}, \"layout\": {\"annotationdefaults\": {\"arrowcolor\": \"#2a3f5f\", \"arrowhead\": 0, \"arrowwidth\": 1}, \"autotypenumbers\": \"strict\", \"coloraxis\": {\"colorbar\": {\"outlinewidth\": 0, \"ticks\": \"\"}}, \"colorscale\": {\"diverging\": [[0, \"#8e0152\"], [0.1, \"#c51b7d\"], [0.2, \"#de77ae\"], [0.3, \"#f1b6da\"], [0.4, \"#fde0ef\"], [0.5, \"#f7f7f7\"], [0.6, \"#e6f5d0\"], [0.7, \"#b8e186\"], [0.8, \"#7fbc41\"], [0.9, \"#4d9221\"], [1, \"#276419\"]], \"sequential\": [[0.0, \"#0d0887\"], [0.1111111111111111, \"#46039f\"], [0.2222222222222222, \"#7201a8\"], [0.3333333333333333, \"#9c179e\"], [0.4444444444444444, \"#bd3786\"], [0.5555555555555556, \"#d8576b\"], [0.6666666666666666, \"#ed7953\"], [0.7777777777777778, \"#fb9f3a\"], [0.8888888888888888, \"#fdca26\"], [1.0, \"#f0f921\"]], \"sequentialminus\": [[0.0, \"#0d0887\"], [0.1111111111111111, \"#46039f\"], [0.2222222222222222, \"#7201a8\"], [0.3333333333333333, \"#9c179e\"], [0.4444444444444444, \"#bd3786\"], [0.5555555555555556, \"#d8576b\"], [0.6666666666666666, \"#ed7953\"], [0.7777777777777778, \"#fb9f3a\"], [0.8888888888888888, \"#fdca26\"], [1.0, \"#f0f921\"]]}, \"colorway\": [\"#636efa\", \"#EF553B\", \"#00cc96\", \"#ab63fa\", \"#FFA15A\", \"#19d3f3\", \"#FF6692\", \"#B6E880\", \"#FF97FF\", \"#FECB52\"], \"font\": {\"color\": \"#2a3f5f\"}, \"geo\": {\"bgcolor\": \"white\", \"lakecolor\": \"white\", \"landcolor\": \"#E5ECF6\", \"showlakes\": true, \"showland\": true, \"subunitcolor\": \"white\"}, \"hoverlabel\": {\"align\": \"left\"}, \"hovermode\": \"closest\", \"mapbox\": {\"style\": \"light\"}, \"paper_bgcolor\": \"white\", \"plot_bgcolor\": \"#E5ECF6\", \"polar\": {\"angularaxis\": {\"gridcolor\": \"white\", \"linecolor\": \"white\", \"ticks\": \"\"}, \"bgcolor\": \"#E5ECF6\", \"radialaxis\": {\"gridcolor\": \"white\", \"linecolor\": \"white\", \"ticks\": \"\"}}, \"scene\": {\"xaxis\": {\"backgroundcolor\": \"#E5ECF6\", \"gridcolor\": \"white\", \"gridwidth\": 2, \"linecolor\": \"white\", \"showbackground\": true, \"ticks\": \"\", \"zerolinecolor\": \"white\"}, \"yaxis\": {\"backgroundcolor\": \"#E5ECF6\", \"gridcolor\": \"white\", \"gridwidth\": 2, \"linecolor\": \"white\", \"showbackground\": true, \"ticks\": \"\", \"zerolinecolor\": \"white\"}, \"zaxis\": {\"backgroundcolor\": \"#E5ECF6\", \"gridcolor\": \"white\", \"gridwidth\": 2, \"linecolor\": \"white\", \"showbackground\": true, \"ticks\": \"\", \"zerolinecolor\": \"white\"}}, \"shapedefaults\": {\"line\": {\"color\": \"#2a3f5f\"}}, \"ternary\": {\"aaxis\": {\"gridcolor\": \"white\", \"linecolor\": \"white\", \"ticks\": \"\"}, \"baxis\": {\"gridcolor\": \"white\", \"linecolor\": \"white\", \"ticks\": \"\"}, \"bgcolor\": \"#E5ECF6\", \"caxis\": {\"gridcolor\": \"white\", \"linecolor\": \"white\", \"ticks\": \"\"}}, \"title\": {\"x\": 0.05}, \"xaxis\": {\"automargin\": true, \"gridcolor\": \"white\", \"linecolor\": \"white\", \"ticks\": \"\", \"title\": {\"standoff\": 15}, \"zerolinecolor\": \"white\", \"zerolinewidth\": 2}, \"yaxis\": {\"automargin\": true, \"gridcolor\": \"white\", \"linecolor\": \"white\", \"ticks\": \"\", \"title\": {\"standoff\": 15}, \"zerolinecolor\": \"white\", \"zerolinewidth\": 2}}}, \"xaxis\": {\"anchor\": \"y\", \"domain\": [0.0, 1.0], \"title\": {\"text\": \"Period\"}}, \"yaxis\": {\"anchor\": \"x\", \"domain\": [0.0, 1.0], \"title\": {\"text\": \"Value\"}}},                        {\"responsive\": true}                    ).then(function(){\n",
       "                            \n",
       "var gd = document.getElementById('546d5271-4586-4de3-9269-c1afdf4784b6');\n",
       "var x = new MutationObserver(function (mutations, observer) {{\n",
       "        var display = window.getComputedStyle(gd).display;\n",
       "        if (!display || display === 'none') {{\n",
       "            console.log([gd, 'removed!']);\n",
       "            Plotly.purge(gd);\n",
       "            observer.disconnect();\n",
       "        }}\n",
       "}});\n",
       "\n",
       "// Listen for the removal of the full notebook cells\n",
       "var notebookContainer = gd.closest('#notebook-container');\n",
       "if (notebookContainer) {{\n",
       "    x.observe(notebookContainer, {childList: true});\n",
       "}}\n",
       "\n",
       "// Listen for the clearing of the current output cell\n",
       "var outputEl = gd.closest('.output');\n",
       "if (outputEl) {{\n",
       "    x.observe(outputEl, {childList: true});\n",
       "}}\n",
       "\n",
       "                        })                };                });            </script>        </div>"
      ]
     },
     "metadata": {},
     "output_type": "display_data"
    }
   ],
   "source": [
    "import plotly.express as px\n",
    "  \n",
    "\n",
    "  \n",
    "fig = px.area(df_unemp, x=\"Period\", y=\"Value\",\n",
    "            color=\"Year\",\n",
    "            hover_data=['Period'],\n",
    "             )\n",
    "  \n",
    "fig.show()"
   ]
  },
  {
   "cell_type": "code",
   "execution_count": 28,
   "id": "40d1e7a0",
   "metadata": {},
   "outputs": [
    {
     "data": {
      "application/vnd.plotly.v1+json": {
       "config": {
        "plotlyServerURL": "https://plot.ly"
       },
       "data": [
        {
         "hovertemplate": "category=Food<br>year=%{x}<br>expenditure=%{y}<extra></extra>",
         "legendgroup": "Food",
         "line": {
          "color": "#636efa"
         },
         "mode": "lines",
         "name": "Food",
         "orientation": "v",
         "showlegend": true,
         "stackgroup": "1",
         "type": "scatter",
         "x": [
          2008,
          2007,
          2006,
          2005,
          2004,
          2003,
          2002,
          2001,
          2000,
          1999,
          1998,
          1997,
          1996,
          1995,
          1994,
          1993,
          1992,
          1991,
          1990,
          1989,
          1988,
          1987,
          1986,
          1985,
          1984
         ],
         "xaxis": "x",
         "y": [
          6443,
          6113,
          6111,
          5931,
          5781,
          5340,
          5375,
          5321,
          5158,
          5031,
          4810,
          4801,
          4698,
          4505,
          4411,
          4399,
          4723,
          4271,
          4296,
          4152,
          3748,
          3664,
          3448,
          3477,
          3290
         ],
         "yaxis": "y"
        },
        {
         "hovertemplate": "category=Alcoholic Beverages<br>year=%{x}<br>expenditure=%{y}<extra></extra>",
         "legendgroup": "Alcoholic Beverages",
         "line": {
          "color": "#EF553B"
         },
         "mode": "lines",
         "name": "Alcoholic Beverages",
         "orientation": "v",
         "showlegend": true,
         "stackgroup": "1",
         "type": "scatter",
         "x": [
          2008,
          2007,
          2006,
          2005,
          2004,
          2003,
          2002,
          2001,
          2000,
          1999,
          1998,
          1997,
          1996,
          1995,
          1994,
          1993,
          1992,
          1991,
          1990,
          1989,
          1988,
          1987,
          1986,
          1985,
          1984
         ],
         "xaxis": "x",
         "y": [
          444,
          457,
          497,
          426,
          459,
          391,
          376,
          349,
          372,
          318,
          309,
          309,
          309,
          277,
          278,
          268,
          301,
          297,
          293,
          284,
          269,
          289,
          271,
          306,
          275
         ],
         "yaxis": "y"
        },
        {
         "hovertemplate": "category=Housing<br>year=%{x}<br>expenditure=%{y}<extra></extra>",
         "legendgroup": "Housing",
         "line": {
          "color": "#00cc96"
         },
         "mode": "lines",
         "name": "Housing",
         "orientation": "v",
         "showlegend": true,
         "stackgroup": "1",
         "type": "scatter",
         "x": [
          2008,
          2007,
          2006,
          2005,
          2004,
          2003,
          2002,
          2001,
          2000,
          1999,
          1998,
          1997,
          1996,
          1995,
          1994,
          1993,
          1992,
          1991,
          1990,
          1989,
          1988,
          1987,
          1986,
          1985,
          1984
         ],
         "xaxis": "x",
         "y": [
          17109,
          16920,
          16366,
          15167,
          13918,
          13432,
          13283,
          13011,
          12319,
          12057,
          11713,
          11272,
          10747,
          10458,
          10106,
          9636,
          9477,
          9252,
          8703,
          8609,
          8079,
          7569,
          7292,
          7087,
          6674
         ],
         "yaxis": "y"
        },
        {
         "hovertemplate": "category=Apparel<br>year=%{x}<br>expenditure=%{y}<extra></extra>",
         "legendgroup": "Apparel",
         "line": {
          "color": "#ab63fa"
         },
         "mode": "lines",
         "name": "Apparel",
         "orientation": "v",
         "showlegend": true,
         "stackgroup": "1",
         "type": "scatter",
         "x": [
          2008,
          2007,
          2006,
          2005,
          2004,
          2003,
          2002,
          2001,
          2000,
          1999,
          1998,
          1997,
          1996,
          1995,
          1994,
          1993,
          1992,
          1991,
          1990,
          1989,
          1988,
          1987,
          1986,
          1985,
          1984
         ],
         "xaxis": "x",
         "y": [
          1801,
          1881,
          1874,
          1886,
          1816,
          1640,
          1749,
          1743,
          1856,
          1743,
          1674,
          1729,
          1752,
          1704,
          1644,
          1676,
          1710,
          1735,
          1618,
          1582,
          1489,
          1446,
          1346,
          1420,
          1319
         ],
         "yaxis": "y"
        },
        {
         "hovertemplate": "category=Transportation<br>year=%{x}<br>expenditure=%{y}<extra></extra>",
         "legendgroup": "Transportation",
         "line": {
          "color": "#FFA15A"
         },
         "mode": "lines",
         "name": "Transportation",
         "orientation": "v",
         "showlegend": true,
         "stackgroup": "1",
         "type": "scatter",
         "x": [
          2008,
          2007,
          2006,
          2005,
          2004,
          2003,
          2002,
          2001,
          2000,
          1999,
          1998,
          1997,
          1996,
          1995,
          1994,
          1993,
          1992,
          1991,
          1990,
          1989,
          1988,
          1987,
          1986,
          1985,
          1984
         ],
         "xaxis": "x",
         "y": [
          8604,
          8758,
          8508,
          8344,
          7801,
          7781,
          7759,
          7633,
          7417,
          7011,
          6616,
          6457,
          6382,
          6014,
          6044,
          5453,
          5228,
          5151,
          5120,
          5187,
          5093,
          4600,
          4842,
          4587,
          4304
         ],
         "yaxis": "y"
        },
        {
         "hovertemplate": "category=Healthcare<br>year=%{x}<br>expenditure=%{y}<extra></extra>",
         "legendgroup": "Healthcare",
         "line": {
          "color": "#19d3f3"
         },
         "mode": "lines",
         "name": "Healthcare",
         "orientation": "v",
         "showlegend": true,
         "stackgroup": "1",
         "type": "scatter",
         "x": [
          2008,
          2007,
          2006,
          2005,
          2004,
          2003,
          2002,
          2001,
          2000,
          1999,
          1998,
          1997,
          1996,
          1995,
          1994,
          1993,
          1992,
          1991,
          1990,
          1989,
          1988,
          1987,
          1986,
          1985,
          1984
         ],
         "xaxis": "x",
         "y": [
          2976,
          2853,
          2766,
          2664,
          2574,
          2416,
          2350,
          2182,
          2066,
          1959,
          1903,
          1841,
          1770,
          1732,
          1755,
          1776,
          1634,
          1554,
          1480,
          1407,
          1298,
          1135,
          1135,
          1108,
          1049
         ],
         "yaxis": "y"
        },
        {
         "hovertemplate": "category=Entertainment<br>year=%{x}<br>expenditure=%{y}<extra></extra>",
         "legendgroup": "Entertainment",
         "line": {
          "color": "#FF6692"
         },
         "mode": "lines",
         "name": "Entertainment",
         "orientation": "v",
         "showlegend": true,
         "stackgroup": "1",
         "type": "scatter",
         "x": [
          2008,
          2007,
          2006,
          2005,
          2004,
          2003,
          2002,
          2001,
          2000,
          1999,
          1998,
          1997,
          1996,
          1995,
          1994,
          1993,
          1992,
          1991,
          1990,
          1989,
          1988,
          1987,
          1986,
          1985,
          1984
         ],
         "xaxis": "x",
         "y": [
          2835,
          2698,
          2376,
          2388,
          2218,
          2060,
          2079,
          1953,
          1863,
          1891,
          1746,
          1813,
          1834,
          1612,
          1567,
          1626,
          1500,
          1472,
          1422,
          1424,
          1329,
          1193,
          1149,
          1170,
          1055
         ],
         "yaxis": "y"
        },
        {
         "hovertemplate": "category=Personal Care<br>year=%{x}<br>expenditure=%{y}<extra></extra>",
         "legendgroup": "Personal Care",
         "line": {
          "color": "#B6E880"
         },
         "mode": "lines",
         "name": "Personal Care",
         "orientation": "v",
         "showlegend": true,
         "stackgroup": "1",
         "type": "scatter",
         "x": [
          2008,
          2007,
          2006,
          2005,
          2004,
          2003,
          2002,
          2001,
          2000,
          1999,
          1998,
          1997,
          1996,
          1995,
          1994,
          1993,
          1992,
          1991,
          1990,
          1989,
          1988,
          1987,
          1986,
          1985,
          1984
         ],
         "xaxis": "x",
         "y": [
          616,
          588,
          585,
          541,
          581,
          527,
          526,
          485,
          564,
          408,
          401,
          528,
          513,
          403,
          397,
          385,
          387,
          399,
          364,
          366,
          334,
          330,
          303,
          303,
          289
         ],
         "yaxis": "y"
        },
        {
         "hovertemplate": "category=Reading<br>year=%{x}<br>expenditure=%{y}<extra></extra>",
         "legendgroup": "Reading",
         "line": {
          "color": "#FF97FF"
         },
         "mode": "lines",
         "name": "Reading",
         "orientation": "v",
         "showlegend": true,
         "stackgroup": "1",
         "type": "scatter",
         "x": [
          2008,
          2007,
          2006,
          2005,
          2004,
          2003,
          2002,
          2001,
          2000,
          1999,
          1998,
          1997,
          1996,
          1995,
          1994,
          1993,
          1992,
          1991,
          1990,
          1989,
          1988,
          1987,
          1986,
          1985,
          1984
         ],
         "xaxis": "x",
         "y": [
          116,
          118,
          117,
          126,
          130,
          127,
          139,
          141,
          146,
          159,
          161,
          164,
          159,
          162,
          165,
          166,
          162,
          163,
          153,
          157,
          150,
          142,
          140,
          141,
          132
         ],
         "yaxis": "y"
        },
        {
         "hovertemplate": "category=Education<br>year=%{x}<br>expenditure=%{y}<extra></extra>",
         "legendgroup": "Education",
         "line": {
          "color": "#FECB52"
         },
         "mode": "lines",
         "name": "Education",
         "orientation": "v",
         "showlegend": true,
         "stackgroup": "1",
         "type": "scatter",
         "x": [
          2008,
          2007,
          2006,
          2005,
          2004,
          2003,
          2002,
          2001,
          2000,
          1999,
          1998,
          1997,
          1996,
          1995,
          1994,
          1993,
          1992,
          1991,
          1990,
          1989,
          1988,
          1987,
          1986,
          1985,
          1984
         ],
         "xaxis": "x",
         "y": [
          1046,
          945,
          888,
          940,
          905,
          783,
          752,
          648,
          632,
          635,
          580,
          571,
          524,
          471,
          460,
          455,
          426,
          447,
          406,
          367,
          342,
          337,
          314,
          321,
          303
         ],
         "yaxis": "y"
        },
        {
         "hovertemplate": "category=Tobacco Products<br>year=%{x}<br>expenditure=%{y}<extra></extra>",
         "legendgroup": "Tobacco Products",
         "line": {
          "color": "#636efa"
         },
         "mode": "lines",
         "name": "Tobacco Products",
         "orientation": "v",
         "showlegend": true,
         "stackgroup": "1",
         "type": "scatter",
         "x": [
          2008,
          2007,
          2006,
          2005,
          2004,
          2003,
          2002,
          2001,
          2000,
          1999,
          1998,
          1997,
          1996,
          1995,
          1994,
          1993,
          1992,
          1991,
          1990,
          1989,
          1988,
          1987,
          1986,
          1985,
          1984
         ],
         "xaxis": "x",
         "y": [
          317,
          323,
          327,
          319,
          288,
          290,
          320,
          308,
          319,
          300,
          273,
          264,
          255,
          269,
          259,
          268,
          275,
          276,
          274,
          261,
          242,
          232,
          230,
          219,
          228
         ],
         "yaxis": "y"
        },
        {
         "hovertemplate": "category=Miscellaneous<br>year=%{x}<br>expenditure=%{y}<extra></extra>",
         "legendgroup": "Miscellaneous",
         "line": {
          "color": "#EF553B"
         },
         "mode": "lines",
         "name": "Miscellaneous",
         "orientation": "v",
         "showlegend": true,
         "stackgroup": "1",
         "type": "scatter",
         "x": [
          2008,
          2007,
          2006,
          2005,
          2004,
          2003,
          2002,
          2001,
          2000,
          1999,
          1998,
          1997,
          1996,
          1995,
          1994,
          1993,
          1992,
          1991,
          1990,
          1989,
          1988,
          1987,
          1986,
          1985,
          1984
         ],
         "xaxis": "x",
         "y": [
          840,
          808,
          846,
          808,
          690,
          606,
          792,
          750,
          776,
          867,
          860,
          847,
          855,
          766,
          749,
          715,
          765,
          860,
          842,
          643,
          578,
          562,
          522,
          529,
          451
         ],
         "yaxis": "y"
        },
        {
         "hovertemplate": "category=Cash Contributions<br>year=%{x}<br>expenditure=%{y}<extra></extra>",
         "legendgroup": "Cash Contributions",
         "line": {
          "color": "#00cc96"
         },
         "mode": "lines",
         "name": "Cash Contributions",
         "orientation": "v",
         "showlegend": true,
         "stackgroup": "1",
         "type": "scatter",
         "x": [
          2008,
          2007,
          2006,
          2005,
          2004,
          2003,
          2002,
          2001,
          2000,
          1999,
          1998,
          1997,
          1996,
          1995,
          1994,
          1993,
          1992,
          1991,
          1990,
          1989,
          1988,
          1987,
          1986,
          1985,
          1984
         ],
         "xaxis": "x",
         "y": [
          1737,
          1821,
          1869,
          1663,
          1408,
          1370,
          1277,
          1258,
          1192,
          1181,
          1109,
          1001,
          940,
          925,
          960,
          961,
          958,
          950,
          816,
          900,
          693,
          741,
          746,
          805,
          706
         ],
         "yaxis": "y"
        },
        {
         "hovertemplate": "category=Personal Insurance<br>year=%{x}<br>expenditure=%{y}<extra></extra>",
         "legendgroup": "Personal Insurance",
         "line": {
          "color": "#ab63fa"
         },
         "mode": "lines",
         "name": "Personal Insurance",
         "orientation": "v",
         "showlegend": true,
         "stackgroup": "1",
         "type": "scatter",
         "x": [
          2008,
          2007,
          2006,
          2005,
          2004,
          2003,
          2002,
          2001,
          2000,
          1999,
          1998,
          1997,
          1996,
          1995,
          1994,
          1993,
          1992,
          1991,
          1990,
          1989,
          1988,
          1987,
          1986,
          1985,
          1984
         ],
         "xaxis": "x",
         "y": [
          5605,
          5336,
          5270,
          5204,
          4823,
          4055,
          3899,
          3737,
          3365,
          3436,
          3381,
          3223,
          3060,
          2964,
          2938,
          2908,
          2750,
          2787,
          2592,
          2472,
          2249,
          2175,
          2127,
          2016,
          1897
         ],
         "yaxis": "y"
        }
       ],
       "layout": {
        "legend": {
         "title": {
          "text": "category"
         },
         "tracegroupgap": 0
        },
        "margin": {
         "t": 60
        },
        "template": {
         "data": {
          "bar": [
           {
            "error_x": {
             "color": "#2a3f5f"
            },
            "error_y": {
             "color": "#2a3f5f"
            },
            "marker": {
             "line": {
              "color": "#E5ECF6",
              "width": 0.5
             }
            },
            "type": "bar"
           }
          ],
          "barpolar": [
           {
            "marker": {
             "line": {
              "color": "#E5ECF6",
              "width": 0.5
             }
            },
            "type": "barpolar"
           }
          ],
          "carpet": [
           {
            "aaxis": {
             "endlinecolor": "#2a3f5f",
             "gridcolor": "white",
             "linecolor": "white",
             "minorgridcolor": "white",
             "startlinecolor": "#2a3f5f"
            },
            "baxis": {
             "endlinecolor": "#2a3f5f",
             "gridcolor": "white",
             "linecolor": "white",
             "minorgridcolor": "white",
             "startlinecolor": "#2a3f5f"
            },
            "type": "carpet"
           }
          ],
          "choropleth": [
           {
            "colorbar": {
             "outlinewidth": 0,
             "ticks": ""
            },
            "type": "choropleth"
           }
          ],
          "contour": [
           {
            "colorbar": {
             "outlinewidth": 0,
             "ticks": ""
            },
            "colorscale": [
             [
              0,
              "#0d0887"
             ],
             [
              0.1111111111111111,
              "#46039f"
             ],
             [
              0.2222222222222222,
              "#7201a8"
             ],
             [
              0.3333333333333333,
              "#9c179e"
             ],
             [
              0.4444444444444444,
              "#bd3786"
             ],
             [
              0.5555555555555556,
              "#d8576b"
             ],
             [
              0.6666666666666666,
              "#ed7953"
             ],
             [
              0.7777777777777778,
              "#fb9f3a"
             ],
             [
              0.8888888888888888,
              "#fdca26"
             ],
             [
              1,
              "#f0f921"
             ]
            ],
            "type": "contour"
           }
          ],
          "contourcarpet": [
           {
            "colorbar": {
             "outlinewidth": 0,
             "ticks": ""
            },
            "type": "contourcarpet"
           }
          ],
          "heatmap": [
           {
            "colorbar": {
             "outlinewidth": 0,
             "ticks": ""
            },
            "colorscale": [
             [
              0,
              "#0d0887"
             ],
             [
              0.1111111111111111,
              "#46039f"
             ],
             [
              0.2222222222222222,
              "#7201a8"
             ],
             [
              0.3333333333333333,
              "#9c179e"
             ],
             [
              0.4444444444444444,
              "#bd3786"
             ],
             [
              0.5555555555555556,
              "#d8576b"
             ],
             [
              0.6666666666666666,
              "#ed7953"
             ],
             [
              0.7777777777777778,
              "#fb9f3a"
             ],
             [
              0.8888888888888888,
              "#fdca26"
             ],
             [
              1,
              "#f0f921"
             ]
            ],
            "type": "heatmap"
           }
          ],
          "heatmapgl": [
           {
            "colorbar": {
             "outlinewidth": 0,
             "ticks": ""
            },
            "colorscale": [
             [
              0,
              "#0d0887"
             ],
             [
              0.1111111111111111,
              "#46039f"
             ],
             [
              0.2222222222222222,
              "#7201a8"
             ],
             [
              0.3333333333333333,
              "#9c179e"
             ],
             [
              0.4444444444444444,
              "#bd3786"
             ],
             [
              0.5555555555555556,
              "#d8576b"
             ],
             [
              0.6666666666666666,
              "#ed7953"
             ],
             [
              0.7777777777777778,
              "#fb9f3a"
             ],
             [
              0.8888888888888888,
              "#fdca26"
             ],
             [
              1,
              "#f0f921"
             ]
            ],
            "type": "heatmapgl"
           }
          ],
          "histogram": [
           {
            "marker": {
             "colorbar": {
              "outlinewidth": 0,
              "ticks": ""
             }
            },
            "type": "histogram"
           }
          ],
          "histogram2d": [
           {
            "colorbar": {
             "outlinewidth": 0,
             "ticks": ""
            },
            "colorscale": [
             [
              0,
              "#0d0887"
             ],
             [
              0.1111111111111111,
              "#46039f"
             ],
             [
              0.2222222222222222,
              "#7201a8"
             ],
             [
              0.3333333333333333,
              "#9c179e"
             ],
             [
              0.4444444444444444,
              "#bd3786"
             ],
             [
              0.5555555555555556,
              "#d8576b"
             ],
             [
              0.6666666666666666,
              "#ed7953"
             ],
             [
              0.7777777777777778,
              "#fb9f3a"
             ],
             [
              0.8888888888888888,
              "#fdca26"
             ],
             [
              1,
              "#f0f921"
             ]
            ],
            "type": "histogram2d"
           }
          ],
          "histogram2dcontour": [
           {
            "colorbar": {
             "outlinewidth": 0,
             "ticks": ""
            },
            "colorscale": [
             [
              0,
              "#0d0887"
             ],
             [
              0.1111111111111111,
              "#46039f"
             ],
             [
              0.2222222222222222,
              "#7201a8"
             ],
             [
              0.3333333333333333,
              "#9c179e"
             ],
             [
              0.4444444444444444,
              "#bd3786"
             ],
             [
              0.5555555555555556,
              "#d8576b"
             ],
             [
              0.6666666666666666,
              "#ed7953"
             ],
             [
              0.7777777777777778,
              "#fb9f3a"
             ],
             [
              0.8888888888888888,
              "#fdca26"
             ],
             [
              1,
              "#f0f921"
             ]
            ],
            "type": "histogram2dcontour"
           }
          ],
          "mesh3d": [
           {
            "colorbar": {
             "outlinewidth": 0,
             "ticks": ""
            },
            "type": "mesh3d"
           }
          ],
          "parcoords": [
           {
            "line": {
             "colorbar": {
              "outlinewidth": 0,
              "ticks": ""
             }
            },
            "type": "parcoords"
           }
          ],
          "pie": [
           {
            "automargin": true,
            "type": "pie"
           }
          ],
          "scatter": [
           {
            "marker": {
             "colorbar": {
              "outlinewidth": 0,
              "ticks": ""
             }
            },
            "type": "scatter"
           }
          ],
          "scatter3d": [
           {
            "line": {
             "colorbar": {
              "outlinewidth": 0,
              "ticks": ""
             }
            },
            "marker": {
             "colorbar": {
              "outlinewidth": 0,
              "ticks": ""
             }
            },
            "type": "scatter3d"
           }
          ],
          "scattercarpet": [
           {
            "marker": {
             "colorbar": {
              "outlinewidth": 0,
              "ticks": ""
             }
            },
            "type": "scattercarpet"
           }
          ],
          "scattergeo": [
           {
            "marker": {
             "colorbar": {
              "outlinewidth": 0,
              "ticks": ""
             }
            },
            "type": "scattergeo"
           }
          ],
          "scattergl": [
           {
            "marker": {
             "colorbar": {
              "outlinewidth": 0,
              "ticks": ""
             }
            },
            "type": "scattergl"
           }
          ],
          "scattermapbox": [
           {
            "marker": {
             "colorbar": {
              "outlinewidth": 0,
              "ticks": ""
             }
            },
            "type": "scattermapbox"
           }
          ],
          "scatterpolar": [
           {
            "marker": {
             "colorbar": {
              "outlinewidth": 0,
              "ticks": ""
             }
            },
            "type": "scatterpolar"
           }
          ],
          "scatterpolargl": [
           {
            "marker": {
             "colorbar": {
              "outlinewidth": 0,
              "ticks": ""
             }
            },
            "type": "scatterpolargl"
           }
          ],
          "scatterternary": [
           {
            "marker": {
             "colorbar": {
              "outlinewidth": 0,
              "ticks": ""
             }
            },
            "type": "scatterternary"
           }
          ],
          "surface": [
           {
            "colorbar": {
             "outlinewidth": 0,
             "ticks": ""
            },
            "colorscale": [
             [
              0,
              "#0d0887"
             ],
             [
              0.1111111111111111,
              "#46039f"
             ],
             [
              0.2222222222222222,
              "#7201a8"
             ],
             [
              0.3333333333333333,
              "#9c179e"
             ],
             [
              0.4444444444444444,
              "#bd3786"
             ],
             [
              0.5555555555555556,
              "#d8576b"
             ],
             [
              0.6666666666666666,
              "#ed7953"
             ],
             [
              0.7777777777777778,
              "#fb9f3a"
             ],
             [
              0.8888888888888888,
              "#fdca26"
             ],
             [
              1,
              "#f0f921"
             ]
            ],
            "type": "surface"
           }
          ],
          "table": [
           {
            "cells": {
             "fill": {
              "color": "#EBF0F8"
             },
             "line": {
              "color": "white"
             }
            },
            "header": {
             "fill": {
              "color": "#C8D4E3"
             },
             "line": {
              "color": "white"
             }
            },
            "type": "table"
           }
          ]
         },
         "layout": {
          "annotationdefaults": {
           "arrowcolor": "#2a3f5f",
           "arrowhead": 0,
           "arrowwidth": 1
          },
          "autotypenumbers": "strict",
          "coloraxis": {
           "colorbar": {
            "outlinewidth": 0,
            "ticks": ""
           }
          },
          "colorscale": {
           "diverging": [
            [
             0,
             "#8e0152"
            ],
            [
             0.1,
             "#c51b7d"
            ],
            [
             0.2,
             "#de77ae"
            ],
            [
             0.3,
             "#f1b6da"
            ],
            [
             0.4,
             "#fde0ef"
            ],
            [
             0.5,
             "#f7f7f7"
            ],
            [
             0.6,
             "#e6f5d0"
            ],
            [
             0.7,
             "#b8e186"
            ],
            [
             0.8,
             "#7fbc41"
            ],
            [
             0.9,
             "#4d9221"
            ],
            [
             1,
             "#276419"
            ]
           ],
           "sequential": [
            [
             0,
             "#0d0887"
            ],
            [
             0.1111111111111111,
             "#46039f"
            ],
            [
             0.2222222222222222,
             "#7201a8"
            ],
            [
             0.3333333333333333,
             "#9c179e"
            ],
            [
             0.4444444444444444,
             "#bd3786"
            ],
            [
             0.5555555555555556,
             "#d8576b"
            ],
            [
             0.6666666666666666,
             "#ed7953"
            ],
            [
             0.7777777777777778,
             "#fb9f3a"
            ],
            [
             0.8888888888888888,
             "#fdca26"
            ],
            [
             1,
             "#f0f921"
            ]
           ],
           "sequentialminus": [
            [
             0,
             "#0d0887"
            ],
            [
             0.1111111111111111,
             "#46039f"
            ],
            [
             0.2222222222222222,
             "#7201a8"
            ],
            [
             0.3333333333333333,
             "#9c179e"
            ],
            [
             0.4444444444444444,
             "#bd3786"
            ],
            [
             0.5555555555555556,
             "#d8576b"
            ],
            [
             0.6666666666666666,
             "#ed7953"
            ],
            [
             0.7777777777777778,
             "#fb9f3a"
            ],
            [
             0.8888888888888888,
             "#fdca26"
            ],
            [
             1,
             "#f0f921"
            ]
           ]
          },
          "colorway": [
           "#636efa",
           "#EF553B",
           "#00cc96",
           "#ab63fa",
           "#FFA15A",
           "#19d3f3",
           "#FF6692",
           "#B6E880",
           "#FF97FF",
           "#FECB52"
          ],
          "font": {
           "color": "#2a3f5f"
          },
          "geo": {
           "bgcolor": "white",
           "lakecolor": "white",
           "landcolor": "#E5ECF6",
           "showlakes": true,
           "showland": true,
           "subunitcolor": "white"
          },
          "hoverlabel": {
           "align": "left"
          },
          "hovermode": "closest",
          "mapbox": {
           "style": "light"
          },
          "paper_bgcolor": "white",
          "plot_bgcolor": "#E5ECF6",
          "polar": {
           "angularaxis": {
            "gridcolor": "white",
            "linecolor": "white",
            "ticks": ""
           },
           "bgcolor": "#E5ECF6",
           "radialaxis": {
            "gridcolor": "white",
            "linecolor": "white",
            "ticks": ""
           }
          },
          "scene": {
           "xaxis": {
            "backgroundcolor": "#E5ECF6",
            "gridcolor": "white",
            "gridwidth": 2,
            "linecolor": "white",
            "showbackground": true,
            "ticks": "",
            "zerolinecolor": "white"
           },
           "yaxis": {
            "backgroundcolor": "#E5ECF6",
            "gridcolor": "white",
            "gridwidth": 2,
            "linecolor": "white",
            "showbackground": true,
            "ticks": "",
            "zerolinecolor": "white"
           },
           "zaxis": {
            "backgroundcolor": "#E5ECF6",
            "gridcolor": "white",
            "gridwidth": 2,
            "linecolor": "white",
            "showbackground": true,
            "ticks": "",
            "zerolinecolor": "white"
           }
          },
          "shapedefaults": {
           "line": {
            "color": "#2a3f5f"
           }
          },
          "ternary": {
           "aaxis": {
            "gridcolor": "white",
            "linecolor": "white",
            "ticks": ""
           },
           "baxis": {
            "gridcolor": "white",
            "linecolor": "white",
            "ticks": ""
           },
           "bgcolor": "#E5ECF6",
           "caxis": {
            "gridcolor": "white",
            "linecolor": "white",
            "ticks": ""
           }
          },
          "title": {
           "x": 0.05
          },
          "xaxis": {
           "automargin": true,
           "gridcolor": "white",
           "linecolor": "white",
           "ticks": "",
           "title": {
            "standoff": 15
           },
           "zerolinecolor": "white",
           "zerolinewidth": 2
          },
          "yaxis": {
           "automargin": true,
           "gridcolor": "white",
           "linecolor": "white",
           "ticks": "",
           "title": {
            "standoff": 15
           },
           "zerolinecolor": "white",
           "zerolinewidth": 2
          }
         }
        },
        "xaxis": {
         "anchor": "y",
         "domain": [
          0,
          1
         ],
         "title": {
          "text": "year"
         }
        },
        "yaxis": {
         "anchor": "x",
         "domain": [
          0,
          1
         ],
         "title": {
          "text": "expenditure"
         }
        }
       }
      },
      "text/html": [
       "<div>                            <div id=\"3aad7cd4-75bf-43aa-a774-4afe3e74528e\" class=\"plotly-graph-div\" style=\"height:525px; width:100%;\"></div>            <script type=\"text/javascript\">                require([\"plotly\"], function(Plotly) {                    window.PLOTLYENV=window.PLOTLYENV || {};                                    if (document.getElementById(\"3aad7cd4-75bf-43aa-a774-4afe3e74528e\")) {                    Plotly.newPlot(                        \"3aad7cd4-75bf-43aa-a774-4afe3e74528e\",                        [{\"hovertemplate\": \"category=Food<br>year=%{x}<br>expenditure=%{y}<extra></extra>\", \"legendgroup\": \"Food\", \"line\": {\"color\": \"#636efa\"}, \"mode\": \"lines\", \"name\": \"Food\", \"orientation\": \"v\", \"showlegend\": true, \"stackgroup\": \"1\", \"type\": \"scatter\", \"x\": [2008, 2007, 2006, 2005, 2004, 2003, 2002, 2001, 2000, 1999, 1998, 1997, 1996, 1995, 1994, 1993, 1992, 1991, 1990, 1989, 1988, 1987, 1986, 1985, 1984], \"xaxis\": \"x\", \"y\": [6443, 6113, 6111, 5931, 5781, 5340, 5375, 5321, 5158, 5031, 4810, 4801, 4698, 4505, 4411, 4399, 4723, 4271, 4296, 4152, 3748, 3664, 3448, 3477, 3290], \"yaxis\": \"y\"}, {\"hovertemplate\": \"category=Alcoholic Beverages<br>year=%{x}<br>expenditure=%{y}<extra></extra>\", \"legendgroup\": \"Alcoholic Beverages\", \"line\": {\"color\": \"#EF553B\"}, \"mode\": \"lines\", \"name\": \"Alcoholic Beverages\", \"orientation\": \"v\", \"showlegend\": true, \"stackgroup\": \"1\", \"type\": \"scatter\", \"x\": [2008, 2007, 2006, 2005, 2004, 2003, 2002, 2001, 2000, 1999, 1998, 1997, 1996, 1995, 1994, 1993, 1992, 1991, 1990, 1989, 1988, 1987, 1986, 1985, 1984], \"xaxis\": \"x\", \"y\": [444, 457, 497, 426, 459, 391, 376, 349, 372, 318, 309, 309, 309, 277, 278, 268, 301, 297, 293, 284, 269, 289, 271, 306, 275], \"yaxis\": \"y\"}, {\"hovertemplate\": \"category=Housing<br>year=%{x}<br>expenditure=%{y}<extra></extra>\", \"legendgroup\": \"Housing\", \"line\": {\"color\": \"#00cc96\"}, \"mode\": \"lines\", \"name\": \"Housing\", \"orientation\": \"v\", \"showlegend\": true, \"stackgroup\": \"1\", \"type\": \"scatter\", \"x\": [2008, 2007, 2006, 2005, 2004, 2003, 2002, 2001, 2000, 1999, 1998, 1997, 1996, 1995, 1994, 1993, 1992, 1991, 1990, 1989, 1988, 1987, 1986, 1985, 1984], \"xaxis\": \"x\", \"y\": [17109, 16920, 16366, 15167, 13918, 13432, 13283, 13011, 12319, 12057, 11713, 11272, 10747, 10458, 10106, 9636, 9477, 9252, 8703, 8609, 8079, 7569, 7292, 7087, 6674], \"yaxis\": \"y\"}, {\"hovertemplate\": \"category=Apparel<br>year=%{x}<br>expenditure=%{y}<extra></extra>\", \"legendgroup\": \"Apparel\", \"line\": {\"color\": \"#ab63fa\"}, \"mode\": \"lines\", \"name\": \"Apparel\", \"orientation\": \"v\", \"showlegend\": true, \"stackgroup\": \"1\", \"type\": \"scatter\", \"x\": [2008, 2007, 2006, 2005, 2004, 2003, 2002, 2001, 2000, 1999, 1998, 1997, 1996, 1995, 1994, 1993, 1992, 1991, 1990, 1989, 1988, 1987, 1986, 1985, 1984], \"xaxis\": \"x\", \"y\": [1801, 1881, 1874, 1886, 1816, 1640, 1749, 1743, 1856, 1743, 1674, 1729, 1752, 1704, 1644, 1676, 1710, 1735, 1618, 1582, 1489, 1446, 1346, 1420, 1319], \"yaxis\": \"y\"}, {\"hovertemplate\": \"category=Transportation<br>year=%{x}<br>expenditure=%{y}<extra></extra>\", \"legendgroup\": \"Transportation\", \"line\": {\"color\": \"#FFA15A\"}, \"mode\": \"lines\", \"name\": \"Transportation\", \"orientation\": \"v\", \"showlegend\": true, \"stackgroup\": \"1\", \"type\": \"scatter\", \"x\": [2008, 2007, 2006, 2005, 2004, 2003, 2002, 2001, 2000, 1999, 1998, 1997, 1996, 1995, 1994, 1993, 1992, 1991, 1990, 1989, 1988, 1987, 1986, 1985, 1984], \"xaxis\": \"x\", \"y\": [8604, 8758, 8508, 8344, 7801, 7781, 7759, 7633, 7417, 7011, 6616, 6457, 6382, 6014, 6044, 5453, 5228, 5151, 5120, 5187, 5093, 4600, 4842, 4587, 4304], \"yaxis\": \"y\"}, {\"hovertemplate\": \"category=Healthcare<br>year=%{x}<br>expenditure=%{y}<extra></extra>\", \"legendgroup\": \"Healthcare\", \"line\": {\"color\": \"#19d3f3\"}, \"mode\": \"lines\", \"name\": \"Healthcare\", \"orientation\": \"v\", \"showlegend\": true, \"stackgroup\": \"1\", \"type\": \"scatter\", \"x\": [2008, 2007, 2006, 2005, 2004, 2003, 2002, 2001, 2000, 1999, 1998, 1997, 1996, 1995, 1994, 1993, 1992, 1991, 1990, 1989, 1988, 1987, 1986, 1985, 1984], \"xaxis\": \"x\", \"y\": [2976, 2853, 2766, 2664, 2574, 2416, 2350, 2182, 2066, 1959, 1903, 1841, 1770, 1732, 1755, 1776, 1634, 1554, 1480, 1407, 1298, 1135, 1135, 1108, 1049], \"yaxis\": \"y\"}, {\"hovertemplate\": \"category=Entertainment<br>year=%{x}<br>expenditure=%{y}<extra></extra>\", \"legendgroup\": \"Entertainment\", \"line\": {\"color\": \"#FF6692\"}, \"mode\": \"lines\", \"name\": \"Entertainment\", \"orientation\": \"v\", \"showlegend\": true, \"stackgroup\": \"1\", \"type\": \"scatter\", \"x\": [2008, 2007, 2006, 2005, 2004, 2003, 2002, 2001, 2000, 1999, 1998, 1997, 1996, 1995, 1994, 1993, 1992, 1991, 1990, 1989, 1988, 1987, 1986, 1985, 1984], \"xaxis\": \"x\", \"y\": [2835, 2698, 2376, 2388, 2218, 2060, 2079, 1953, 1863, 1891, 1746, 1813, 1834, 1612, 1567, 1626, 1500, 1472, 1422, 1424, 1329, 1193, 1149, 1170, 1055], \"yaxis\": \"y\"}, {\"hovertemplate\": \"category=Personal Care<br>year=%{x}<br>expenditure=%{y}<extra></extra>\", \"legendgroup\": \"Personal Care\", \"line\": {\"color\": \"#B6E880\"}, \"mode\": \"lines\", \"name\": \"Personal Care\", \"orientation\": \"v\", \"showlegend\": true, \"stackgroup\": \"1\", \"type\": \"scatter\", \"x\": [2008, 2007, 2006, 2005, 2004, 2003, 2002, 2001, 2000, 1999, 1998, 1997, 1996, 1995, 1994, 1993, 1992, 1991, 1990, 1989, 1988, 1987, 1986, 1985, 1984], \"xaxis\": \"x\", \"y\": [616, 588, 585, 541, 581, 527, 526, 485, 564, 408, 401, 528, 513, 403, 397, 385, 387, 399, 364, 366, 334, 330, 303, 303, 289], \"yaxis\": \"y\"}, {\"hovertemplate\": \"category=Reading<br>year=%{x}<br>expenditure=%{y}<extra></extra>\", \"legendgroup\": \"Reading\", \"line\": {\"color\": \"#FF97FF\"}, \"mode\": \"lines\", \"name\": \"Reading\", \"orientation\": \"v\", \"showlegend\": true, \"stackgroup\": \"1\", \"type\": \"scatter\", \"x\": [2008, 2007, 2006, 2005, 2004, 2003, 2002, 2001, 2000, 1999, 1998, 1997, 1996, 1995, 1994, 1993, 1992, 1991, 1990, 1989, 1988, 1987, 1986, 1985, 1984], \"xaxis\": \"x\", \"y\": [116, 118, 117, 126, 130, 127, 139, 141, 146, 159, 161, 164, 159, 162, 165, 166, 162, 163, 153, 157, 150, 142, 140, 141, 132], \"yaxis\": \"y\"}, {\"hovertemplate\": \"category=Education<br>year=%{x}<br>expenditure=%{y}<extra></extra>\", \"legendgroup\": \"Education\", \"line\": {\"color\": \"#FECB52\"}, \"mode\": \"lines\", \"name\": \"Education\", \"orientation\": \"v\", \"showlegend\": true, \"stackgroup\": \"1\", \"type\": \"scatter\", \"x\": [2008, 2007, 2006, 2005, 2004, 2003, 2002, 2001, 2000, 1999, 1998, 1997, 1996, 1995, 1994, 1993, 1992, 1991, 1990, 1989, 1988, 1987, 1986, 1985, 1984], \"xaxis\": \"x\", \"y\": [1046, 945, 888, 940, 905, 783, 752, 648, 632, 635, 580, 571, 524, 471, 460, 455, 426, 447, 406, 367, 342, 337, 314, 321, 303], \"yaxis\": \"y\"}, {\"hovertemplate\": \"category=Tobacco Products<br>year=%{x}<br>expenditure=%{y}<extra></extra>\", \"legendgroup\": \"Tobacco Products\", \"line\": {\"color\": \"#636efa\"}, \"mode\": \"lines\", \"name\": \"Tobacco Products\", \"orientation\": \"v\", \"showlegend\": true, \"stackgroup\": \"1\", \"type\": \"scatter\", \"x\": [2008, 2007, 2006, 2005, 2004, 2003, 2002, 2001, 2000, 1999, 1998, 1997, 1996, 1995, 1994, 1993, 1992, 1991, 1990, 1989, 1988, 1987, 1986, 1985, 1984], \"xaxis\": \"x\", \"y\": [317, 323, 327, 319, 288, 290, 320, 308, 319, 300, 273, 264, 255, 269, 259, 268, 275, 276, 274, 261, 242, 232, 230, 219, 228], \"yaxis\": \"y\"}, {\"hovertemplate\": \"category=Miscellaneous<br>year=%{x}<br>expenditure=%{y}<extra></extra>\", \"legendgroup\": \"Miscellaneous\", \"line\": {\"color\": \"#EF553B\"}, \"mode\": \"lines\", \"name\": \"Miscellaneous\", \"orientation\": \"v\", \"showlegend\": true, \"stackgroup\": \"1\", \"type\": \"scatter\", \"x\": [2008, 2007, 2006, 2005, 2004, 2003, 2002, 2001, 2000, 1999, 1998, 1997, 1996, 1995, 1994, 1993, 1992, 1991, 1990, 1989, 1988, 1987, 1986, 1985, 1984], \"xaxis\": \"x\", \"y\": [840, 808, 846, 808, 690, 606, 792, 750, 776, 867, 860, 847, 855, 766, 749, 715, 765, 860, 842, 643, 578, 562, 522, 529, 451], \"yaxis\": \"y\"}, {\"hovertemplate\": \"category=Cash Contributions<br>year=%{x}<br>expenditure=%{y}<extra></extra>\", \"legendgroup\": \"Cash Contributions\", \"line\": {\"color\": \"#00cc96\"}, \"mode\": \"lines\", \"name\": \"Cash Contributions\", \"orientation\": \"v\", \"showlegend\": true, \"stackgroup\": \"1\", \"type\": \"scatter\", \"x\": [2008, 2007, 2006, 2005, 2004, 2003, 2002, 2001, 2000, 1999, 1998, 1997, 1996, 1995, 1994, 1993, 1992, 1991, 1990, 1989, 1988, 1987, 1986, 1985, 1984], \"xaxis\": \"x\", \"y\": [1737, 1821, 1869, 1663, 1408, 1370, 1277, 1258, 1192, 1181, 1109, 1001, 940, 925, 960, 961, 958, 950, 816, 900, 693, 741, 746, 805, 706], \"yaxis\": \"y\"}, {\"hovertemplate\": \"category=Personal Insurance<br>year=%{x}<br>expenditure=%{y}<extra></extra>\", \"legendgroup\": \"Personal Insurance\", \"line\": {\"color\": \"#ab63fa\"}, \"mode\": \"lines\", \"name\": \"Personal Insurance\", \"orientation\": \"v\", \"showlegend\": true, \"stackgroup\": \"1\", \"type\": \"scatter\", \"x\": [2008, 2007, 2006, 2005, 2004, 2003, 2002, 2001, 2000, 1999, 1998, 1997, 1996, 1995, 1994, 1993, 1992, 1991, 1990, 1989, 1988, 1987, 1986, 1985, 1984], \"xaxis\": \"x\", \"y\": [5605, 5336, 5270, 5204, 4823, 4055, 3899, 3737, 3365, 3436, 3381, 3223, 3060, 2964, 2938, 2908, 2750, 2787, 2592, 2472, 2249, 2175, 2127, 2016, 1897], \"yaxis\": \"y\"}],                        {\"legend\": {\"title\": {\"text\": \"category\"}, \"tracegroupgap\": 0}, \"margin\": {\"t\": 60}, \"template\": {\"data\": {\"bar\": [{\"error_x\": {\"color\": \"#2a3f5f\"}, \"error_y\": {\"color\": \"#2a3f5f\"}, \"marker\": {\"line\": {\"color\": \"#E5ECF6\", \"width\": 0.5}}, \"type\": \"bar\"}], \"barpolar\": [{\"marker\": {\"line\": {\"color\": \"#E5ECF6\", \"width\": 0.5}}, \"type\": \"barpolar\"}], \"carpet\": [{\"aaxis\": {\"endlinecolor\": \"#2a3f5f\", \"gridcolor\": \"white\", \"linecolor\": \"white\", \"minorgridcolor\": \"white\", \"startlinecolor\": \"#2a3f5f\"}, \"baxis\": {\"endlinecolor\": \"#2a3f5f\", \"gridcolor\": \"white\", \"linecolor\": \"white\", \"minorgridcolor\": \"white\", \"startlinecolor\": \"#2a3f5f\"}, \"type\": \"carpet\"}], \"choropleth\": [{\"colorbar\": {\"outlinewidth\": 0, \"ticks\": \"\"}, \"type\": \"choropleth\"}], \"contour\": [{\"colorbar\": {\"outlinewidth\": 0, \"ticks\": \"\"}, \"colorscale\": [[0.0, \"#0d0887\"], [0.1111111111111111, \"#46039f\"], [0.2222222222222222, \"#7201a8\"], [0.3333333333333333, \"#9c179e\"], [0.4444444444444444, \"#bd3786\"], [0.5555555555555556, \"#d8576b\"], [0.6666666666666666, \"#ed7953\"], [0.7777777777777778, \"#fb9f3a\"], [0.8888888888888888, \"#fdca26\"], [1.0, \"#f0f921\"]], \"type\": \"contour\"}], \"contourcarpet\": [{\"colorbar\": {\"outlinewidth\": 0, \"ticks\": \"\"}, \"type\": \"contourcarpet\"}], \"heatmap\": [{\"colorbar\": {\"outlinewidth\": 0, \"ticks\": \"\"}, \"colorscale\": [[0.0, \"#0d0887\"], [0.1111111111111111, \"#46039f\"], [0.2222222222222222, \"#7201a8\"], [0.3333333333333333, \"#9c179e\"], [0.4444444444444444, \"#bd3786\"], [0.5555555555555556, \"#d8576b\"], [0.6666666666666666, \"#ed7953\"], [0.7777777777777778, \"#fb9f3a\"], [0.8888888888888888, \"#fdca26\"], [1.0, \"#f0f921\"]], \"type\": \"heatmap\"}], \"heatmapgl\": [{\"colorbar\": {\"outlinewidth\": 0, \"ticks\": \"\"}, \"colorscale\": [[0.0, \"#0d0887\"], [0.1111111111111111, \"#46039f\"], [0.2222222222222222, \"#7201a8\"], [0.3333333333333333, \"#9c179e\"], [0.4444444444444444, \"#bd3786\"], [0.5555555555555556, \"#d8576b\"], [0.6666666666666666, \"#ed7953\"], [0.7777777777777778, \"#fb9f3a\"], [0.8888888888888888, \"#fdca26\"], [1.0, \"#f0f921\"]], \"type\": \"heatmapgl\"}], \"histogram\": [{\"marker\": {\"colorbar\": {\"outlinewidth\": 0, \"ticks\": \"\"}}, \"type\": \"histogram\"}], \"histogram2d\": [{\"colorbar\": {\"outlinewidth\": 0, \"ticks\": \"\"}, \"colorscale\": [[0.0, \"#0d0887\"], [0.1111111111111111, \"#46039f\"], [0.2222222222222222, \"#7201a8\"], [0.3333333333333333, \"#9c179e\"], [0.4444444444444444, \"#bd3786\"], [0.5555555555555556, \"#d8576b\"], [0.6666666666666666, \"#ed7953\"], [0.7777777777777778, \"#fb9f3a\"], [0.8888888888888888, \"#fdca26\"], [1.0, \"#f0f921\"]], \"type\": \"histogram2d\"}], \"histogram2dcontour\": [{\"colorbar\": {\"outlinewidth\": 0, \"ticks\": \"\"}, \"colorscale\": [[0.0, \"#0d0887\"], [0.1111111111111111, \"#46039f\"], [0.2222222222222222, \"#7201a8\"], [0.3333333333333333, \"#9c179e\"], [0.4444444444444444, \"#bd3786\"], [0.5555555555555556, \"#d8576b\"], [0.6666666666666666, \"#ed7953\"], [0.7777777777777778, \"#fb9f3a\"], [0.8888888888888888, \"#fdca26\"], [1.0, \"#f0f921\"]], \"type\": \"histogram2dcontour\"}], \"mesh3d\": [{\"colorbar\": {\"outlinewidth\": 0, \"ticks\": \"\"}, \"type\": \"mesh3d\"}], \"parcoords\": [{\"line\": {\"colorbar\": {\"outlinewidth\": 0, \"ticks\": \"\"}}, \"type\": \"parcoords\"}], \"pie\": [{\"automargin\": true, \"type\": \"pie\"}], \"scatter\": [{\"marker\": {\"colorbar\": {\"outlinewidth\": 0, \"ticks\": \"\"}}, \"type\": \"scatter\"}], \"scatter3d\": [{\"line\": {\"colorbar\": {\"outlinewidth\": 0, \"ticks\": \"\"}}, \"marker\": {\"colorbar\": {\"outlinewidth\": 0, \"ticks\": \"\"}}, \"type\": \"scatter3d\"}], \"scattercarpet\": [{\"marker\": {\"colorbar\": {\"outlinewidth\": 0, \"ticks\": \"\"}}, \"type\": \"scattercarpet\"}], \"scattergeo\": [{\"marker\": {\"colorbar\": {\"outlinewidth\": 0, \"ticks\": \"\"}}, \"type\": \"scattergeo\"}], \"scattergl\": [{\"marker\": {\"colorbar\": {\"outlinewidth\": 0, \"ticks\": \"\"}}, \"type\": \"scattergl\"}], \"scattermapbox\": [{\"marker\": {\"colorbar\": {\"outlinewidth\": 0, \"ticks\": \"\"}}, \"type\": \"scattermapbox\"}], \"scatterpolar\": [{\"marker\": {\"colorbar\": {\"outlinewidth\": 0, \"ticks\": \"\"}}, \"type\": \"scatterpolar\"}], \"scatterpolargl\": [{\"marker\": {\"colorbar\": {\"outlinewidth\": 0, \"ticks\": \"\"}}, \"type\": \"scatterpolargl\"}], \"scatterternary\": [{\"marker\": {\"colorbar\": {\"outlinewidth\": 0, \"ticks\": \"\"}}, \"type\": \"scatterternary\"}], \"surface\": [{\"colorbar\": {\"outlinewidth\": 0, \"ticks\": \"\"}, \"colorscale\": [[0.0, \"#0d0887\"], [0.1111111111111111, \"#46039f\"], [0.2222222222222222, \"#7201a8\"], [0.3333333333333333, \"#9c179e\"], [0.4444444444444444, \"#bd3786\"], [0.5555555555555556, \"#d8576b\"], [0.6666666666666666, \"#ed7953\"], [0.7777777777777778, \"#fb9f3a\"], [0.8888888888888888, \"#fdca26\"], [1.0, \"#f0f921\"]], \"type\": \"surface\"}], \"table\": [{\"cells\": {\"fill\": {\"color\": \"#EBF0F8\"}, \"line\": {\"color\": \"white\"}}, \"header\": {\"fill\": {\"color\": \"#C8D4E3\"}, \"line\": {\"color\": \"white\"}}, \"type\": \"table\"}]}, \"layout\": {\"annotationdefaults\": {\"arrowcolor\": \"#2a3f5f\", \"arrowhead\": 0, \"arrowwidth\": 1}, \"autotypenumbers\": \"strict\", \"coloraxis\": {\"colorbar\": {\"outlinewidth\": 0, \"ticks\": \"\"}}, \"colorscale\": {\"diverging\": [[0, \"#8e0152\"], [0.1, \"#c51b7d\"], [0.2, \"#de77ae\"], [0.3, \"#f1b6da\"], [0.4, \"#fde0ef\"], [0.5, \"#f7f7f7\"], [0.6, \"#e6f5d0\"], [0.7, \"#b8e186\"], [0.8, \"#7fbc41\"], [0.9, \"#4d9221\"], [1, \"#276419\"]], \"sequential\": [[0.0, \"#0d0887\"], [0.1111111111111111, \"#46039f\"], [0.2222222222222222, \"#7201a8\"], [0.3333333333333333, \"#9c179e\"], [0.4444444444444444, \"#bd3786\"], [0.5555555555555556, \"#d8576b\"], [0.6666666666666666, \"#ed7953\"], [0.7777777777777778, \"#fb9f3a\"], [0.8888888888888888, \"#fdca26\"], [1.0, \"#f0f921\"]], \"sequentialminus\": [[0.0, \"#0d0887\"], [0.1111111111111111, \"#46039f\"], [0.2222222222222222, \"#7201a8\"], [0.3333333333333333, \"#9c179e\"], [0.4444444444444444, \"#bd3786\"], [0.5555555555555556, \"#d8576b\"], [0.6666666666666666, \"#ed7953\"], [0.7777777777777778, \"#fb9f3a\"], [0.8888888888888888, \"#fdca26\"], [1.0, \"#f0f921\"]]}, \"colorway\": [\"#636efa\", \"#EF553B\", \"#00cc96\", \"#ab63fa\", \"#FFA15A\", \"#19d3f3\", \"#FF6692\", \"#B6E880\", \"#FF97FF\", \"#FECB52\"], \"font\": {\"color\": \"#2a3f5f\"}, \"geo\": {\"bgcolor\": \"white\", \"lakecolor\": \"white\", \"landcolor\": \"#E5ECF6\", \"showlakes\": true, \"showland\": true, \"subunitcolor\": \"white\"}, \"hoverlabel\": {\"align\": \"left\"}, \"hovermode\": \"closest\", \"mapbox\": {\"style\": \"light\"}, \"paper_bgcolor\": \"white\", \"plot_bgcolor\": \"#E5ECF6\", \"polar\": {\"angularaxis\": {\"gridcolor\": \"white\", \"linecolor\": \"white\", \"ticks\": \"\"}, \"bgcolor\": \"#E5ECF6\", \"radialaxis\": {\"gridcolor\": \"white\", \"linecolor\": \"white\", \"ticks\": \"\"}}, \"scene\": {\"xaxis\": {\"backgroundcolor\": \"#E5ECF6\", \"gridcolor\": \"white\", \"gridwidth\": 2, \"linecolor\": \"white\", \"showbackground\": true, \"ticks\": \"\", \"zerolinecolor\": \"white\"}, \"yaxis\": {\"backgroundcolor\": \"#E5ECF6\", \"gridcolor\": \"white\", \"gridwidth\": 2, \"linecolor\": \"white\", \"showbackground\": true, \"ticks\": \"\", \"zerolinecolor\": \"white\"}, \"zaxis\": {\"backgroundcolor\": \"#E5ECF6\", \"gridcolor\": \"white\", \"gridwidth\": 2, \"linecolor\": \"white\", \"showbackground\": true, \"ticks\": \"\", \"zerolinecolor\": \"white\"}}, \"shapedefaults\": {\"line\": {\"color\": \"#2a3f5f\"}}, \"ternary\": {\"aaxis\": {\"gridcolor\": \"white\", \"linecolor\": \"white\", \"ticks\": \"\"}, \"baxis\": {\"gridcolor\": \"white\", \"linecolor\": \"white\", \"ticks\": \"\"}, \"bgcolor\": \"#E5ECF6\", \"caxis\": {\"gridcolor\": \"white\", \"linecolor\": \"white\", \"ticks\": \"\"}}, \"title\": {\"x\": 0.05}, \"xaxis\": {\"automargin\": true, \"gridcolor\": \"white\", \"linecolor\": \"white\", \"ticks\": \"\", \"title\": {\"standoff\": 15}, \"zerolinecolor\": \"white\", \"zerolinewidth\": 2}, \"yaxis\": {\"automargin\": true, \"gridcolor\": \"white\", \"linecolor\": \"white\", \"ticks\": \"\", \"title\": {\"standoff\": 15}, \"zerolinecolor\": \"white\", \"zerolinewidth\": 2}}}, \"xaxis\": {\"anchor\": \"y\", \"domain\": [0.0, 1.0], \"title\": {\"text\": \"year\"}}, \"yaxis\": {\"anchor\": \"x\", \"domain\": [0.0, 1.0], \"title\": {\"text\": \"expenditure\"}}},                        {\"responsive\": true}                    ).then(function(){\n",
       "                            \n",
       "var gd = document.getElementById('3aad7cd4-75bf-43aa-a774-4afe3e74528e');\n",
       "var x = new MutationObserver(function (mutations, observer) {{\n",
       "        var display = window.getComputedStyle(gd).display;\n",
       "        if (!display || display === 'none') {{\n",
       "            console.log([gd, 'removed!']);\n",
       "            Plotly.purge(gd);\n",
       "            observer.disconnect();\n",
       "        }}\n",
       "}});\n",
       "\n",
       "// Listen for the removal of the full notebook cells\n",
       "var notebookContainer = gd.closest('#notebook-container');\n",
       "if (notebookContainer) {{\n",
       "    x.observe(notebookContainer, {childList: true});\n",
       "}}\n",
       "\n",
       "// Listen for the clearing of the current output cell\n",
       "var outputEl = gd.closest('.output');\n",
       "if (outputEl) {{\n",
       "    x.observe(outputEl, {childList: true});\n",
       "}}\n",
       "\n",
       "                        })                };                });            </script>        </div>"
      ]
     },
     "metadata": {},
     "output_type": "display_data"
    }
   ],
   "source": [
    "import plotly.express as px\n",
    "  \n",
    "\n",
    "  \n",
    "fig = px.area(df_exp, x=\"year\", y=\"expenditure\",\n",
    "            color=\"category\",\n",
    "            hover_data=['year'],\n",
    "             )\n",
    "  \n",
    "fig.show()"
   ]
  },
  {
   "cell_type": "markdown",
   "id": "a67f5fc9",
   "metadata": {},
   "source": [
    "## Tree Map"
   ]
  },
  {
   "cell_type": "code",
   "execution_count": 10,
   "id": "16b1e529",
   "metadata": {},
   "outputs": [
    {
     "data": {
      "text/html": [
       "<div>\n",
       "<style scoped>\n",
       "    .dataframe tbody tr th:only-of-type {\n",
       "        vertical-align: middle;\n",
       "    }\n",
       "\n",
       "    .dataframe tbody tr th {\n",
       "        vertical-align: top;\n",
       "    }\n",
       "\n",
       "    .dataframe thead th {\n",
       "        text-align: right;\n",
       "    }\n",
       "</style>\n",
       "<table border=\"1\" class=\"dataframe\">\n",
       "  <thead>\n",
       "    <tr style=\"text-align: right;\">\n",
       "      <th></th>\n",
       "      <th>year</th>\n",
       "      <th>category</th>\n",
       "      <th>expenditure</th>\n",
       "      <th>sex</th>\n",
       "    </tr>\n",
       "  </thead>\n",
       "  <tbody>\n",
       "    <tr>\n",
       "      <th>0</th>\n",
       "      <td>2008</td>\n",
       "      <td>Food</td>\n",
       "      <td>6443</td>\n",
       "      <td>1</td>\n",
       "    </tr>\n",
       "    <tr>\n",
       "      <th>1</th>\n",
       "      <td>2008</td>\n",
       "      <td>Alcoholic Beverages</td>\n",
       "      <td>444</td>\n",
       "      <td>1</td>\n",
       "    </tr>\n",
       "    <tr>\n",
       "      <th>2</th>\n",
       "      <td>2008</td>\n",
       "      <td>Housing</td>\n",
       "      <td>17109</td>\n",
       "      <td>1</td>\n",
       "    </tr>\n",
       "    <tr>\n",
       "      <th>3</th>\n",
       "      <td>2008</td>\n",
       "      <td>Apparel</td>\n",
       "      <td>1801</td>\n",
       "      <td>1</td>\n",
       "    </tr>\n",
       "    <tr>\n",
       "      <th>4</th>\n",
       "      <td>2008</td>\n",
       "      <td>Transportation</td>\n",
       "      <td>8604</td>\n",
       "      <td>1</td>\n",
       "    </tr>\n",
       "    <tr>\n",
       "      <th>...</th>\n",
       "      <td>...</td>\n",
       "      <td>...</td>\n",
       "      <td>...</td>\n",
       "      <td>...</td>\n",
       "    </tr>\n",
       "    <tr>\n",
       "      <th>345</th>\n",
       "      <td>1984</td>\n",
       "      <td>Education</td>\n",
       "      <td>303</td>\n",
       "      <td>1</td>\n",
       "    </tr>\n",
       "    <tr>\n",
       "      <th>346</th>\n",
       "      <td>1984</td>\n",
       "      <td>Tobacco Products</td>\n",
       "      <td>228</td>\n",
       "      <td>1</td>\n",
       "    </tr>\n",
       "    <tr>\n",
       "      <th>347</th>\n",
       "      <td>1984</td>\n",
       "      <td>Miscellaneous</td>\n",
       "      <td>451</td>\n",
       "      <td>1</td>\n",
       "    </tr>\n",
       "    <tr>\n",
       "      <th>348</th>\n",
       "      <td>1984</td>\n",
       "      <td>Cash Contributions</td>\n",
       "      <td>706</td>\n",
       "      <td>1</td>\n",
       "    </tr>\n",
       "    <tr>\n",
       "      <th>349</th>\n",
       "      <td>1984</td>\n",
       "      <td>Personal Insurance</td>\n",
       "      <td>1897</td>\n",
       "      <td>1</td>\n",
       "    </tr>\n",
       "  </tbody>\n",
       "</table>\n",
       "<p>350 rows × 4 columns</p>\n",
       "</div>"
      ],
      "text/plain": [
       "     year             category  expenditure  sex\n",
       "0    2008                 Food         6443    1\n",
       "1    2008  Alcoholic Beverages          444    1\n",
       "2    2008              Housing        17109    1\n",
       "3    2008              Apparel         1801    1\n",
       "4    2008       Transportation         8604    1\n",
       "..    ...                  ...          ...  ...\n",
       "345  1984            Education          303    1\n",
       "346  1984     Tobacco Products          228    1\n",
       "347  1984        Miscellaneous          451    1\n",
       "348  1984   Cash Contributions          706    1\n",
       "349  1984   Personal Insurance         1897    1\n",
       "\n",
       "[350 rows x 4 columns]"
      ]
     },
     "execution_count": 10,
     "metadata": {},
     "output_type": "execute_result"
    }
   ],
   "source": [
    "df_exp"
   ]
  },
  {
   "cell_type": "code",
   "execution_count": 11,
   "id": "706831e2",
   "metadata": {},
   "outputs": [],
   "source": [
    "df_exp_data = df_exp[df_exp['year'] == 2008]"
   ]
  },
  {
   "cell_type": "code",
   "execution_count": 13,
   "id": "4d118d42",
   "metadata": {},
   "outputs": [],
   "source": [
    "\n",
    "df = df_exp_data.sort_values(by=\"expenditure\", ascending=False)\n",
    "\n",
    "df[\"Percentage\"] = round(100 * df[\"expenditure\"] / sum(df[\"expenditure\"]), 2)\n",
    "\n",
    "df[\"Label\"] = df[\"category\"] + \" (\" + df[\"Percentage\"].astype(\"str\") + \"%)\"\n"
   ]
  },
  {
   "cell_type": "code",
   "execution_count": 14,
   "id": "c5a80a0a",
   "metadata": {},
   "outputs": [],
   "source": [
    "df.to_csv('exp_cumulative.csv')"
   ]
  },
  {
   "cell_type": "code",
   "execution_count": 23,
   "id": "55b807af",
   "metadata": {},
   "outputs": [
    {
     "data": {
      "image/png": "[encoded data removed]",
      "text/plain": [
       "<Figure size 432x288 with 1 Axes>"
      ]
     },
     "metadata": {},
     "output_type": "display_data"
    }
   ],
   "source": [
    "# Get Axis and Figure\n",
    "fig, ax = plt.subplots()\n",
    "# Our Colormap\n",
    "cmap = matplotlib.cm.coolwarm\n",
    "# Min and Max Values\n",
    "mini = min(df[\"expenditure\"])\n",
    "maxi = max(df[\"expenditure\"])\n",
    "# Finding Colors for each tile\n",
    "norm = matplotlib.colors.Normalize(vmin=mini, vmax=maxi)\n",
    "colors = [cmap(norm(value)) for value in df[\"expenditure\"]]\n",
    "# Plotting\n",
    "squarify.plot(sizes=df[\"expenditure\"], label=df[\"Label\"][:4], alpha=0.8, color=colors)\n",
    "# Removing Axis\n",
    "plt.axis('off')\n",
    "# Invert Y-Axis\n",
    "plt.gca().invert_yaxis()\n",
    "# Title\n",
    "plt.title(\"Expenditure of 2008\", fontsize=15)\n",
    "# Title Positioning\n",
    "ttl = ax.title\n",
    "ttl.set_position([.5, 1.05])\n",
    "# BG Color\n",
    "fig.set_facecolor('#eeffee')"
   ]
  },
  {
   "cell_type": "code",
   "execution_count": 21,
   "id": "62dbe1c1",
   "metadata": {},
   "outputs": [
    {
     "data": {
      "text/html": [
       "<div>\n",
       "<style scoped>\n",
       "    .dataframe tbody tr th:only-of-type {\n",
       "        vertical-align: middle;\n",
       "    }\n",
       "\n",
       "    .dataframe tbody tr th {\n",
       "        vertical-align: top;\n",
       "    }\n",
       "\n",
       "    .dataframe thead th {\n",
       "        text-align: right;\n",
       "    }\n",
       "</style>\n",
       "<table border=\"1\" class=\"dataframe\">\n",
       "  <thead>\n",
       "    <tr style=\"text-align: right;\">\n",
       "      <th></th>\n",
       "      <th>year</th>\n",
       "      <th>category</th>\n",
       "      <th>expenditure</th>\n",
       "      <th>sex</th>\n",
       "    </tr>\n",
       "  </thead>\n",
       "  <tbody>\n",
       "    <tr>\n",
       "      <th>0</th>\n",
       "      <td>2008</td>\n",
       "      <td>Food</td>\n",
       "      <td>6443</td>\n",
       "      <td>1</td>\n",
       "    </tr>\n",
       "    <tr>\n",
       "      <th>1</th>\n",
       "      <td>2008</td>\n",
       "      <td>Alcoholic Beverages</td>\n",
       "      <td>444</td>\n",
       "      <td>1</td>\n",
       "    </tr>\n",
       "    <tr>\n",
       "      <th>2</th>\n",
       "      <td>2008</td>\n",
       "      <td>Housing</td>\n",
       "      <td>17109</td>\n",
       "      <td>1</td>\n",
       "    </tr>\n",
       "    <tr>\n",
       "      <th>3</th>\n",
       "      <td>2008</td>\n",
       "      <td>Apparel</td>\n",
       "      <td>1801</td>\n",
       "      <td>1</td>\n",
       "    </tr>\n",
       "    <tr>\n",
       "      <th>4</th>\n",
       "      <td>2008</td>\n",
       "      <td>Transportation</td>\n",
       "      <td>8604</td>\n",
       "      <td>1</td>\n",
       "    </tr>\n",
       "  </tbody>\n",
       "</table>\n",
       "</div>"
      ],
      "text/plain": [
       "   year             category  expenditure  sex\n",
       "0  2008                 Food         6443    1\n",
       "1  2008  Alcoholic Beverages          444    1\n",
       "2  2008              Housing        17109    1\n",
       "3  2008              Apparel         1801    1\n",
       "4  2008       Transportation         8604    1"
      ]
     },
     "execution_count": 21,
     "metadata": {},
     "output_type": "execute_result"
    }
   ],
   "source": [
    "df_exp.head()"
   ]
  },
  {
   "cell_type": "code",
   "execution_count": 22,
   "id": "06263349",
   "metadata": {},
   "outputs": [
    {
     "data": {
      "application/vnd.plotly.v1+json": {
       "config": {
        "plotlyServerURL": "https://plot.ly"
       },
       "data": [
        {
         "branchvalues": "total",
         "domain": {
          "x": [
           0,
           1
          ],
          "y": [
           0,
           1
          ]
         },
         "hovertemplate": "labels=%{label}<br>expenditure=%{value}<br>parent=%{parent}<br>id=%{id}<extra></extra>",
         "ids": [
          "1984/Alcoholic Beverages",
          "1985/Alcoholic Beverages",
          "1986/Alcoholic Beverages",
          "1987/Alcoholic Beverages",
          "1988/Alcoholic Beverages",
          "1989/Alcoholic Beverages",
          "1990/Alcoholic Beverages",
          "1991/Alcoholic Beverages",
          "1992/Alcoholic Beverages",
          "1993/Alcoholic Beverages",
          "1994/Alcoholic Beverages",
          "1995/Alcoholic Beverages",
          "1996/Alcoholic Beverages",
          "1997/Alcoholic Beverages",
          "1998/Alcoholic Beverages",
          "1999/Alcoholic Beverages",
          "2000/Alcoholic Beverages",
          "2001/Alcoholic Beverages",
          "2002/Alcoholic Beverages",
          "2003/Alcoholic Beverages",
          "2004/Alcoholic Beverages",
          "2005/Alcoholic Beverages",
          "2006/Alcoholic Beverages",
          "2007/Alcoholic Beverages",
          "2008/Alcoholic Beverages",
          "1984/Apparel",
          "1985/Apparel",
          "1986/Apparel",
          "1987/Apparel",
          "1988/Apparel",
          "1989/Apparel",
          "1990/Apparel",
          "1991/Apparel",
          "1992/Apparel",
          "1993/Apparel",
          "1994/Apparel",
          "1995/Apparel",
          "1996/Apparel",
          "1997/Apparel",
          "1998/Apparel",
          "1999/Apparel",
          "2000/Apparel",
          "2001/Apparel",
          "2002/Apparel",
          "2003/Apparel",
          "2004/Apparel",
          "2005/Apparel",
          "2006/Apparel",
          "2007/Apparel",
          "2008/Apparel",
          "1984/Cash Contributions",
          "1985/Cash Contributions",
          "1986/Cash Contributions",
          "1987/Cash Contributions",
          "1988/Cash Contributions",
          "1989/Cash Contributions",
          "1990/Cash Contributions",
          "1991/Cash Contributions",
          "1992/Cash Contributions",
          "1993/Cash Contributions",
          "1994/Cash Contributions",
          "1995/Cash Contributions",
          "1996/Cash Contributions",
          "1997/Cash Contributions",
          "1998/Cash Contributions",
          "1999/Cash Contributions",
          "2000/Cash Contributions",
          "2001/Cash Contributions",
          "2002/Cash Contributions",
          "2003/Cash Contributions",
          "2004/Cash Contributions",
          "2005/Cash Contributions",
          "2006/Cash Contributions",
          "2007/Cash Contributions",
          "2008/Cash Contributions",
          "1984/Education",
          "1985/Education",
          "1986/Education",
          "1987/Education",
          "1988/Education",
          "1989/Education",
          "1990/Education",
          "1991/Education",
          "1992/Education",
          "1993/Education",
          "1994/Education",
          "1995/Education",
          "1996/Education",
          "1997/Education",
          "1998/Education",
          "1999/Education",
          "2000/Education",
          "2001/Education",
          "2002/Education",
          "2003/Education",
          "2004/Education",
          "2005/Education",
          "2006/Education",
          "2007/Education",
          "2008/Education",
          "1984/Entertainment",
          "1985/Entertainment",
          "1986/Entertainment",
          "1987/Entertainment",
          "1988/Entertainment",
          "1989/Entertainment",
          "1990/Entertainment",
          "1991/Entertainment",
          "1992/Entertainment",
          "1993/Entertainment",
          "1994/Entertainment",
          "1995/Entertainment",
          "1996/Entertainment",
          "1997/Entertainment",
          "1998/Entertainment",
          "1999/Entertainment",
          "2000/Entertainment",
          "2001/Entertainment",
          "2002/Entertainment",
          "2003/Entertainment",
          "2004/Entertainment",
          "2005/Entertainment",
          "2006/Entertainment",
          "2007/Entertainment",
          "2008/Entertainment",
          "1984/Food",
          "1985/Food",
          "1986/Food",
          "1987/Food",
          "1988/Food",
          "1989/Food",
          "1990/Food",
          "1991/Food",
          "1992/Food",
          "1993/Food",
          "1994/Food",
          "1995/Food",
          "1996/Food",
          "1997/Food",
          "1998/Food",
          "1999/Food",
          "2000/Food",
          "2001/Food",
          "2002/Food",
          "2003/Food",
          "2004/Food",
          "2005/Food",
          "2006/Food",
          "2007/Food",
          "2008/Food",
          "1984/Healthcare",
          "1985/Healthcare",
          "1986/Healthcare",
          "1987/Healthcare",
          "1988/Healthcare",
          "1989/Healthcare",
          "1990/Healthcare",
          "1991/Healthcare",
          "1992/Healthcare",
          "1993/Healthcare",
          "1994/Healthcare",
          "1995/Healthcare",
          "1996/Healthcare",
          "1997/Healthcare",
          "1998/Healthcare",
          "1999/Healthcare",
          "2000/Healthcare",
          "2001/Healthcare",
          "2002/Healthcare",
          "2003/Healthcare",
          "2004/Healthcare",
          "2005/Healthcare",
          "2006/Healthcare",
          "2007/Healthcare",
          "2008/Healthcare",
          "1984/Housing",
          "1985/Housing",
          "1986/Housing",
          "1987/Housing",
          "1988/Housing",
          "1989/Housing",
          "1990/Housing",
          "1991/Housing",
          "1992/Housing",
          "1993/Housing",
          "1994/Housing",
          "1995/Housing",
          "1996/Housing",
          "1997/Housing",
          "1998/Housing",
          "1999/Housing",
          "2000/Housing",
          "2001/Housing",
          "2002/Housing",
          "2003/Housing",
          "2004/Housing",
          "2005/Housing",
          "2006/Housing",
          "2007/Housing",
          "2008/Housing",
          "1984/Miscellaneous",
          "1985/Miscellaneous",
          "1986/Miscellaneous",
          "1987/Miscellaneous",
          "1988/Miscellaneous",
          "1989/Miscellaneous",
          "1990/Miscellaneous",
          "1991/Miscellaneous",
          "1992/Miscellaneous",
          "1993/Miscellaneous",
          "1994/Miscellaneous",
          "1995/Miscellaneous",
          "1996/Miscellaneous",
          "1997/Miscellaneous",
          "1998/Miscellaneous",
          "1999/Miscellaneous",
          "2000/Miscellaneous",
          "2001/Miscellaneous",
          "2002/Miscellaneous",
          "2003/Miscellaneous",
          "2004/Miscellaneous",
          "2005/Miscellaneous",
          "2006/Miscellaneous",
          "2007/Miscellaneous",
          "2008/Miscellaneous",
          "1984/Personal Care",
          "1985/Personal Care",
          "1986/Personal Care",
          "1987/Personal Care",
          "1988/Personal Care",
          "1989/Personal Care",
          "1990/Personal Care",
          "1991/Personal Care",
          "1992/Personal Care",
          "1993/Personal Care",
          "1994/Personal Care",
          "1995/Personal Care",
          "1996/Personal Care",
          "1997/Personal Care",
          "1998/Personal Care",
          "1999/Personal Care",
          "2000/Personal Care",
          "2001/Personal Care",
          "2002/Personal Care",
          "2003/Personal Care",
          "2004/Personal Care",
          "2005/Personal Care",
          "2006/Personal Care",
          "2007/Personal Care",
          "2008/Personal Care",
          "1984/Personal Insurance",
          "1985/Personal Insurance",
          "1986/Personal Insurance",
          "1987/Personal Insurance",
          "1988/Personal Insurance",
          "1989/Personal Insurance",
          "1990/Personal Insurance",
          "1991/Personal Insurance",
          "1992/Personal Insurance",
          "1993/Personal Insurance",
          "1994/Personal Insurance",
          "1995/Personal Insurance",
          "1996/Personal Insurance",
          "1997/Personal Insurance",
          "1998/Personal Insurance",
          "1999/Personal Insurance",
          "2000/Personal Insurance",
          "2001/Personal Insurance",
          "2002/Personal Insurance",
          "2003/Personal Insurance",
          "2004/Personal Insurance",
          "2005/Personal Insurance",
          "2006/Personal Insurance",
          "2007/Personal Insurance",
          "2008/Personal Insurance",
          "1984/Reading",
          "1985/Reading",
          "1986/Reading",
          "1987/Reading",
          "1988/Reading",
          "1989/Reading",
          "1990/Reading",
          "1991/Reading",
          "1992/Reading",
          "1993/Reading",
          "1994/Reading",
          "1995/Reading",
          "1996/Reading",
          "1997/Reading",
          "1998/Reading",
          "1999/Reading",
          "2000/Reading",
          "2001/Reading",
          "2002/Reading",
          "2003/Reading",
          "2004/Reading",
          "2005/Reading",
          "2006/Reading",
          "2007/Reading",
          "2008/Reading",
          "1984/Tobacco Products",
          "1985/Tobacco Products",
          "1986/Tobacco Products",
          "1987/Tobacco Products",
          "1988/Tobacco Products",
          "1989/Tobacco Products",
          "1990/Tobacco Products",
          "1991/Tobacco Products",
          "1992/Tobacco Products",
          "1993/Tobacco Products",
          "1994/Tobacco Products",
          "1995/Tobacco Products",
          "1996/Tobacco Products",
          "1997/Tobacco Products",
          "1998/Tobacco Products",
          "1999/Tobacco Products",
          "2000/Tobacco Products",
          "2001/Tobacco Products",
          "2002/Tobacco Products",
          "2003/Tobacco Products",
          "2004/Tobacco Products",
          "2005/Tobacco Products",
          "2006/Tobacco Products",
          "2007/Tobacco Products",
          "2008/Tobacco Products",
          "1984/Transportation",
          "1985/Transportation",
          "1986/Transportation",
          "1987/Transportation",
          "1988/Transportation",
          "1989/Transportation",
          "1990/Transportation",
          "1991/Transportation",
          "1992/Transportation",
          "1993/Transportation",
          "1994/Transportation",
          "1995/Transportation",
          "1996/Transportation",
          "1997/Transportation",
          "1998/Transportation",
          "1999/Transportation",
          "2000/Transportation",
          "2001/Transportation",
          "2002/Transportation",
          "2003/Transportation",
          "2004/Transportation",
          "2005/Transportation",
          "2006/Transportation",
          "2007/Transportation",
          "2008/Transportation",
          "1984",
          "1985",
          "1986",
          "1987",
          "1988",
          "1989",
          "1990",
          "1991",
          "1992",
          "1993",
          "1994",
          "1995",
          "1996",
          "1997",
          "1998",
          "1999",
          "2000",
          "2001",
          "2002",
          "2003",
          "2004",
          "2005",
          "2006",
          "2007",
          "2008"
         ],
         "labels": [
          "Alcoholic Beverages",
          "Alcoholic Beverages",
          "Alcoholic Beverages",
          "Alcoholic Beverages",
          "Alcoholic Beverages",
          "Alcoholic Beverages",
          "Alcoholic Beverages",
          "Alcoholic Beverages",
          "Alcoholic Beverages",
          "Alcoholic Beverages",
          "Alcoholic Beverages",
          "Alcoholic Beverages",
          "Alcoholic Beverages",
          "Alcoholic Beverages",
          "Alcoholic Beverages",
          "Alcoholic Beverages",
          "Alcoholic Beverages",
          "Alcoholic Beverages",
          "Alcoholic Beverages",
          "Alcoholic Beverages",
          "Alcoholic Beverages",
          "Alcoholic Beverages",
          "Alcoholic Beverages",
          "Alcoholic Beverages",
          "Alcoholic Beverages",
          "Apparel",
          "Apparel",
          "Apparel",
          "Apparel",
          "Apparel",
          "Apparel",
          "Apparel",
          "Apparel",
          "Apparel",
          "Apparel",
          "Apparel",
          "Apparel",
          "Apparel",
          "Apparel",
          "Apparel",
          "Apparel",
          "Apparel",
          "Apparel",
          "Apparel",
          "Apparel",
          "Apparel",
          "Apparel",
          "Apparel",
          "Apparel",
          "Apparel",
          "Cash Contributions",
          "Cash Contributions",
          "Cash Contributions",
          "Cash Contributions",
          "Cash Contributions",
          "Cash Contributions",
          "Cash Contributions",
          "Cash Contributions",
          "Cash Contributions",
          "Cash Contributions",
          "Cash Contributions",
          "Cash Contributions",
          "Cash Contributions",
          "Cash Contributions",
          "Cash Contributions",
          "Cash Contributions",
          "Cash Contributions",
          "Cash Contributions",
          "Cash Contributions",
          "Cash Contributions",
          "Cash Contributions",
          "Cash Contributions",
          "Cash Contributions",
          "Cash Contributions",
          "Cash Contributions",
          "Education",
          "Education",
          "Education",
          "Education",
          "Education",
          "Education",
          "Education",
          "Education",
          "Education",
          "Education",
          "Education",
          "Education",
          "Education",
          "Education",
          "Education",
          "Education",
          "Education",
          "Education",
          "Education",
          "Education",
          "Education",
          "Education",
          "Education",
          "Education",
          "Education",
          "Entertainment",
          "Entertainment",
          "Entertainment",
          "Entertainment",
          "Entertainment",
          "Entertainment",
          "Entertainment",
          "Entertainment",
          "Entertainment",
          "Entertainment",
          "Entertainment",
          "Entertainment",
          "Entertainment",
          "Entertainment",
          "Entertainment",
          "Entertainment",
          "Entertainment",
          "Entertainment",
          "Entertainment",
          "Entertainment",
          "Entertainment",
          "Entertainment",
          "Entertainment",
          "Entertainment",
          "Entertainment",
          "Food",
          "Food",
          "Food",
          "Food",
          "Food",
          "Food",
          "Food",
          "Food",
          "Food",
          "Food",
          "Food",
          "Food",
          "Food",
          "Food",
          "Food",
          "Food",
          "Food",
          "Food",
          "Food",
          "Food",
          "Food",
          "Food",
          "Food",
          "Food",
          "Food",
          "Healthcare",
          "Healthcare",
          "Healthcare",
          "Healthcare",
          "Healthcare",
          "Healthcare",
          "Healthcare",
          "Healthcare",
          "Healthcare",
          "Healthcare",
          "Healthcare",
          "Healthcare",
          "Healthcare",
          "Healthcare",
          "Healthcare",
          "Healthcare",
          "Healthcare",
          "Healthcare",
          "Healthcare",
          "Healthcare",
          "Healthcare",
          "Healthcare",
          "Healthcare",
          "Healthcare",
          "Healthcare",
          "Housing",
          "Housing",
          "Housing",
          "Housing",
          "Housing",
          "Housing",
          "Housing",
          "Housing",
          "Housing",
          "Housing",
          "Housing",
          "Housing",
          "Housing",
          "Housing",
          "Housing",
          "Housing",
          "Housing",
          "Housing",
          "Housing",
          "Housing",
          "Housing",
          "Housing",
          "Housing",
          "Housing",
          "Housing",
          "Miscellaneous",
          "Miscellaneous",
          "Miscellaneous",
          "Miscellaneous",
          "Miscellaneous",
          "Miscellaneous",
          "Miscellaneous",
          "Miscellaneous",
          "Miscellaneous",
          "Miscellaneous",
          "Miscellaneous",
          "Miscellaneous",
          "Miscellaneous",
          "Miscellaneous",
          "Miscellaneous",
          "Miscellaneous",
          "Miscellaneous",
          "Miscellaneous",
          "Miscellaneous",
          "Miscellaneous",
          "Miscellaneous",
          "Miscellaneous",
          "Miscellaneous",
          "Miscellaneous",
          "Miscellaneous",
          "Personal Care",
          "Personal Care",
          "Personal Care",
          "Personal Care",
          "Personal Care",
          "Personal Care",
          "Personal Care",
          "Personal Care",
          "Personal Care",
          "Personal Care",
          "Personal Care",
          "Personal Care",
          "Personal Care",
          "Personal Care",
          "Personal Care",
          "Personal Care",
          "Personal Care",
          "Personal Care",
          "Personal Care",
          "Personal Care",
          "Personal Care",
          "Personal Care",
          "Personal Care",
          "Personal Care",
          "Personal Care",
          "Personal Insurance",
          "Personal Insurance",
          "Personal Insurance",
          "Personal Insurance",
          "Personal Insurance",
          "Personal Insurance",
          "Personal Insurance",
          "Personal Insurance",
          "Personal Insurance",
          "Personal Insurance",
          "Personal Insurance",
          "Personal Insurance",
          "Personal Insurance",
          "Personal Insurance",
          "Personal Insurance",
          "Personal Insurance",
          "Personal Insurance",
          "Personal Insurance",
          "Personal Insurance",
          "Personal Insurance",
          "Personal Insurance",
          "Personal Insurance",
          "Personal Insurance",
          "Personal Insurance",
          "Personal Insurance",
          "Reading",
          "Reading",
          "Reading",
          "Reading",
          "Reading",
          "Reading",
          "Reading",
          "Reading",
          "Reading",
          "Reading",
          "Reading",
          "Reading",
          "Reading",
          "Reading",
          "Reading",
          "Reading",
          "Reading",
          "Reading",
          "Reading",
          "Reading",
          "Reading",
          "Reading",
          "Reading",
          "Reading",
          "Reading",
          "Tobacco Products",
          "Tobacco Products",
          "Tobacco Products",
          "Tobacco Products",
          "Tobacco Products",
          "Tobacco Products",
          "Tobacco Products",
          "Tobacco Products",
          "Tobacco Products",
          "Tobacco Products",
          "Tobacco Products",
          "Tobacco Products",
          "Tobacco Products",
          "Tobacco Products",
          "Tobacco Products",
          "Tobacco Products",
          "Tobacco Products",
          "Tobacco Products",
          "Tobacco Products",
          "Tobacco Products",
          "Tobacco Products",
          "Tobacco Products",
          "Tobacco Products",
          "Tobacco Products",
          "Tobacco Products",
          "Transportation",
          "Transportation",
          "Transportation",
          "Transportation",
          "Transportation",
          "Transportation",
          "Transportation",
          "Transportation",
          "Transportation",
          "Transportation",
          "Transportation",
          "Transportation",
          "Transportation",
          "Transportation",
          "Transportation",
          "Transportation",
          "Transportation",
          "Transportation",
          "Transportation",
          "Transportation",
          "Transportation",
          "Transportation",
          "Transportation",
          "Transportation",
          "Transportation",
          "1984",
          "1985",
          "1986",
          "1987",
          "1988",
          "1989",
          "1990",
          "1991",
          "1992",
          "1993",
          "1994",
          "1995",
          "1996",
          "1997",
          "1998",
          "1999",
          "2000",
          "2001",
          "2002",
          "2003",
          "2004",
          "2005",
          "2006",
          "2007",
          "2008"
         ],
         "name": "",
         "parents": [
          "1984",
          "1985",
          "1986",
          "1987",
          "1988",
          "1989",
          "1990",
          "1991",
          "1992",
          "1993",
          "1994",
          "1995",
          "1996",
          "1997",
          "1998",
          "1999",
          "2000",
          "2001",
          "2002",
          "2003",
          "2004",
          "2005",
          "2006",
          "2007",
          "2008",
          "1984",
          "1985",
          "1986",
          "1987",
          "1988",
          "1989",
          "1990",
          "1991",
          "1992",
          "1993",
          "1994",
          "1995",
          "1996",
          "1997",
          "1998",
          "1999",
          "2000",
          "2001",
          "2002",
          "2003",
          "2004",
          "2005",
          "2006",
          "2007",
          "2008",
          "1984",
          "1985",
          "1986",
          "1987",
          "1988",
          "1989",
          "1990",
          "1991",
          "1992",
          "1993",
          "1994",
          "1995",
          "1996",
          "1997",
          "1998",
          "1999",
          "2000",
          "2001",
          "2002",
          "2003",
          "2004",
          "2005",
          "2006",
          "2007",
          "2008",
          "1984",
          "1985",
          "1986",
          "1987",
          "1988",
          "1989",
          "1990",
          "1991",
          "1992",
          "1993",
          "1994",
          "1995",
          "1996",
          "1997",
          "1998",
          "1999",
          "2000",
          "2001",
          "2002",
          "2003",
          "2004",
          "2005",
          "2006",
          "2007",
          "2008",
          "1984",
          "1985",
          "1986",
          "1987",
          "1988",
          "1989",
          "1990",
          "1991",
          "1992",
          "1993",
          "1994",
          "1995",
          "1996",
          "1997",
          "1998",
          "1999",
          "2000",
          "2001",
          "2002",
          "2003",
          "2004",
          "2005",
          "2006",
          "2007",
          "2008",
          "1984",
          "1985",
          "1986",
          "1987",
          "1988",
          "1989",
          "1990",
          "1991",
          "1992",
          "1993",
          "1994",
          "1995",
          "1996",
          "1997",
          "1998",
          "1999",
          "2000",
          "2001",
          "2002",
          "2003",
          "2004",
          "2005",
          "2006",
          "2007",
          "2008",
          "1984",
          "1985",
          "1986",
          "1987",
          "1988",
          "1989",
          "1990",
          "1991",
          "1992",
          "1993",
          "1994",
          "1995",
          "1996",
          "1997",
          "1998",
          "1999",
          "2000",
          "2001",
          "2002",
          "2003",
          "2004",
          "2005",
          "2006",
          "2007",
          "2008",
          "1984",
          "1985",
          "1986",
          "1987",
          "1988",
          "1989",
          "1990",
          "1991",
          "1992",
          "1993",
          "1994",
          "1995",
          "1996",
          "1997",
          "1998",
          "1999",
          "2000",
          "2001",
          "2002",
          "2003",
          "2004",
          "2005",
          "2006",
          "2007",
          "2008",
          "1984",
          "1985",
          "1986",
          "1987",
          "1988",
          "1989",
          "1990",
          "1991",
          "1992",
          "1993",
          "1994",
          "1995",
          "1996",
          "1997",
          "1998",
          "1999",
          "2000",
          "2001",
          "2002",
          "2003",
          "2004",
          "2005",
          "2006",
          "2007",
          "2008",
          "1984",
          "1985",
          "1986",
          "1987",
          "1988",
          "1989",
          "1990",
          "1991",
          "1992",
          "1993",
          "1994",
          "1995",
          "1996",
          "1997",
          "1998",
          "1999",
          "2000",
          "2001",
          "2002",
          "2003",
          "2004",
          "2005",
          "2006",
          "2007",
          "2008",
          "1984",
          "1985",
          "1986",
          "1987",
          "1988",
          "1989",
          "1990",
          "1991",
          "1992",
          "1993",
          "1994",
          "1995",
          "1996",
          "1997",
          "1998",
          "1999",
          "2000",
          "2001",
          "2002",
          "2003",
          "2004",
          "2005",
          "2006",
          "2007",
          "2008",
          "1984",
          "1985",
          "1986",
          "1987",
          "1988",
          "1989",
          "1990",
          "1991",
          "1992",
          "1993",
          "1994",
          "1995",
          "1996",
          "1997",
          "1998",
          "1999",
          "2000",
          "2001",
          "2002",
          "2003",
          "2004",
          "2005",
          "2006",
          "2007",
          "2008",
          "1984",
          "1985",
          "1986",
          "1987",
          "1988",
          "1989",
          "1990",
          "1991",
          "1992",
          "1993",
          "1994",
          "1995",
          "1996",
          "1997",
          "1998",
          "1999",
          "2000",
          "2001",
          "2002",
          "2003",
          "2004",
          "2005",
          "2006",
          "2007",
          "2008",
          "1984",
          "1985",
          "1986",
          "1987",
          "1988",
          "1989",
          "1990",
          "1991",
          "1992",
          "1993",
          "1994",
          "1995",
          "1996",
          "1997",
          "1998",
          "1999",
          "2000",
          "2001",
          "2002",
          "2003",
          "2004",
          "2005",
          "2006",
          "2007",
          "2008",
          "",
          "",
          "",
          "",
          "",
          "",
          "",
          "",
          "",
          "",
          "",
          "",
          "",
          "",
          "",
          "",
          "",
          "",
          "",
          "",
          "",
          "",
          "",
          "",
          ""
         ],
         "type": "treemap",
         "values": [
          275,
          306,
          271,
          289,
          269,
          284,
          293,
          297,
          301,
          268,
          278,
          277,
          309,
          309,
          309,
          318,
          372,
          349,
          376,
          391,
          459,
          426,
          497,
          457,
          444,
          1319,
          1420,
          1346,
          1446,
          1489,
          1582,
          1618,
          1735,
          1710,
          1676,
          1644,
          1704,
          1752,
          1729,
          1674,
          1743,
          1856,
          1743,
          1749,
          1640,
          1816,
          1886,
          1874,
          1881,
          1801,
          706,
          805,
          746,
          741,
          693,
          900,
          816,
          950,
          958,
          961,
          960,
          925,
          940,
          1001,
          1109,
          1181,
          1192,
          1258,
          1277,
          1370,
          1408,
          1663,
          1869,
          1821,
          1737,
          303,
          321,
          314,
          337,
          342,
          367,
          406,
          447,
          426,
          455,
          460,
          471,
          524,
          571,
          580,
          635,
          632,
          648,
          752,
          783,
          905,
          940,
          888,
          945,
          1046,
          1055,
          1170,
          1149,
          1193,
          1329,
          1424,
          1422,
          1472,
          1500,
          1626,
          1567,
          1612,
          1834,
          1813,
          1746,
          1891,
          1863,
          1953,
          2079,
          2060,
          2218,
          2388,
          2376,
          2698,
          2835,
          3290,
          3477,
          3448,
          3664,
          3748,
          4152,
          4296,
          4271,
          4723,
          4399,
          4411,
          4505,
          4698,
          4801,
          4810,
          5031,
          5158,
          5321,
          5375,
          5340,
          5781,
          5931,
          6111,
          6113,
          6443,
          1049,
          1108,
          1135,
          1135,
          1298,
          1407,
          1480,
          1554,
          1634,
          1776,
          1755,
          1732,
          1770,
          1841,
          1903,
          1959,
          2066,
          2182,
          2350,
          2416,
          2574,
          2664,
          2766,
          2853,
          2976,
          6674,
          7087,
          7292,
          7569,
          8079,
          8609,
          8703,
          9252,
          9477,
          9636,
          10106,
          10458,
          10747,
          11272,
          11713,
          12057,
          12319,
          13011,
          13283,
          13432,
          13918,
          15167,
          16366,
          16920,
          17109,
          451,
          529,
          522,
          562,
          578,
          643,
          842,
          860,
          765,
          715,
          749,
          766,
          855,
          847,
          860,
          867,
          776,
          750,
          792,
          606,
          690,
          808,
          846,
          808,
          840,
          289,
          303,
          303,
          330,
          334,
          366,
          364,
          399,
          387,
          385,
          397,
          403,
          513,
          528,
          401,
          408,
          564,
          485,
          526,
          527,
          581,
          541,
          585,
          588,
          616,
          1897,
          2016,
          2127,
          2175,
          2249,
          2472,
          2592,
          2787,
          2750,
          2908,
          2938,
          2964,
          3060,
          3223,
          3381,
          3436,
          3365,
          3737,
          3899,
          4055,
          4823,
          5204,
          5270,
          5336,
          5605,
          132,
          141,
          140,
          142,
          150,
          157,
          153,
          163,
          162,
          166,
          165,
          162,
          159,
          164,
          161,
          159,
          146,
          141,
          139,
          127,
          130,
          126,
          117,
          118,
          116,
          228,
          219,
          230,
          232,
          242,
          261,
          274,
          276,
          275,
          268,
          259,
          269,
          255,
          264,
          273,
          300,
          319,
          308,
          320,
          290,
          288,
          319,
          327,
          323,
          317,
          4304,
          4587,
          4842,
          4600,
          5093,
          5187,
          5120,
          5151,
          5228,
          5453,
          6044,
          6014,
          6382,
          6457,
          6616,
          7011,
          7417,
          7633,
          7759,
          7781,
          7801,
          8344,
          8508,
          8758,
          8604,
          21972,
          23489,
          23865,
          24415,
          25893,
          27811,
          28379,
          29614,
          30296,
          30692,
          31733,
          32262,
          33798,
          34820,
          35536,
          36996,
          38045,
          39519,
          40676,
          40818,
          43392,
          46407,
          48400,
          49619,
          50489
         ]
        }
       ],
       "layout": {
        "legend": {
         "tracegroupgap": 0
        },
        "margin": {
         "t": 60
        },
        "template": {
         "data": {
          "bar": [
           {
            "error_x": {
             "color": "#2a3f5f"
            },
            "error_y": {
             "color": "#2a3f5f"
            },
            "marker": {
             "line": {
              "color": "#E5ECF6",
              "width": 0.5
             }
            },
            "type": "bar"
           }
          ],
          "barpolar": [
           {
            "marker": {
             "line": {
              "color": "#E5ECF6",
              "width": 0.5
             }
            },
            "type": "barpolar"
           }
          ],
          "carpet": [
           {
            "aaxis": {
             "endlinecolor": "#2a3f5f",
             "gridcolor": "white",
             "linecolor": "white",
             "minorgridcolor": "white",
             "startlinecolor": "#2a3f5f"
            },
            "baxis": {
             "endlinecolor": "#2a3f5f",
             "gridcolor": "white",
             "linecolor": "white",
             "minorgridcolor": "white",
             "startlinecolor": "#2a3f5f"
            },
            "type": "carpet"
           }
          ],
          "choropleth": [
           {
            "colorbar": {
             "outlinewidth": 0,
             "ticks": ""
            },
            "type": "choropleth"
           }
          ],
          "contour": [
           {
            "colorbar": {
             "outlinewidth": 0,
             "ticks": ""
            },
            "colorscale": [
             [
              0,
              "#0d0887"
             ],
             [
              0.1111111111111111,
              "#46039f"
             ],
             [
              0.2222222222222222,
              "#7201a8"
             ],
             [
              0.3333333333333333,
              "#9c179e"
             ],
             [
              0.4444444444444444,
              "#bd3786"
             ],
             [
              0.5555555555555556,
              "#d8576b"
             ],
             [
              0.6666666666666666,
              "#ed7953"
             ],
             [
              0.7777777777777778,
              "#fb9f3a"
             ],
             [
              0.8888888888888888,
              "#fdca26"
             ],
             [
              1,
              "#f0f921"
             ]
            ],
            "type": "contour"
           }
          ],
          "contourcarpet": [
           {
            "colorbar": {
             "outlinewidth": 0,
             "ticks": ""
            },
            "type": "contourcarpet"
           }
          ],
          "heatmap": [
           {
            "colorbar": {
             "outlinewidth": 0,
             "ticks": ""
            },
            "colorscale": [
             [
              0,
              "#0d0887"
             ],
             [
              0.1111111111111111,
              "#46039f"
             ],
             [
              0.2222222222222222,
              "#7201a8"
             ],
             [
              0.3333333333333333,
              "#9c179e"
             ],
             [
              0.4444444444444444,
              "#bd3786"
             ],
             [
              0.5555555555555556,
              "#d8576b"
             ],
             [
              0.6666666666666666,
              "#ed7953"
             ],
             [
              0.7777777777777778,
              "#fb9f3a"
             ],
             [
              0.8888888888888888,
              "#fdca26"
             ],
             [
              1,
              "#f0f921"
             ]
            ],
            "type": "heatmap"
           }
          ],
          "heatmapgl": [
           {
            "colorbar": {
             "outlinewidth": 0,
             "ticks": ""
            },
            "colorscale": [
             [
              0,
              "#0d0887"
             ],
             [
              0.1111111111111111,
              "#46039f"
             ],
             [
              0.2222222222222222,
              "#7201a8"
             ],
             [
              0.3333333333333333,
              "#9c179e"
             ],
             [
              0.4444444444444444,
              "#bd3786"
             ],
             [
              0.5555555555555556,
              "#d8576b"
             ],
             [
              0.6666666666666666,
              "#ed7953"
             ],
             [
              0.7777777777777778,
              "#fb9f3a"
             ],
             [
              0.8888888888888888,
              "#fdca26"
             ],
             [
              1,
              "#f0f921"
             ]
            ],
            "type": "heatmapgl"
           }
          ],
          "histogram": [
           {
            "marker": {
             "colorbar": {
              "outlinewidth": 0,
              "ticks": ""
             }
            },
            "type": "histogram"
           }
          ],
          "histogram2d": [
           {
            "colorbar": {
             "outlinewidth": 0,
             "ticks": ""
            },
            "colorscale": [
             [
              0,
              "#0d0887"
             ],
             [
              0.1111111111111111,
              "#46039f"
             ],
             [
              0.2222222222222222,
              "#7201a8"
             ],
             [
              0.3333333333333333,
              "#9c179e"
             ],
             [
              0.4444444444444444,
              "#bd3786"
             ],
             [
              0.5555555555555556,
              "#d8576b"
             ],
             [
              0.6666666666666666,
              "#ed7953"
             ],
             [
              0.7777777777777778,
              "#fb9f3a"
             ],
             [
              0.8888888888888888,
              "#fdca26"
             ],
             [
              1,
              "#f0f921"
             ]
            ],
            "type": "histogram2d"
           }
          ],
          "histogram2dcontour": [
           {
            "colorbar": {
             "outlinewidth": 0,
             "ticks": ""
            },
            "colorscale": [
             [
              0,
              "#0d0887"
             ],
             [
              0.1111111111111111,
              "#46039f"
             ],
             [
              0.2222222222222222,
              "#7201a8"
             ],
             [
              0.3333333333333333,
              "#9c179e"
             ],
             [
              0.4444444444444444,
              "#bd3786"
             ],
             [
              0.5555555555555556,
              "#d8576b"
             ],
             [
              0.6666666666666666,
              "#ed7953"
             ],
             [
              0.7777777777777778,
              "#fb9f3a"
             ],
             [
              0.8888888888888888,
              "#fdca26"
             ],
             [
              1,
              "#f0f921"
             ]
            ],
            "type": "histogram2dcontour"
           }
          ],
          "mesh3d": [
           {
            "colorbar": {
             "outlinewidth": 0,
             "ticks": ""
            },
            "type": "mesh3d"
           }
          ],
          "parcoords": [
           {
            "line": {
             "colorbar": {
              "outlinewidth": 0,
              "ticks": ""
             }
            },
            "type": "parcoords"
           }
          ],
          "pie": [
           {
            "automargin": true,
            "type": "pie"
           }
          ],
          "scatter": [
           {
            "marker": {
             "colorbar": {
              "outlinewidth": 0,
              "ticks": ""
             }
            },
            "type": "scatter"
           }
          ],
          "scatter3d": [
           {
            "line": {
             "colorbar": {
              "outlinewidth": 0,
              "ticks": ""
             }
            },
            "marker": {
             "colorbar": {
              "outlinewidth": 0,
              "ticks": ""
             }
            },
            "type": "scatter3d"
           }
          ],
          "scattercarpet": [
           {
            "marker": {
             "colorbar": {
              "outlinewidth": 0,
              "ticks": ""
             }
            },
            "type": "scattercarpet"
           }
          ],
          "scattergeo": [
           {
            "marker": {
             "colorbar": {
              "outlinewidth": 0,
              "ticks": ""
             }
            },
            "type": "scattergeo"
           }
          ],
          "scattergl": [
           {
            "marker": {
             "colorbar": {
              "outlinewidth": 0,
              "ticks": ""
             }
            },
            "type": "scattergl"
           }
          ],
          "scattermapbox": [
           {
            "marker": {
             "colorbar": {
              "outlinewidth": 0,
              "ticks": ""
             }
            },
            "type": "scattermapbox"
           }
          ],
          "scatterpolar": [
           {
            "marker": {
             "colorbar": {
              "outlinewidth": 0,
              "ticks": ""
             }
            },
            "type": "scatterpolar"
           }
          ],
          "scatterpolargl": [
           {
            "marker": {
             "colorbar": {
              "outlinewidth": 0,
              "ticks": ""
             }
            },
            "type": "scatterpolargl"
           }
          ],
          "scatterternary": [
           {
            "marker": {
             "colorbar": {
              "outlinewidth": 0,
              "ticks": ""
             }
            },
            "type": "scatterternary"
           }
          ],
          "surface": [
           {
            "colorbar": {
             "outlinewidth": 0,
             "ticks": ""
            },
            "colorscale": [
             [
              0,
              "#0d0887"
             ],
             [
              0.1111111111111111,
              "#46039f"
             ],
             [
              0.2222222222222222,
              "#7201a8"
             ],
             [
              0.3333333333333333,
              "#9c179e"
             ],
             [
              0.4444444444444444,
              "#bd3786"
             ],
             [
              0.5555555555555556,
              "#d8576b"
             ],
             [
              0.6666666666666666,
              "#ed7953"
             ],
             [
              0.7777777777777778,
              "#fb9f3a"
             ],
             [
              0.8888888888888888,
              "#fdca26"
             ],
             [
              1,
              "#f0f921"
             ]
            ],
            "type": "surface"
           }
          ],
          "table": [
           {
            "cells": {
             "fill": {
              "color": "#EBF0F8"
             },
             "line": {
              "color": "white"
             }
            },
            "header": {
             "fill": {
              "color": "#C8D4E3"
             },
             "line": {
              "color": "white"
             }
            },
            "type": "table"
           }
          ]
         },
         "layout": {
          "annotationdefaults": {
           "arrowcolor": "#2a3f5f",
           "arrowhead": 0,
           "arrowwidth": 1
          },
          "autotypenumbers": "strict",
          "coloraxis": {
           "colorbar": {
            "outlinewidth": 0,
            "ticks": ""
           }
          },
          "colorscale": {
           "diverging": [
            [
             0,
             "#8e0152"
            ],
            [
             0.1,
             "#c51b7d"
            ],
            [
             0.2,
             "#de77ae"
            ],
            [
             0.3,
             "#f1b6da"
            ],
            [
             0.4,
             "#fde0ef"
            ],
            [
             0.5,
             "#f7f7f7"
            ],
            [
             0.6,
             "#e6f5d0"
            ],
            [
             0.7,
             "#b8e186"
            ],
            [
             0.8,
             "#7fbc41"
            ],
            [
             0.9,
             "#4d9221"
            ],
            [
             1,
             "#276419"
            ]
           ],
           "sequential": [
            [
             0,
             "#0d0887"
            ],
            [
             0.1111111111111111,
             "#46039f"
            ],
            [
             0.2222222222222222,
             "#7201a8"
            ],
            [
             0.3333333333333333,
             "#9c179e"
            ],
            [
             0.4444444444444444,
             "#bd3786"
            ],
            [
             0.5555555555555556,
             "#d8576b"
            ],
            [
             0.6666666666666666,
             "#ed7953"
            ],
            [
             0.7777777777777778,
             "#fb9f3a"
            ],
            [
             0.8888888888888888,
             "#fdca26"
            ],
            [
             1,
             "#f0f921"
            ]
           ],
           "sequentialminus": [
            [
             0,
             "#0d0887"
            ],
            [
             0.1111111111111111,
             "#46039f"
            ],
            [
             0.2222222222222222,
             "#7201a8"
            ],
            [
             0.3333333333333333,
             "#9c179e"
            ],
            [
             0.4444444444444444,
             "#bd3786"
            ],
            [
             0.5555555555555556,
             "#d8576b"
            ],
            [
             0.6666666666666666,
             "#ed7953"
            ],
            [
             0.7777777777777778,
             "#fb9f3a"
            ],
            [
             0.8888888888888888,
             "#fdca26"
            ],
            [
             1,
             "#f0f921"
            ]
           ]
          },
          "colorway": [
           "#636efa",
           "#EF553B",
           "#00cc96",
           "#ab63fa",
           "#FFA15A",
           "#19d3f3",
           "#FF6692",
           "#B6E880",
           "#FF97FF",
           "#FECB52"
          ],
          "font": {
           "color": "#2a3f5f"
          },
          "geo": {
           "bgcolor": "white",
           "lakecolor": "white",
           "landcolor": "#E5ECF6",
           "showlakes": true,
           "showland": true,
           "subunitcolor": "white"
          },
          "hoverlabel": {
           "align": "left"
          },
          "hovermode": "closest",
          "mapbox": {
           "style": "light"
          },
          "paper_bgcolor": "white",
          "plot_bgcolor": "#E5ECF6",
          "polar": {
           "angularaxis": {
            "gridcolor": "white",
            "linecolor": "white",
            "ticks": ""
           },
           "bgcolor": "#E5ECF6",
           "radialaxis": {
            "gridcolor": "white",
            "linecolor": "white",
            "ticks": ""
           }
          },
          "scene": {
           "xaxis": {
            "backgroundcolor": "#E5ECF6",
            "gridcolor": "white",
            "gridwidth": 2,
            "linecolor": "white",
            "showbackground": true,
            "ticks": "",
            "zerolinecolor": "white"
           },
           "yaxis": {
            "backgroundcolor": "#E5ECF6",
            "gridcolor": "white",
            "gridwidth": 2,
            "linecolor": "white",
            "showbackground": true,
            "ticks": "",
            "zerolinecolor": "white"
           },
           "zaxis": {
            "backgroundcolor": "#E5ECF6",
            "gridcolor": "white",
            "gridwidth": 2,
            "linecolor": "white",
            "showbackground": true,
            "ticks": "",
            "zerolinecolor": "white"
           }
          },
          "shapedefaults": {
           "line": {
            "color": "#2a3f5f"
           }
          },
          "ternary": {
           "aaxis": {
            "gridcolor": "white",
            "linecolor": "white",
            "ticks": ""
           },
           "baxis": {
            "gridcolor": "white",
            "linecolor": "white",
            "ticks": ""
           },
           "bgcolor": "#E5ECF6",
           "caxis": {
            "gridcolor": "white",
            "linecolor": "white",
            "ticks": ""
           }
          },
          "title": {
           "x": 0.05
          },
          "xaxis": {
           "automargin": true,
           "gridcolor": "white",
           "linecolor": "white",
           "ticks": "",
           "title": {
            "standoff": 15
           },
           "zerolinecolor": "white",
           "zerolinewidth": 2
          },
          "yaxis": {
           "automargin": true,
           "gridcolor": "white",
           "linecolor": "white",
           "ticks": "",
           "title": {
            "standoff": 15
           },
           "zerolinecolor": "white",
           "zerolinewidth": 2
          }
         }
        }
       }
      },
      "text/html": [
       "<div>                            <div id=\"4ba83bde-cead-4f5f-90e6-5f91ef416ec4\" class=\"plotly-graph-div\" style=\"height:525px; width:100%;\"></div>            <script type=\"text/javascript\">                require([\"plotly\"], function(Plotly) {                    window.PLOTLYENV=window.PLOTLYENV || {};                                    if (document.getElementById(\"4ba83bde-cead-4f5f-90e6-5f91ef416ec4\")) {                    Plotly.newPlot(                        \"4ba83bde-cead-4f5f-90e6-5f91ef416ec4\",                        [{\"branchvalues\": \"total\", \"domain\": {\"x\": [0.0, 1.0], \"y\": [0.0, 1.0]}, \"hovertemplate\": \"labels=%{label}<br>expenditure=%{value}<br>parent=%{parent}<br>id=%{id}<extra></extra>\", \"ids\": [\"1984/Alcoholic Beverages\", \"1985/Alcoholic Beverages\", \"1986/Alcoholic Beverages\", \"1987/Alcoholic Beverages\", \"1988/Alcoholic Beverages\", \"1989/Alcoholic Beverages\", \"1990/Alcoholic Beverages\", \"1991/Alcoholic Beverages\", \"1992/Alcoholic Beverages\", \"1993/Alcoholic Beverages\", \"1994/Alcoholic Beverages\", \"1995/Alcoholic Beverages\", \"1996/Alcoholic Beverages\", \"1997/Alcoholic Beverages\", \"1998/Alcoholic Beverages\", \"1999/Alcoholic Beverages\", \"2000/Alcoholic Beverages\", \"2001/Alcoholic Beverages\", \"2002/Alcoholic Beverages\", \"2003/Alcoholic Beverages\", \"2004/Alcoholic Beverages\", \"2005/Alcoholic Beverages\", \"2006/Alcoholic Beverages\", \"2007/Alcoholic Beverages\", \"2008/Alcoholic Beverages\", \"1984/Apparel\", \"1985/Apparel\", \"1986/Apparel\", \"1987/Apparel\", \"1988/Apparel\", \"1989/Apparel\", \"1990/Apparel\", \"1991/Apparel\", \"1992/Apparel\", \"1993/Apparel\", \"1994/Apparel\", \"1995/Apparel\", \"1996/Apparel\", \"1997/Apparel\", \"1998/Apparel\", \"1999/Apparel\", \"2000/Apparel\", \"2001/Apparel\", \"2002/Apparel\", \"2003/Apparel\", \"2004/Apparel\", \"2005/Apparel\", \"2006/Apparel\", \"2007/Apparel\", \"2008/Apparel\", \"1984/Cash Contributions\", \"1985/Cash Contributions\", \"1986/Cash Contributions\", \"1987/Cash Contributions\", \"1988/Cash Contributions\", \"1989/Cash Contributions\", \"1990/Cash Contributions\", \"1991/Cash Contributions\", \"1992/Cash Contributions\", \"1993/Cash Contributions\", \"1994/Cash Contributions\", \"1995/Cash Contributions\", \"1996/Cash Contributions\", \"1997/Cash Contributions\", \"1998/Cash Contributions\", \"1999/Cash Contributions\", \"2000/Cash Contributions\", \"2001/Cash Contributions\", \"2002/Cash Contributions\", \"2003/Cash Contributions\", \"2004/Cash Contributions\", \"2005/Cash Contributions\", \"2006/Cash Contributions\", \"2007/Cash Contributions\", \"2008/Cash Contributions\", \"1984/Education\", \"1985/Education\", \"1986/Education\", \"1987/Education\", \"1988/Education\", \"1989/Education\", \"1990/Education\", \"1991/Education\", \"1992/Education\", \"1993/Education\", \"1994/Education\", \"1995/Education\", \"1996/Education\", \"1997/Education\", \"1998/Education\", \"1999/Education\", \"2000/Education\", \"2001/Education\", \"2002/Education\", \"2003/Education\", \"2004/Education\", \"2005/Education\", \"2006/Education\", \"2007/Education\", \"2008/Education\", \"1984/Entertainment\", \"1985/Entertainment\", \"1986/Entertainment\", \"1987/Entertainment\", \"1988/Entertainment\", \"1989/Entertainment\", \"1990/Entertainment\", \"1991/Entertainment\", \"1992/Entertainment\", \"1993/Entertainment\", \"1994/Entertainment\", \"1995/Entertainment\", \"1996/Entertainment\", \"1997/Entertainment\", \"1998/Entertainment\", \"1999/Entertainment\", \"2000/Entertainment\", \"2001/Entertainment\", \"2002/Entertainment\", \"2003/Entertainment\", \"2004/Entertainment\", \"2005/Entertainment\", \"2006/Entertainment\", \"2007/Entertainment\", \"2008/Entertainment\", \"1984/Food\", \"1985/Food\", \"1986/Food\", \"1987/Food\", \"1988/Food\", \"1989/Food\", \"1990/Food\", \"1991/Food\", \"1992/Food\", \"1993/Food\", \"1994/Food\", \"1995/Food\", \"1996/Food\", \"1997/Food\", \"1998/Food\", \"1999/Food\", \"2000/Food\", \"2001/Food\", \"2002/Food\", \"2003/Food\", \"2004/Food\", \"2005/Food\", \"2006/Food\", \"2007/Food\", \"2008/Food\", \"1984/Healthcare\", \"1985/Healthcare\", \"1986/Healthcare\", \"1987/Healthcare\", \"1988/Healthcare\", \"1989/Healthcare\", \"1990/Healthcare\", \"1991/Healthcare\", \"1992/Healthcare\", \"1993/Healthcare\", \"1994/Healthcare\", \"1995/Healthcare\", \"1996/Healthcare\", \"1997/Healthcare\", \"1998/Healthcare\", \"1999/Healthcare\", \"2000/Healthcare\", \"2001/Healthcare\", \"2002/Healthcare\", \"2003/Healthcare\", \"2004/Healthcare\", \"2005/Healthcare\", \"2006/Healthcare\", \"2007/Healthcare\", \"2008/Healthcare\", \"1984/Housing\", \"1985/Housing\", \"1986/Housing\", \"1987/Housing\", \"1988/Housing\", \"1989/Housing\", \"1990/Housing\", \"1991/Housing\", \"1992/Housing\", \"1993/Housing\", \"1994/Housing\", \"1995/Housing\", \"1996/Housing\", \"1997/Housing\", \"1998/Housing\", \"1999/Housing\", \"2000/Housing\", \"2001/Housing\", \"2002/Housing\", \"2003/Housing\", \"2004/Housing\", \"2005/Housing\", \"2006/Housing\", \"2007/Housing\", \"2008/Housing\", \"1984/Miscellaneous\", \"1985/Miscellaneous\", \"1986/Miscellaneous\", \"1987/Miscellaneous\", \"1988/Miscellaneous\", \"1989/Miscellaneous\", \"1990/Miscellaneous\", \"1991/Miscellaneous\", \"1992/Miscellaneous\", \"1993/Miscellaneous\", \"1994/Miscellaneous\", \"1995/Miscellaneous\", \"1996/Miscellaneous\", \"1997/Miscellaneous\", \"1998/Miscellaneous\", \"1999/Miscellaneous\", \"2000/Miscellaneous\", \"2001/Miscellaneous\", \"2002/Miscellaneous\", \"2003/Miscellaneous\", \"2004/Miscellaneous\", \"2005/Miscellaneous\", \"2006/Miscellaneous\", \"2007/Miscellaneous\", \"2008/Miscellaneous\", \"1984/Personal Care\", \"1985/Personal Care\", \"1986/Personal Care\", \"1987/Personal Care\", \"1988/Personal Care\", \"1989/Personal Care\", \"1990/Personal Care\", \"1991/Personal Care\", \"1992/Personal Care\", \"1993/Personal Care\", \"1994/Personal Care\", \"1995/Personal Care\", \"1996/Personal Care\", \"1997/Personal Care\", \"1998/Personal Care\", \"1999/Personal Care\", \"2000/Personal Care\", \"2001/Personal Care\", \"2002/Personal Care\", \"2003/Personal Care\", \"2004/Personal Care\", \"2005/Personal Care\", \"2006/Personal Care\", \"2007/Personal Care\", \"2008/Personal Care\", \"1984/Personal Insurance\", \"1985/Personal Insurance\", \"1986/Personal Insurance\", \"1987/Personal Insurance\", \"1988/Personal Insurance\", \"1989/Personal Insurance\", \"1990/Personal Insurance\", \"1991/Personal Insurance\", \"1992/Personal Insurance\", \"1993/Personal Insurance\", \"1994/Personal Insurance\", \"1995/Personal Insurance\", \"1996/Personal Insurance\", \"1997/Personal Insurance\", \"1998/Personal Insurance\", \"1999/Personal Insurance\", \"2000/Personal Insurance\", \"2001/Personal Insurance\", \"2002/Personal Insurance\", \"2003/Personal Insurance\", \"2004/Personal Insurance\", \"2005/Personal Insurance\", \"2006/Personal Insurance\", \"2007/Personal Insurance\", \"2008/Personal Insurance\", \"1984/Reading\", \"1985/Reading\", \"1986/Reading\", \"1987/Reading\", \"1988/Reading\", \"1989/Reading\", \"1990/Reading\", \"1991/Reading\", \"1992/Reading\", \"1993/Reading\", \"1994/Reading\", \"1995/Reading\", \"1996/Reading\", \"1997/Reading\", \"1998/Reading\", \"1999/Reading\", \"2000/Reading\", \"2001/Reading\", \"2002/Reading\", \"2003/Reading\", \"2004/Reading\", \"2005/Reading\", \"2006/Reading\", \"2007/Reading\", \"2008/Reading\", \"1984/Tobacco Products\", \"1985/Tobacco Products\", \"1986/Tobacco Products\", \"1987/Tobacco Products\", \"1988/Tobacco Products\", \"1989/Tobacco Products\", \"1990/Tobacco Products\", \"1991/Tobacco Products\", \"1992/Tobacco Products\", \"1993/Tobacco Products\", \"1994/Tobacco Products\", \"1995/Tobacco Products\", \"1996/Tobacco Products\", \"1997/Tobacco Products\", \"1998/Tobacco Products\", \"1999/Tobacco Products\", \"2000/Tobacco Products\", \"2001/Tobacco Products\", \"2002/Tobacco Products\", \"2003/Tobacco Products\", \"2004/Tobacco Products\", \"2005/Tobacco Products\", \"2006/Tobacco Products\", \"2007/Tobacco Products\", \"2008/Tobacco Products\", \"1984/Transportation\", \"1985/Transportation\", \"1986/Transportation\", \"1987/Transportation\", \"1988/Transportation\", \"1989/Transportation\", \"1990/Transportation\", \"1991/Transportation\", \"1992/Transportation\", \"1993/Transportation\", \"1994/Transportation\", \"1995/Transportation\", \"1996/Transportation\", \"1997/Transportation\", \"1998/Transportation\", \"1999/Transportation\", \"2000/Transportation\", \"2001/Transportation\", \"2002/Transportation\", \"2003/Transportation\", \"2004/Transportation\", \"2005/Transportation\", \"2006/Transportation\", \"2007/Transportation\", \"2008/Transportation\", \"1984\", \"1985\", \"1986\", \"1987\", \"1988\", \"1989\", \"1990\", \"1991\", \"1992\", \"1993\", \"1994\", \"1995\", \"1996\", \"1997\", \"1998\", \"1999\", \"2000\", \"2001\", \"2002\", \"2003\", \"2004\", \"2005\", \"2006\", \"2007\", \"2008\"], \"labels\": [\"Alcoholic Beverages\", \"Alcoholic Beverages\", \"Alcoholic Beverages\", \"Alcoholic Beverages\", \"Alcoholic Beverages\", \"Alcoholic Beverages\", \"Alcoholic Beverages\", \"Alcoholic Beverages\", \"Alcoholic Beverages\", \"Alcoholic Beverages\", \"Alcoholic Beverages\", \"Alcoholic Beverages\", \"Alcoholic Beverages\", \"Alcoholic Beverages\", \"Alcoholic Beverages\", \"Alcoholic Beverages\", \"Alcoholic Beverages\", \"Alcoholic Beverages\", \"Alcoholic Beverages\", \"Alcoholic Beverages\", \"Alcoholic Beverages\", \"Alcoholic Beverages\", \"Alcoholic Beverages\", \"Alcoholic Beverages\", \"Alcoholic Beverages\", \"Apparel\", \"Apparel\", \"Apparel\", \"Apparel\", \"Apparel\", \"Apparel\", \"Apparel\", \"Apparel\", \"Apparel\", \"Apparel\", \"Apparel\", \"Apparel\", \"Apparel\", \"Apparel\", \"Apparel\", \"Apparel\", \"Apparel\", \"Apparel\", \"Apparel\", \"Apparel\", \"Apparel\", \"Apparel\", \"Apparel\", \"Apparel\", \"Apparel\", \"Cash Contributions\", \"Cash Contributions\", \"Cash Contributions\", \"Cash Contributions\", \"Cash Contributions\", \"Cash Contributions\", \"Cash Contributions\", \"Cash Contributions\", \"Cash Contributions\", \"Cash Contributions\", \"Cash Contributions\", \"Cash Contributions\", \"Cash Contributions\", \"Cash Contributions\", \"Cash Contributions\", \"Cash Contributions\", \"Cash Contributions\", \"Cash Contributions\", \"Cash Contributions\", \"Cash Contributions\", \"Cash Contributions\", \"Cash Contributions\", \"Cash Contributions\", \"Cash Contributions\", \"Cash Contributions\", \"Education\", \"Education\", \"Education\", \"Education\", \"Education\", \"Education\", \"Education\", \"Education\", \"Education\", \"Education\", \"Education\", \"Education\", \"Education\", \"Education\", \"Education\", \"Education\", \"Education\", \"Education\", \"Education\", \"Education\", \"Education\", \"Education\", \"Education\", \"Education\", \"Education\", \"Entertainment\", \"Entertainment\", \"Entertainment\", \"Entertainment\", \"Entertainment\", \"Entertainment\", \"Entertainment\", \"Entertainment\", \"Entertainment\", \"Entertainment\", \"Entertainment\", \"Entertainment\", \"Entertainment\", \"Entertainment\", \"Entertainment\", \"Entertainment\", \"Entertainment\", \"Entertainment\", \"Entertainment\", \"Entertainment\", \"Entertainment\", \"Entertainment\", \"Entertainment\", \"Entertainment\", \"Entertainment\", \"Food\", \"Food\", \"Food\", \"Food\", \"Food\", \"Food\", \"Food\", \"Food\", \"Food\", \"Food\", \"Food\", \"Food\", \"Food\", \"Food\", \"Food\", \"Food\", \"Food\", \"Food\", \"Food\", \"Food\", \"Food\", \"Food\", \"Food\", \"Food\", \"Food\", \"Healthcare\", \"Healthcare\", \"Healthcare\", \"Healthcare\", \"Healthcare\", \"Healthcare\", \"Healthcare\", \"Healthcare\", \"Healthcare\", \"Healthcare\", \"Healthcare\", \"Healthcare\", \"Healthcare\", \"Healthcare\", \"Healthcare\", \"Healthcare\", \"Healthcare\", \"Healthcare\", \"Healthcare\", \"Healthcare\", \"Healthcare\", \"Healthcare\", \"Healthcare\", \"Healthcare\", \"Healthcare\", \"Housing\", \"Housing\", \"Housing\", \"Housing\", \"Housing\", \"Housing\", \"Housing\", \"Housing\", \"Housing\", \"Housing\", \"Housing\", \"Housing\", \"Housing\", \"Housing\", \"Housing\", \"Housing\", \"Housing\", \"Housing\", \"Housing\", \"Housing\", \"Housing\", \"Housing\", \"Housing\", \"Housing\", \"Housing\", \"Miscellaneous\", \"Miscellaneous\", \"Miscellaneous\", \"Miscellaneous\", \"Miscellaneous\", \"Miscellaneous\", \"Miscellaneous\", \"Miscellaneous\", \"Miscellaneous\", \"Miscellaneous\", \"Miscellaneous\", \"Miscellaneous\", \"Miscellaneous\", \"Miscellaneous\", \"Miscellaneous\", \"Miscellaneous\", \"Miscellaneous\", \"Miscellaneous\", \"Miscellaneous\", \"Miscellaneous\", \"Miscellaneous\", \"Miscellaneous\", \"Miscellaneous\", \"Miscellaneous\", \"Miscellaneous\", \"Personal Care\", \"Personal Care\", \"Personal Care\", \"Personal Care\", \"Personal Care\", \"Personal Care\", \"Personal Care\", \"Personal Care\", \"Personal Care\", \"Personal Care\", \"Personal Care\", \"Personal Care\", \"Personal Care\", \"Personal Care\", \"Personal Care\", \"Personal Care\", \"Personal Care\", \"Personal Care\", \"Personal Care\", \"Personal Care\", \"Personal Care\", \"Personal Care\", \"Personal Care\", \"Personal Care\", \"Personal Care\", \"Personal Insurance\", \"Personal Insurance\", \"Personal Insurance\", \"Personal Insurance\", \"Personal Insurance\", \"Personal Insurance\", \"Personal Insurance\", \"Personal Insurance\", \"Personal Insurance\", \"Personal Insurance\", \"Personal Insurance\", \"Personal Insurance\", \"Personal Insurance\", \"Personal Insurance\", \"Personal Insurance\", \"Personal Insurance\", \"Personal Insurance\", \"Personal Insurance\", \"Personal Insurance\", \"Personal Insurance\", \"Personal Insurance\", \"Personal Insurance\", \"Personal Insurance\", \"Personal Insurance\", \"Personal Insurance\", \"Reading\", \"Reading\", \"Reading\", \"Reading\", \"Reading\", \"Reading\", \"Reading\", \"Reading\", \"Reading\", \"Reading\", \"Reading\", \"Reading\", \"Reading\", \"Reading\", \"Reading\", \"Reading\", \"Reading\", \"Reading\", \"Reading\", \"Reading\", \"Reading\", \"Reading\", \"Reading\", \"Reading\", \"Reading\", \"Tobacco Products\", \"Tobacco Products\", \"Tobacco Products\", \"Tobacco Products\", \"Tobacco Products\", \"Tobacco Products\", \"Tobacco Products\", \"Tobacco Products\", \"Tobacco Products\", \"Tobacco Products\", \"Tobacco Products\", \"Tobacco Products\", \"Tobacco Products\", \"Tobacco Products\", \"Tobacco Products\", \"Tobacco Products\", \"Tobacco Products\", \"Tobacco Products\", \"Tobacco Products\", \"Tobacco Products\", \"Tobacco Products\", \"Tobacco Products\", \"Tobacco Products\", \"Tobacco Products\", \"Tobacco Products\", \"Transportation\", \"Transportation\", \"Transportation\", \"Transportation\", \"Transportation\", \"Transportation\", \"Transportation\", \"Transportation\", \"Transportation\", \"Transportation\", \"Transportation\", \"Transportation\", \"Transportation\", \"Transportation\", \"Transportation\", \"Transportation\", \"Transportation\", \"Transportation\", \"Transportation\", \"Transportation\", \"Transportation\", \"Transportation\", \"Transportation\", \"Transportation\", \"Transportation\", \"1984\", \"1985\", \"1986\", \"1987\", \"1988\", \"1989\", \"1990\", \"1991\", \"1992\", \"1993\", \"1994\", \"1995\", \"1996\", \"1997\", \"1998\", \"1999\", \"2000\", \"2001\", \"2002\", \"2003\", \"2004\", \"2005\", \"2006\", \"2007\", \"2008\"], \"name\": \"\", \"parents\": [\"1984\", \"1985\", \"1986\", \"1987\", \"1988\", \"1989\", \"1990\", \"1991\", \"1992\", \"1993\", \"1994\", \"1995\", \"1996\", \"1997\", \"1998\", \"1999\", \"2000\", \"2001\", \"2002\", \"2003\", \"2004\", \"2005\", \"2006\", \"2007\", \"2008\", \"1984\", \"1985\", \"1986\", \"1987\", \"1988\", \"1989\", \"1990\", \"1991\", \"1992\", \"1993\", \"1994\", \"1995\", \"1996\", \"1997\", \"1998\", \"1999\", \"2000\", \"2001\", \"2002\", \"2003\", \"2004\", \"2005\", \"2006\", \"2007\", \"2008\", \"1984\", \"1985\", \"1986\", \"1987\", \"1988\", \"1989\", \"1990\", \"1991\", \"1992\", \"1993\", \"1994\", \"1995\", \"1996\", \"1997\", \"1998\", \"1999\", \"2000\", \"2001\", \"2002\", \"2003\", \"2004\", \"2005\", \"2006\", \"2007\", \"2008\", \"1984\", \"1985\", \"1986\", \"1987\", \"1988\", \"1989\", \"1990\", \"1991\", \"1992\", \"1993\", \"1994\", \"1995\", \"1996\", \"1997\", \"1998\", \"1999\", \"2000\", \"2001\", \"2002\", \"2003\", \"2004\", \"2005\", \"2006\", \"2007\", \"2008\", \"1984\", \"1985\", \"1986\", \"1987\", \"1988\", \"1989\", \"1990\", \"1991\", \"1992\", \"1993\", \"1994\", \"1995\", \"1996\", \"1997\", \"1998\", \"1999\", \"2000\", \"2001\", \"2002\", \"2003\", \"2004\", \"2005\", \"2006\", \"2007\", \"2008\", \"1984\", \"1985\", \"1986\", \"1987\", \"1988\", \"1989\", \"1990\", \"1991\", \"1992\", \"1993\", \"1994\", \"1995\", \"1996\", \"1997\", \"1998\", \"1999\", \"2000\", \"2001\", \"2002\", \"2003\", \"2004\", \"2005\", \"2006\", \"2007\", \"2008\", \"1984\", \"1985\", \"1986\", \"1987\", \"1988\", \"1989\", \"1990\", \"1991\", \"1992\", \"1993\", \"1994\", \"1995\", \"1996\", \"1997\", \"1998\", \"1999\", \"2000\", \"2001\", \"2002\", \"2003\", \"2004\", \"2005\", \"2006\", \"2007\", \"2008\", \"1984\", \"1985\", \"1986\", \"1987\", \"1988\", \"1989\", \"1990\", \"1991\", \"1992\", \"1993\", \"1994\", \"1995\", \"1996\", \"1997\", \"1998\", \"1999\", \"2000\", \"2001\", \"2002\", \"2003\", \"2004\", \"2005\", \"2006\", \"2007\", \"2008\", \"1984\", \"1985\", \"1986\", \"1987\", \"1988\", \"1989\", \"1990\", \"1991\", \"1992\", \"1993\", \"1994\", \"1995\", \"1996\", \"1997\", \"1998\", \"1999\", \"2000\", \"2001\", \"2002\", \"2003\", \"2004\", \"2005\", \"2006\", \"2007\", \"2008\", \"1984\", \"1985\", \"1986\", \"1987\", \"1988\", \"1989\", \"1990\", \"1991\", \"1992\", \"1993\", \"1994\", \"1995\", \"1996\", \"1997\", \"1998\", \"1999\", \"2000\", \"2001\", \"2002\", \"2003\", \"2004\", \"2005\", \"2006\", \"2007\", \"2008\", \"1984\", \"1985\", \"1986\", \"1987\", \"1988\", \"1989\", \"1990\", \"1991\", \"1992\", \"1993\", \"1994\", \"1995\", \"1996\", \"1997\", \"1998\", \"1999\", \"2000\", \"2001\", \"2002\", \"2003\", \"2004\", \"2005\", \"2006\", \"2007\", \"2008\", \"1984\", \"1985\", \"1986\", \"1987\", \"1988\", \"1989\", \"1990\", \"1991\", \"1992\", \"1993\", \"1994\", \"1995\", \"1996\", \"1997\", \"1998\", \"1999\", \"2000\", \"2001\", \"2002\", \"2003\", \"2004\", \"2005\", \"2006\", \"2007\", \"2008\", \"1984\", \"1985\", \"1986\", \"1987\", \"1988\", \"1989\", \"1990\", \"1991\", \"1992\", \"1993\", \"1994\", \"1995\", \"1996\", \"1997\", \"1998\", \"1999\", \"2000\", \"2001\", \"2002\", \"2003\", \"2004\", \"2005\", \"2006\", \"2007\", \"2008\", \"1984\", \"1985\", \"1986\", \"1987\", \"1988\", \"1989\", \"1990\", \"1991\", \"1992\", \"1993\", \"1994\", \"1995\", \"1996\", \"1997\", \"1998\", \"1999\", \"2000\", \"2001\", \"2002\", \"2003\", \"2004\", \"2005\", \"2006\", \"2007\", \"2008\", \"\", \"\", \"\", \"\", \"\", \"\", \"\", \"\", \"\", \"\", \"\", \"\", \"\", \"\", \"\", \"\", \"\", \"\", \"\", \"\", \"\", \"\", \"\", \"\", \"\"], \"type\": \"treemap\", \"values\": [275, 306, 271, 289, 269, 284, 293, 297, 301, 268, 278, 277, 309, 309, 309, 318, 372, 349, 376, 391, 459, 426, 497, 457, 444, 1319, 1420, 1346, 1446, 1489, 1582, 1618, 1735, 1710, 1676, 1644, 1704, 1752, 1729, 1674, 1743, 1856, 1743, 1749, 1640, 1816, 1886, 1874, 1881, 1801, 706, 805, 746, 741, 693, 900, 816, 950, 958, 961, 960, 925, 940, 1001, 1109, 1181, 1192, 1258, 1277, 1370, 1408, 1663, 1869, 1821, 1737, 303, 321, 314, 337, 342, 367, 406, 447, 426, 455, 460, 471, 524, 571, 580, 635, 632, 648, 752, 783, 905, 940, 888, 945, 1046, 1055, 1170, 1149, 1193, 1329, 1424, 1422, 1472, 1500, 1626, 1567, 1612, 1834, 1813, 1746, 1891, 1863, 1953, 2079, 2060, 2218, 2388, 2376, 2698, 2835, 3290, 3477, 3448, 3664, 3748, 4152, 4296, 4271, 4723, 4399, 4411, 4505, 4698, 4801, 4810, 5031, 5158, 5321, 5375, 5340, 5781, 5931, 6111, 6113, 6443, 1049, 1108, 1135, 1135, 1298, 1407, 1480, 1554, 1634, 1776, 1755, 1732, 1770, 1841, 1903, 1959, 2066, 2182, 2350, 2416, 2574, 2664, 2766, 2853, 2976, 6674, 7087, 7292, 7569, 8079, 8609, 8703, 9252, 9477, 9636, 10106, 10458, 10747, 11272, 11713, 12057, 12319, 13011, 13283, 13432, 13918, 15167, 16366, 16920, 17109, 451, 529, 522, 562, 578, 643, 842, 860, 765, 715, 749, 766, 855, 847, 860, 867, 776, 750, 792, 606, 690, 808, 846, 808, 840, 289, 303, 303, 330, 334, 366, 364, 399, 387, 385, 397, 403, 513, 528, 401, 408, 564, 485, 526, 527, 581, 541, 585, 588, 616, 1897, 2016, 2127, 2175, 2249, 2472, 2592, 2787, 2750, 2908, 2938, 2964, 3060, 3223, 3381, 3436, 3365, 3737, 3899, 4055, 4823, 5204, 5270, 5336, 5605, 132, 141, 140, 142, 150, 157, 153, 163, 162, 166, 165, 162, 159, 164, 161, 159, 146, 141, 139, 127, 130, 126, 117, 118, 116, 228, 219, 230, 232, 242, 261, 274, 276, 275, 268, 259, 269, 255, 264, 273, 300, 319, 308, 320, 290, 288, 319, 327, 323, 317, 4304, 4587, 4842, 4600, 5093, 5187, 5120, 5151, 5228, 5453, 6044, 6014, 6382, 6457, 6616, 7011, 7417, 7633, 7759, 7781, 7801, 8344, 8508, 8758, 8604, 21972, 23489, 23865, 24415, 25893, 27811, 28379, 29614, 30296, 30692, 31733, 32262, 33798, 34820, 35536, 36996, 38045, 39519, 40676, 40818, 43392, 46407, 48400, 49619, 50489]}],                        {\"legend\": {\"tracegroupgap\": 0}, \"margin\": {\"t\": 60}, \"template\": {\"data\": {\"bar\": [{\"error_x\": {\"color\": \"#2a3f5f\"}, \"error_y\": {\"color\": \"#2a3f5f\"}, \"marker\": {\"line\": {\"color\": \"#E5ECF6\", \"width\": 0.5}}, \"type\": \"bar\"}], \"barpolar\": [{\"marker\": {\"line\": {\"color\": \"#E5ECF6\", \"width\": 0.5}}, \"type\": \"barpolar\"}], \"carpet\": [{\"aaxis\": {\"endlinecolor\": \"#2a3f5f\", \"gridcolor\": \"white\", \"linecolor\": \"white\", \"minorgridcolor\": \"white\", \"startlinecolor\": \"#2a3f5f\"}, \"baxis\": {\"endlinecolor\": \"#2a3f5f\", \"gridcolor\": \"white\", \"linecolor\": \"white\", \"minorgridcolor\": \"white\", \"startlinecolor\": \"#2a3f5f\"}, \"type\": \"carpet\"}], \"choropleth\": [{\"colorbar\": {\"outlinewidth\": 0, \"ticks\": \"\"}, \"type\": \"choropleth\"}], \"contour\": [{\"colorbar\": {\"outlinewidth\": 0, \"ticks\": \"\"}, \"colorscale\": [[0.0, \"#0d0887\"], [0.1111111111111111, \"#46039f\"], [0.2222222222222222, \"#7201a8\"], [0.3333333333333333, \"#9c179e\"], [0.4444444444444444, \"#bd3786\"], [0.5555555555555556, \"#d8576b\"], [0.6666666666666666, \"#ed7953\"], [0.7777777777777778, \"#fb9f3a\"], [0.8888888888888888, \"#fdca26\"], [1.0, \"#f0f921\"]], \"type\": \"contour\"}], \"contourcarpet\": [{\"colorbar\": {\"outlinewidth\": 0, \"ticks\": \"\"}, \"type\": \"contourcarpet\"}], \"heatmap\": [{\"colorbar\": {\"outlinewidth\": 0, \"ticks\": \"\"}, \"colorscale\": [[0.0, \"#0d0887\"], [0.1111111111111111, \"#46039f\"], [0.2222222222222222, \"#7201a8\"], [0.3333333333333333, \"#9c179e\"], [0.4444444444444444, \"#bd3786\"], [0.5555555555555556, \"#d8576b\"], [0.6666666666666666, \"#ed7953\"], [0.7777777777777778, \"#fb9f3a\"], [0.8888888888888888, \"#fdca26\"], [1.0, \"#f0f921\"]], \"type\": \"heatmap\"}], \"heatmapgl\": [{\"colorbar\": {\"outlinewidth\": 0, \"ticks\": \"\"}, \"colorscale\": [[0.0, \"#0d0887\"], [0.1111111111111111, \"#46039f\"], [0.2222222222222222, \"#7201a8\"], [0.3333333333333333, \"#9c179e\"], [0.4444444444444444, \"#bd3786\"], [0.5555555555555556, \"#d8576b\"], [0.6666666666666666, \"#ed7953\"], [0.7777777777777778, \"#fb9f3a\"], [0.8888888888888888, \"#fdca26\"], [1.0, \"#f0f921\"]], \"type\": \"heatmapgl\"}], \"histogram\": [{\"marker\": {\"colorbar\": {\"outlinewidth\": 0, \"ticks\": \"\"}}, \"type\": \"histogram\"}], \"histogram2d\": [{\"colorbar\": {\"outlinewidth\": 0, \"ticks\": \"\"}, \"colorscale\": [[0.0, \"#0d0887\"], [0.1111111111111111, \"#46039f\"], [0.2222222222222222, \"#7201a8\"], [0.3333333333333333, \"#9c179e\"], [0.4444444444444444, \"#bd3786\"], [0.5555555555555556, \"#d8576b\"], [0.6666666666666666, \"#ed7953\"], [0.7777777777777778, \"#fb9f3a\"], [0.8888888888888888, \"#fdca26\"], [1.0, \"#f0f921\"]], \"type\": \"histogram2d\"}], \"histogram2dcontour\": [{\"colorbar\": {\"outlinewidth\": 0, \"ticks\": \"\"}, \"colorscale\": [[0.0, \"#0d0887\"], [0.1111111111111111, \"#46039f\"], [0.2222222222222222, \"#7201a8\"], [0.3333333333333333, \"#9c179e\"], [0.4444444444444444, \"#bd3786\"], [0.5555555555555556, \"#d8576b\"], [0.6666666666666666, \"#ed7953\"], [0.7777777777777778, \"#fb9f3a\"], [0.8888888888888888, \"#fdca26\"], [1.0, \"#f0f921\"]], \"type\": \"histogram2dcontour\"}], \"mesh3d\": [{\"colorbar\": {\"outlinewidth\": 0, \"ticks\": \"\"}, \"type\": \"mesh3d\"}], \"parcoords\": [{\"line\": {\"colorbar\": {\"outlinewidth\": 0, \"ticks\": \"\"}}, \"type\": \"parcoords\"}], \"pie\": [{\"automargin\": true, \"type\": \"pie\"}], \"scatter\": [{\"marker\": {\"colorbar\": {\"outlinewidth\": 0, \"ticks\": \"\"}}, \"type\": \"scatter\"}], \"scatter3d\": [{\"line\": {\"colorbar\": {\"outlinewidth\": 0, \"ticks\": \"\"}}, \"marker\": {\"colorbar\": {\"outlinewidth\": 0, \"ticks\": \"\"}}, \"type\": \"scatter3d\"}], \"scattercarpet\": [{\"marker\": {\"colorbar\": {\"outlinewidth\": 0, \"ticks\": \"\"}}, \"type\": \"scattercarpet\"}], \"scattergeo\": [{\"marker\": {\"colorbar\": {\"outlinewidth\": 0, \"ticks\": \"\"}}, \"type\": \"scattergeo\"}], \"scattergl\": [{\"marker\": {\"colorbar\": {\"outlinewidth\": 0, \"ticks\": \"\"}}, \"type\": \"scattergl\"}], \"scattermapbox\": [{\"marker\": {\"colorbar\": {\"outlinewidth\": 0, \"ticks\": \"\"}}, \"type\": \"scattermapbox\"}], \"scatterpolar\": [{\"marker\": {\"colorbar\": {\"outlinewidth\": 0, \"ticks\": \"\"}}, \"type\": \"scatterpolar\"}], \"scatterpolargl\": [{\"marker\": {\"colorbar\": {\"outlinewidth\": 0, \"ticks\": \"\"}}, \"type\": \"scatterpolargl\"}], \"scatterternary\": [{\"marker\": {\"colorbar\": {\"outlinewidth\": 0, \"ticks\": \"\"}}, \"type\": \"scatterternary\"}], \"surface\": [{\"colorbar\": {\"outlinewidth\": 0, \"ticks\": \"\"}, \"colorscale\": [[0.0, \"#0d0887\"], [0.1111111111111111, \"#46039f\"], [0.2222222222222222, \"#7201a8\"], [0.3333333333333333, \"#9c179e\"], [0.4444444444444444, \"#bd3786\"], [0.5555555555555556, \"#d8576b\"], [0.6666666666666666, \"#ed7953\"], [0.7777777777777778, \"#fb9f3a\"], [0.8888888888888888, \"#fdca26\"], [1.0, \"#f0f921\"]], \"type\": \"surface\"}], \"table\": [{\"cells\": {\"fill\": {\"color\": \"#EBF0F8\"}, \"line\": {\"color\": \"white\"}}, \"header\": {\"fill\": {\"color\": \"#C8D4E3\"}, \"line\": {\"color\": \"white\"}}, \"type\": \"table\"}]}, \"layout\": {\"annotationdefaults\": {\"arrowcolor\": \"#2a3f5f\", \"arrowhead\": 0, \"arrowwidth\": 1}, \"autotypenumbers\": \"strict\", \"coloraxis\": {\"colorbar\": {\"outlinewidth\": 0, \"ticks\": \"\"}}, \"colorscale\": {\"diverging\": [[0, \"#8e0152\"], [0.1, \"#c51b7d\"], [0.2, \"#de77ae\"], [0.3, \"#f1b6da\"], [0.4, \"#fde0ef\"], [0.5, \"#f7f7f7\"], [0.6, \"#e6f5d0\"], [0.7, \"#b8e186\"], [0.8, \"#7fbc41\"], [0.9, \"#4d9221\"], [1, \"#276419\"]], \"sequential\": [[0.0, \"#0d0887\"], [0.1111111111111111, \"#46039f\"], [0.2222222222222222, \"#7201a8\"], [0.3333333333333333, \"#9c179e\"], [0.4444444444444444, \"#bd3786\"], [0.5555555555555556, \"#d8576b\"], [0.6666666666666666, \"#ed7953\"], [0.7777777777777778, \"#fb9f3a\"], [0.8888888888888888, \"#fdca26\"], [1.0, \"#f0f921\"]], \"sequentialminus\": [[0.0, \"#0d0887\"], [0.1111111111111111, \"#46039f\"], [0.2222222222222222, \"#7201a8\"], [0.3333333333333333, \"#9c179e\"], [0.4444444444444444, \"#bd3786\"], [0.5555555555555556, \"#d8576b\"], [0.6666666666666666, \"#ed7953\"], [0.7777777777777778, \"#fb9f3a\"], [0.8888888888888888, \"#fdca26\"], [1.0, \"#f0f921\"]]}, \"colorway\": [\"#636efa\", \"#EF553B\", \"#00cc96\", \"#ab63fa\", \"#FFA15A\", \"#19d3f3\", \"#FF6692\", \"#B6E880\", \"#FF97FF\", \"#FECB52\"], \"font\": {\"color\": \"#2a3f5f\"}, \"geo\": {\"bgcolor\": \"white\", \"lakecolor\": \"white\", \"landcolor\": \"#E5ECF6\", \"showlakes\": true, \"showland\": true, \"subunitcolor\": \"white\"}, \"hoverlabel\": {\"align\": \"left\"}, \"hovermode\": \"closest\", \"mapbox\": {\"style\": \"light\"}, \"paper_bgcolor\": \"white\", \"plot_bgcolor\": \"#E5ECF6\", \"polar\": {\"angularaxis\": {\"gridcolor\": \"white\", \"linecolor\": \"white\", \"ticks\": \"\"}, \"bgcolor\": \"#E5ECF6\", \"radialaxis\": {\"gridcolor\": \"white\", \"linecolor\": \"white\", \"ticks\": \"\"}}, \"scene\": {\"xaxis\": {\"backgroundcolor\": \"#E5ECF6\", \"gridcolor\": \"white\", \"gridwidth\": 2, \"linecolor\": \"white\", \"showbackground\": true, \"ticks\": \"\", \"zerolinecolor\": \"white\"}, \"yaxis\": {\"backgroundcolor\": \"#E5ECF6\", \"gridcolor\": \"white\", \"gridwidth\": 2, \"linecolor\": \"white\", \"showbackground\": true, \"ticks\": \"\", \"zerolinecolor\": \"white\"}, \"zaxis\": {\"backgroundcolor\": \"#E5ECF6\", \"gridcolor\": \"white\", \"gridwidth\": 2, \"linecolor\": \"white\", \"showbackground\": true, \"ticks\": \"\", \"zerolinecolor\": \"white\"}}, \"shapedefaults\": {\"line\": {\"color\": \"#2a3f5f\"}}, \"ternary\": {\"aaxis\": {\"gridcolor\": \"white\", \"linecolor\": \"white\", \"ticks\": \"\"}, \"baxis\": {\"gridcolor\": \"white\", \"linecolor\": \"white\", \"ticks\": \"\"}, \"bgcolor\": \"#E5ECF6\", \"caxis\": {\"gridcolor\": \"white\", \"linecolor\": \"white\", \"ticks\": \"\"}}, \"title\": {\"x\": 0.05}, \"xaxis\": {\"automargin\": true, \"gridcolor\": \"white\", \"linecolor\": \"white\", \"ticks\": \"\", \"title\": {\"standoff\": 15}, \"zerolinecolor\": \"white\", \"zerolinewidth\": 2}, \"yaxis\": {\"automargin\": true, \"gridcolor\": \"white\", \"linecolor\": \"white\", \"ticks\": \"\", \"title\": {\"standoff\": 15}, \"zerolinecolor\": \"white\", \"zerolinewidth\": 2}}}},                        {\"responsive\": true}                    ).then(function(){\n",
       "                            \n",
       "var gd = document.getElementById('4ba83bde-cead-4f5f-90e6-5f91ef416ec4');\n",
       "var x = new MutationObserver(function (mutations, observer) {{\n",
       "        var display = window.getComputedStyle(gd).display;\n",
       "        if (!display || display === 'none') {{\n",
       "            console.log([gd, 'removed!']);\n",
       "            Plotly.purge(gd);\n",
       "            observer.disconnect();\n",
       "        }}\n",
       "}});\n",
       "\n",
       "// Listen for the removal of the full notebook cells\n",
       "var notebookContainer = gd.closest('#notebook-container');\n",
       "if (notebookContainer) {{\n",
       "    x.observe(notebookContainer, {childList: true});\n",
       "}}\n",
       "\n",
       "// Listen for the clearing of the current output cell\n",
       "var outputEl = gd.closest('.output');\n",
       "if (outputEl) {{\n",
       "    x.observe(outputEl, {childList: true});\n",
       "}}\n",
       "\n",
       "                        })                };                });            </script>        </div>"
      ]
     },
     "metadata": {},
     "output_type": "display_data"
    }
   ],
   "source": [
    "import plotly.express as px\n",
    "fig = px.treemap(df_exp, \n",
    "                 path=['year', 'category'], \n",
    "                 values='expenditure'\n",
    "                 #,color='NA_Sales'\n",
    "                )\n",
    "fig.show()"
   ]
  },
  {
   "cell_type": "code",
   "execution_count": null,
   "id": "a39eb90e",
   "metadata": {},
   "outputs": [],
   "source": []
  }
 ],
 "metadata": {
  "kernelspec": {
   "display_name": "Python 3",
   "language": "python",
   "name": "python3"
  },
  "language_info": {
   "codemirror_mode": {
    "name": "ipython",
    "version": 3
   },
   "file_extension": ".py",
   "mimetype": "text/x-python",
   "name": "python",
   "nbconvert_exporter": "python",
   "pygments_lexer": "ipython3",
   "version": "3.8.2"
  }
 },
 "nbformat": 4,
 "nbformat_minor": 5
}
